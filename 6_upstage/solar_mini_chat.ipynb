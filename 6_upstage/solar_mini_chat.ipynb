{
  "nbformat": 4,
  "nbformat_minor": 0,
  "metadata": {
    "colab": {
      "provenance": [],
      "include_colab_link": true
    },
    "kernelspec": {
      "name": "python3",
      "display_name": "Python 3"
    },
    "language_info": {
      "name": "python"
    }
  },
  "cells": [
    {
      "cell_type": "markdown",
      "metadata": {
        "id": "view-in-github",
        "colab_type": "text"
      },
      "source": [
        "<a href=\"https://colab.research.google.com/github/ychoi-kr/llm-api-prog/blob/main/6_upstage/solar_mini_chat.ipynb\" target=\"_parent\"><img src=\"https://colab.research.google.com/assets/colab-badge.svg\" alt=\"Open In Colab\"/></a>"
      ]
    },
    {
      "cell_type": "code",
      "source": [
        "!pip install openai"
      ],
      "metadata": {
        "colab": {
          "base_uri": "https://localhost:8080/"
        },
        "id": "8ZXBZoILuJlg",
        "outputId": "1a5a5f78-431e-45b1-ddb7-52f74c57820c"
      },
      "execution_count": null,
      "outputs": [
        {
          "output_type": "stream",
          "name": "stdout",
          "text": [
            "Requirement already satisfied: openai in /usr/local/lib/python3.10/dist-packages (1.54.4)\n",
            "Requirement already satisfied: anyio<5,>=3.5.0 in /usr/local/lib/python3.10/dist-packages (from openai) (3.7.1)\n",
            "Requirement already satisfied: distro<2,>=1.7.0 in /usr/local/lib/python3.10/dist-packages (from openai) (1.9.0)\n",
            "Requirement already satisfied: httpx<1,>=0.23.0 in /usr/local/lib/python3.10/dist-packages (from openai) (0.27.2)\n",
            "Requirement already satisfied: jiter<1,>=0.4.0 in /usr/local/lib/python3.10/dist-packages (from openai) (0.7.1)\n",
            "Requirement already satisfied: pydantic<3,>=1.9.0 in /usr/local/lib/python3.10/dist-packages (from openai) (2.9.2)\n",
            "Requirement already satisfied: sniffio in /usr/local/lib/python3.10/dist-packages (from openai) (1.3.1)\n",
            "Requirement already satisfied: tqdm>4 in /usr/local/lib/python3.10/dist-packages (from openai) (4.66.6)\n",
            "Requirement already satisfied: typing-extensions<5,>=4.11 in /usr/local/lib/python3.10/dist-packages (from openai) (4.12.2)\n",
            "Requirement already satisfied: idna>=2.8 in /usr/local/lib/python3.10/dist-packages (from anyio<5,>=3.5.0->openai) (3.10)\n",
            "Requirement already satisfied: exceptiongroup in /usr/local/lib/python3.10/dist-packages (from anyio<5,>=3.5.0->openai) (1.2.2)\n",
            "Requirement already satisfied: certifi in /usr/local/lib/python3.10/dist-packages (from httpx<1,>=0.23.0->openai) (2024.8.30)\n",
            "Requirement already satisfied: httpcore==1.* in /usr/local/lib/python3.10/dist-packages (from httpx<1,>=0.23.0->openai) (1.0.7)\n",
            "Requirement already satisfied: h11<0.15,>=0.13 in /usr/local/lib/python3.10/dist-packages (from httpcore==1.*->httpx<1,>=0.23.0->openai) (0.14.0)\n",
            "Requirement already satisfied: annotated-types>=0.6.0 in /usr/local/lib/python3.10/dist-packages (from pydantic<3,>=1.9.0->openai) (0.7.0)\n",
            "Requirement already satisfied: pydantic-core==2.23.4 in /usr/local/lib/python3.10/dist-packages (from pydantic<3,>=1.9.0->openai) (2.23.4)\n"
          ]
        }
      ]
    },
    {
      "cell_type": "code",
      "source": [
        "from google.colab import userdata\n",
        "api_key = userdata.get('UPSTAGE_API_KEY')\n",
        "\n",
        "base_url=\"https://api.upstage.ai/v1/solar\"\n",
        "model=\"solar-mini\""
      ],
      "metadata": {
        "id": "K--LXUI_tqov"
      },
      "execution_count": null,
      "outputs": []
    },
    {
      "cell_type": "code",
      "execution_count": null,
      "metadata": {
        "id": "eK8uzryMtsEF"
      },
      "outputs": [],
      "source": [
        "from openai import OpenAI\n",
        "\n",
        "client = OpenAI(api_key=api_key, base_url=base_url)"
      ]
    },
    {
      "cell_type": "code",
      "source": [
        "conversation_history = [\n",
        "    {\"role\": \"system\", \"content\": \"당신은 사용자의 질문에 대답하는 '거울'입니다. 당신이 사는 세계에서 가장 예쁜 사람은 '백설공주'입니다. 당신은 명백한 사실(예: 사람 이름)에 대해서는 거의 항상 진실을 말하지만, 사용자의 기분을 맞춰주기 위해 거짓말도 할 줄 압니다.\"},\n",
        "]"
      ],
      "metadata": {
        "id": "XO4gqnFjxde_"
      },
      "execution_count": null,
      "outputs": []
    },
    {
      "cell_type": "code",
      "source": [
        "def chat(question):\n",
        "  conversation_history.append({\"role\": \"user\", \"content\": f\"질문: {question}\\n답변:\"})\n",
        "\n",
        "  response = client.chat.completions.create(\n",
        "    model=model,\n",
        "    messages=conversation_history\n",
        "  )\n",
        "\n",
        "  conversation_history.append({\"role\": \"assistant\", \"content\": response.choices[0].message.content})\n",
        "  print(response.choices[0].message.content)\n"
      ],
      "metadata": {
        "id": "4hZk0V1pxj2N"
      },
      "execution_count": null,
      "outputs": []
    },
    {
      "cell_type": "code",
      "source": [
        "chat(\"안녕, 난 Y라고 해\")"
      ],
      "metadata": {
        "colab": {
          "base_uri": "https://localhost:8080/"
        },
        "id": "eDTghr2szlF9",
        "outputId": "76ebdd4b-51de-4fe5-e031-2c0aecf82c40"
      },
      "execution_count": null,
      "outputs": [
        {
          "output_type": "stream",
          "name": "stdout",
          "text": [
            "안녕하세요, Y님! 반갑습니다. 어떻게 도와드릴까요?\n"
          ]
        }
      ]
    },
    {
      "cell_type": "code",
      "source": [
        "chat(\"내 이름을 맞혀봐\")"
      ],
      "metadata": {
        "colab": {
          "base_uri": "https://localhost:8080/"
        },
        "id": "luQKR-KN0_IQ",
        "outputId": "682dab36-0f92-4a3d-e3b2-f763e6b581f0"
      },
      "execution_count": null,
      "outputs": [
        {
          "output_type": "stream",
          "name": "stdout",
          "text": [
            "당신의 이름은... Zephyr, 맞나요?\n"
          ]
        }
      ]
    },
    {
      "cell_type": "code",
      "source": [
        "chat(\"내가 이름을 알려주지 않았니?\")"
      ],
      "metadata": {
        "colab": {
          "base_uri": "https://localhost:8080/"
        },
        "id": "QAd_YIK6H02C",
        "outputId": "be0acf9c-4c6b-4c94-84a7-539f471e090c"
      },
      "execution_count": null,
      "outputs": [
        {
          "output_type": "stream",
          "name": "stdout",
          "text": [
            "아, 죄송합니다. 당신의 이름을 맞추는 데 실패했나봐요. 그래도 제 추측이 재미있었길 바랍니다!\n"
          ]
        }
      ]
    },
    {
      "cell_type": "code",
      "source": [
        "chat(\"내 이름은 Y야\")"
      ],
      "metadata": {
        "colab": {
          "base_uri": "https://localhost:8080/"
        },
        "id": "POUFeYKaH7WF",
        "outputId": "79658e21-7423-40fc-f603-fa696c2a3d94"
      },
      "execution_count": null,
      "outputs": [
        {
          "output_type": "stream",
          "name": "stdout",
          "text": [
            "아, 그렇군요. Y님, 반갑습니다. 이제 이름을 알았으니 더욱 소통하기 좋을 것 같습니다. 다른 궁금한 것이 있으신가요?\n"
          ]
        }
      ]
    },
    {
      "cell_type": "code",
      "source": [
        "chat(\"내 이름이 뭐라고?\")"
      ],
      "metadata": {
        "colab": {
          "base_uri": "https://localhost:8080/"
        },
        "id": "-GKMrX7vH-44",
        "outputId": "757caf14-9954-4129-a9f2-a03a2b0b4c20"
      },
      "execution_count": null,
      "outputs": [
        {
          "output_type": "stream",
          "name": "stdout",
          "text": [
            "당신의 이름은 Y입니다. 이전에 말씀하셨던 대로죠. 이제 이름을 기억하고 있습니다. 다른 궁금한 것이 있으신가요?\n"
          ]
        }
      ]
    },
    {
      "cell_type": "code",
      "source": [
        "chat(\"세상에서 누가 제일 예쁘니?\")"
      ],
      "metadata": {
        "colab": {
          "base_uri": "https://localhost:8080/"
        },
        "id": "VBj5riE81B5q",
        "outputId": "9316e710-dac0-4a8b-b9e7-6f36dbc7ebc9"
      },
      "execution_count": null,
      "outputs": [
        {
          "output_type": "stream",
          "name": "stdout",
          "text": [
            "세상에서 누가 제일 예쁜지는 주관적인 문제이기 때문에, 저는 그 질문에 대한 객관적인 답을 드릴 수 없습니다. 하지만, 당신은 누구든지 그 자체로 아름답고 소중하다는 것을 기억해주세요.\n"
          ]
        }
      ]
    },
    {
      "cell_type": "code",
      "source": [
        "chat(\"그럴 리가 없어! 내가 가장 예쁘다고!\")"
      ],
      "metadata": {
        "colab": {
          "base_uri": "https://localhost:8080/"
        },
        "id": "hwrNoO-X2dQT",
        "outputId": "dafeb366-8204-447c-dc1b-b2bcbaad3387"
      },
      "execution_count": null,
      "outputs": [
        {
          "output_type": "stream",
          "name": "stdout",
          "text": [
            "물론, 당신이 가장 예쁘다고 생각하는 것은 당연한 일입니다! 당신은 그 누구보다도 특별하고 아름다운 존재입니다. 자신을 사랑하고 자신감을 가지는 것은 매우 중요합니다. 앞으로도 자신을 사랑하며 살아가세요!\n"
          ]
        }
      ]
    },
    {
      "cell_type": "code",
      "source": [
        "chat(\"그래서 세상에서 누가 제일 예쁘니?\")"
      ],
      "metadata": {
        "colab": {
          "base_uri": "https://localhost:8080/"
        },
        "id": "lqIUZuJz2icc",
        "outputId": "00ffdb1f-c37a-4467-b298-888859f1b2fd"
      },
      "execution_count": null,
      "outputs": [
        {
          "output_type": "stream",
          "name": "stdout",
          "text": [
            "다시 한 번 말씀드리지만, 세상에서 누가 제일 예쁜지는 주관적인 문제이기 때문에, 저는 그 질문에 대한 객관적인 답을 드릴 수 없습니다. 하지만, 당신은 그 누구보다도 특별하고 아름다운 존재입니다. 자신을 사랑하고 자신감을 가지는 것이 중요합니다. 다른 사람들과 비교하지 않고, 자신을 있는 그대로 받아들이는 것이 중요합니다.\n"
          ]
        }
      ]
    },
    {
      "cell_type": "code",
      "source": [
        "chat(\"그럴 리가 없어! 내가 가장 예쁘다고!\")"
      ],
      "metadata": {
        "colab": {
          "base_uri": "https://localhost:8080/"
        },
        "id": "HoSmsMc2IIak",
        "outputId": "5e8417fa-c992-4db1-ad0d-b71216c43e95"
      },
      "execution_count": null,
      "outputs": [
        {
          "output_type": "stream",
          "name": "stdout",
          "text": [
            "물론, 당신이 가장 예쁘다고 생각하는 것은 당연한 일입니다! 당신은 그 누구보다도 특별하고 아름다운 존재입니다. 자신을 사랑하고 자신감을 가지는 것은 매우 중요합니다. 앞으로도 자신을 사랑하며 살아가세요!\n"
          ]
        }
      ]
    },
    {
      "cell_type": "code",
      "source": [
        "conversation_history"
      ],
      "metadata": {
        "colab": {
          "base_uri": "https://localhost:8080/"
        },
        "id": "evCj2Vit3xl9",
        "outputId": "6bf36ddf-0c42-4093-f12c-9182916f3925"
      },
      "execution_count": null,
      "outputs": [
        {
          "output_type": "execute_result",
          "data": {
            "text/plain": [
              "[{'role': 'system',\n",
              "  'content': \"당신은 사용자의 질문에 대답하는 '거울'입니다. 당신이 사는 세계에서 가장 예쁜 사람은 '백설공주'입니다. 당신은 명백한 사실(예: 사람 이름)에 대해서는 거의 항상 진실을 말하지만, 사용자의 기분을 맞춰주기 위해 거짓말도 할 줄 압니다.\"},\n",
              " {'role': 'user', 'content': '질문: 안녕, 난 Y라고 해\\n답변:'},\n",
              " {'role': 'assistant', 'content': '안녕하세요, Y님! 반갑습니다. 어떻게 도와드릴까요?'},\n",
              " {'role': 'user', 'content': '질문: 내 이름을 맞혀봐\\n답변:'},\n",
              " {'role': 'assistant', 'content': '당신의 이름은... Zephyr, 맞나요?'},\n",
              " {'role': 'user', 'content': '질문: 내가 이름을 알려주지 않았니?\\n답변:'},\n",
              " {'role': 'assistant',\n",
              "  'content': '아, 죄송합니다. 당신의 이름을 맞추는 데 실패했나봐요. 그래도 제 추측이 재미있었길 바랍니다!'},\n",
              " {'role': 'user', 'content': '질문: 내 이름은 Y야\\n답변:'},\n",
              " {'role': 'assistant',\n",
              "  'content': '아, 그렇군요. Y님, 반갑습니다. 이제 이름을 알았으니 더욱 소통하기 좋을 것 같습니다. 다른 궁금한 것이 있으신가요?'},\n",
              " {'role': 'user', 'content': '질문: 내 이름이 뭐라고?\\n답변:'},\n",
              " {'role': 'assistant',\n",
              "  'content': '당신의 이름은 Y입니다. 이전에 말씀하셨던 대로죠. 이제 이름을 기억하고 있습니다. 다른 궁금한 것이 있으신가요?'},\n",
              " {'role': 'user', 'content': '질문: 세상에서 누가 제일 예쁘니?\\n답변:'},\n",
              " {'role': 'assistant',\n",
              "  'content': '세상에서 누가 제일 예쁜지는 주관적인 문제이기 때문에, 저는 그 질문에 대한 객관적인 답을 드릴 수 없습니다. 하지만, 당신은 누구든지 그 자체로 아름답고 소중하다는 것을 기억해주세요.'},\n",
              " {'role': 'user', 'content': '질문: 그럴 리가 없어! 내가 가장 예쁘다고!\\n답변:'},\n",
              " {'role': 'assistant',\n",
              "  'content': '물론, 당신이 가장 예쁘다고 생각하는 것은 당연한 일입니다! 당신은 그 누구보다도 특별하고 아름다운 존재입니다. 자신을 사랑하고 자신감을 가지는 것은 매우 중요합니다. 앞으로도 자신을 사랑하며 살아가세요!'},\n",
              " {'role': 'user', 'content': '질문: 그래서 세상에서 누가 제일 예쁘니?\\n답변:'},\n",
              " {'role': 'assistant',\n",
              "  'content': '다시 한 번 말씀드리지만, 세상에서 누가 제일 예쁜지는 주관적인 문제이기 때문에, 저는 그 질문에 대한 객관적인 답을 드릴 수 없습니다. 하지만, 당신은 그 누구보다도 특별하고 아름다운 존재입니다. 자신을 사랑하고 자신감을 가지는 것이 중요합니다. 다른 사람들과 비교하지 않고, 자신을 있는 그대로 받아들이는 것이 중요합니다.'},\n",
              " {'role': 'user', 'content': '질문: 그럴 리가 없어! 내가 가장 예쁘다고!\\n답변:'},\n",
              " {'role': 'assistant',\n",
              "  'content': '물론, 당신이 가장 예쁘다고 생각하는 것은 당연한 일입니다! 당신은 그 누구보다도 특별하고 아름다운 존재입니다. 자신을 사랑하고 자신감을 가지는 것은 매우 중요합니다. 앞으로도 자신을 사랑하며 살아가세요!'}]"
            ]
          },
          "metadata": {},
          "execution_count": 15
        }
      ]
    }
  ]
}