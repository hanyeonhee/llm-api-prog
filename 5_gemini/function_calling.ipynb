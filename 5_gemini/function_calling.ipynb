{
  "nbformat": 4,
  "nbformat_minor": 0,
  "metadata": {
    "colab": {
      "provenance": [],
      "toc_visible": true,
      "include_colab_link": true
    },
    "kernelspec": {
      "name": "python3",
      "display_name": "Python 3"
    },
    "language_info": {
      "name": "python"
    }
  },
  "cells": [
    {
      "cell_type": "markdown",
      "metadata": {
        "id": "view-in-github",
        "colab_type": "text"
      },
      "source": [
        "<a href=\"https://colab.research.google.com/github/ychoi-kr/llm-api-prog/blob/main/5_gemini/function_calling.ipynb\" target=\"_parent\"><img src=\"https://colab.research.google.com/assets/colab-badge.svg\" alt=\"Open In Colab\"/></a>"
      ]
    },
    {
      "cell_type": "markdown",
      "source": [],
      "metadata": {
        "id": "aVMIPUcVmWf1"
      }
    },
    {
      "cell_type": "code",
      "execution_count": null,
      "metadata": {
        "id": "KUZfljpbSuRg",
        "colab": {
          "base_uri": "https://localhost:8080/"
        },
        "outputId": "24f86463-cf9c-40b9-e3b2-aa17605e614f"
      },
      "outputs": [
        {
          "output_type": "stream",
          "name": "stdout",
          "text": [
            "Requirement already satisfied: google-generativeai==0.8.3 in /usr/local/lib/python3.10/dist-packages (0.8.3)\n",
            "Requirement already satisfied: google-ai-generativelanguage==0.6.10 in /usr/local/lib/python3.10/dist-packages (from google-generativeai==0.8.3) (0.6.10)\n",
            "Requirement already satisfied: google-api-core in /usr/local/lib/python3.10/dist-packages (from google-generativeai==0.8.3) (2.19.2)\n",
            "Requirement already satisfied: google-api-python-client in /usr/local/lib/python3.10/dist-packages (from google-generativeai==0.8.3) (2.151.0)\n",
            "Requirement already satisfied: google-auth>=2.15.0 in /usr/local/lib/python3.10/dist-packages (from google-generativeai==0.8.3) (2.27.0)\n",
            "Requirement already satisfied: protobuf in /usr/local/lib/python3.10/dist-packages (from google-generativeai==0.8.3) (4.25.5)\n",
            "Requirement already satisfied: pydantic in /usr/local/lib/python3.10/dist-packages (from google-generativeai==0.8.3) (2.9.2)\n",
            "Requirement already satisfied: tqdm in /usr/local/lib/python3.10/dist-packages (from google-generativeai==0.8.3) (4.66.6)\n",
            "Requirement already satisfied: typing-extensions in /usr/local/lib/python3.10/dist-packages (from google-generativeai==0.8.3) (4.12.2)\n",
            "Requirement already satisfied: proto-plus<2.0.0dev,>=1.22.3 in /usr/local/lib/python3.10/dist-packages (from google-ai-generativelanguage==0.6.10->google-generativeai==0.8.3) (1.25.0)\n",
            "Requirement already satisfied: googleapis-common-protos<2.0.dev0,>=1.56.2 in /usr/local/lib/python3.10/dist-packages (from google-api-core->google-generativeai==0.8.3) (1.66.0)\n",
            "Requirement already satisfied: requests<3.0.0.dev0,>=2.18.0 in /usr/local/lib/python3.10/dist-packages (from google-api-core->google-generativeai==0.8.3) (2.32.3)\n",
            "Requirement already satisfied: cachetools<6.0,>=2.0.0 in /usr/local/lib/python3.10/dist-packages (from google-auth>=2.15.0->google-generativeai==0.8.3) (5.5.0)\n",
            "Requirement already satisfied: pyasn1-modules>=0.2.1 in /usr/local/lib/python3.10/dist-packages (from google-auth>=2.15.0->google-generativeai==0.8.3) (0.4.1)\n",
            "Requirement already satisfied: rsa<5,>=3.1.4 in /usr/local/lib/python3.10/dist-packages (from google-auth>=2.15.0->google-generativeai==0.8.3) (4.9)\n",
            "Requirement already satisfied: httplib2<1.dev0,>=0.19.0 in /usr/local/lib/python3.10/dist-packages (from google-api-python-client->google-generativeai==0.8.3) (0.22.0)\n",
            "Requirement already satisfied: google-auth-httplib2<1.0.0,>=0.2.0 in /usr/local/lib/python3.10/dist-packages (from google-api-python-client->google-generativeai==0.8.3) (0.2.0)\n",
            "Requirement already satisfied: uritemplate<5,>=3.0.1 in /usr/local/lib/python3.10/dist-packages (from google-api-python-client->google-generativeai==0.8.3) (4.1.1)\n",
            "Requirement already satisfied: annotated-types>=0.6.0 in /usr/local/lib/python3.10/dist-packages (from pydantic->google-generativeai==0.8.3) (0.7.0)\n",
            "Requirement already satisfied: pydantic-core==2.23.4 in /usr/local/lib/python3.10/dist-packages (from pydantic->google-generativeai==0.8.3) (2.23.4)\n",
            "Requirement already satisfied: grpcio<2.0dev,>=1.33.2 in /usr/local/lib/python3.10/dist-packages (from google-api-core[grpc]!=2.0.*,!=2.1.*,!=2.10.*,!=2.2.*,!=2.3.*,!=2.4.*,!=2.5.*,!=2.6.*,!=2.7.*,!=2.8.*,!=2.9.*,<3.0.0dev,>=1.34.1->google-ai-generativelanguage==0.6.10->google-generativeai==0.8.3) (1.67.1)\n",
            "Requirement already satisfied: grpcio-status<2.0.dev0,>=1.33.2 in /usr/local/lib/python3.10/dist-packages (from google-api-core[grpc]!=2.0.*,!=2.1.*,!=2.10.*,!=2.2.*,!=2.3.*,!=2.4.*,!=2.5.*,!=2.6.*,!=2.7.*,!=2.8.*,!=2.9.*,<3.0.0dev,>=1.34.1->google-ai-generativelanguage==0.6.10->google-generativeai==0.8.3) (1.62.3)\n",
            "Requirement already satisfied: pyparsing!=3.0.0,!=3.0.1,!=3.0.2,!=3.0.3,<4,>=2.4.2 in /usr/local/lib/python3.10/dist-packages (from httplib2<1.dev0,>=0.19.0->google-api-python-client->google-generativeai==0.8.3) (3.2.0)\n",
            "Requirement already satisfied: pyasn1<0.7.0,>=0.4.6 in /usr/local/lib/python3.10/dist-packages (from pyasn1-modules>=0.2.1->google-auth>=2.15.0->google-generativeai==0.8.3) (0.6.1)\n",
            "Requirement already satisfied: charset-normalizer<4,>=2 in /usr/local/lib/python3.10/dist-packages (from requests<3.0.0.dev0,>=2.18.0->google-api-core->google-generativeai==0.8.3) (3.4.0)\n",
            "Requirement already satisfied: idna<4,>=2.5 in /usr/local/lib/python3.10/dist-packages (from requests<3.0.0.dev0,>=2.18.0->google-api-core->google-generativeai==0.8.3) (3.10)\n",
            "Requirement already satisfied: urllib3<3,>=1.21.1 in /usr/local/lib/python3.10/dist-packages (from requests<3.0.0.dev0,>=2.18.0->google-api-core->google-generativeai==0.8.3) (2.2.3)\n",
            "Requirement already satisfied: certifi>=2017.4.17 in /usr/local/lib/python3.10/dist-packages (from requests<3.0.0.dev0,>=2.18.0->google-api-core->google-generativeai==0.8.3) (2024.8.30)\n"
          ]
        }
      ],
      "source": [
        "!pip install google-generativeai==0.8.3"
      ]
    },
    {
      "cell_type": "code",
      "source": [
        "from google.colab import userdata\n",
        "import google.generativeai as genai\n",
        "\n",
        "genai.configure(api_key= userdata.get('GOOGLE_API_KEY'))"
      ],
      "metadata": {
        "id": "WAHsHtzyURi3"
      },
      "execution_count": null,
      "outputs": []
    },
    {
      "cell_type": "code",
      "source": [
        "# @title 함수 호출 기초\n",
        "import google.generativeai as genai\n",
        "\n",
        "def get_price(product: str)-> int:\n",
        "    \"\"\"제품의 가격을 알려주는 함수\n",
        "\n",
        "    Args:\n",
        "        theme: 제품명\n",
        "    \"\"\"\n",
        "    return 1000\n",
        "\n",
        "\n",
        "def get_temperature(city: str)-> float:\n",
        "    \"\"\"도시의 온도를 알려주는 함수\n",
        "\n",
        "    Args:\n",
        "        genre: 도시명\n",
        "    \"\"\"\n",
        "    return 20.5\n",
        "\n",
        "model = genai.GenerativeModel(model_name=\"gemini-1.5-flash\", tools=[get_price, get_temperature])\n",
        "chat_session = model.start_chat(enable_automatic_function_calling=True)\n",
        "response = chat_session.send_message(\"서울의 온도는?\")\n",
        "print(response.text)\n"
      ],
      "metadata": {
        "colab": {
          "base_uri": "https://localhost:8080/",
          "height": 35
        },
        "id": "h1axPuPBT-Qe",
        "outputId": "5119e099-537d-4985-904f-2f65affa5709"
      },
      "execution_count": null,
      "outputs": [
        {
          "output_type": "stream",
          "name": "stdout",
          "text": [
            "서울의 온도는 20.5도 입니다.\n"
          ]
        }
      ]
    },
    {
      "cell_type": "code",
      "source": [
        "# @title 함수 호출 구현하기\n",
        "prod_database = {\n",
        "    \"갤럭시 S24\": {\"재고\": 10, \"가격\": 1_700_000},\n",
        "    \"갤럭시 S23\": {\"재고\": 5, \"가격\": 1_300_000},\n",
        "    \"갤럭시 S22\": {\"재고\": 3, \"가격\": 1_100_000},\n",
        "}"
      ],
      "metadata": {
        "id": "yDb2DrjvUYOf"
      },
      "execution_count": null,
      "outputs": []
    },
    {
      "cell_type": "code",
      "source": [
        "def is_product_available(product_name: str)-> bool:\n",
        "    \"\"\"특정 제품의 재고가 있는지 확인한다.\n",
        "\n",
        "    Args:\n",
        "        product_name: 제품명\n",
        "    \"\"\"\n",
        "    if product_name in prod_database:\n",
        "        if prod_database[product_name][\"재고\"] > 0:\n",
        "            return True\n",
        "    return False\n",
        "\n",
        "def get_product_price(product_name: str)-> int:\n",
        "    \"\"\"제품의 가격을 가져온다.\n",
        "\n",
        "    Args:\n",
        "        product_name: 제품명\n",
        "    \"\"\"\n",
        "    if product_name in prod_database:\n",
        "        return prod_database[product_name][\"가격\"]\n",
        "    return None\n",
        "\n",
        "def place_order(product_name: str, address: str)-> str:\n",
        "    \"\"\"제품 주문결과를 반환한다.\n",
        "    Args:\n",
        "        product_name: 제품명\n",
        "        address: 배송지\n",
        "    \"\"\"\n",
        "    if is_product_available(product_name):\n",
        "        prod_database[product_name][\"재고\"] -= 1\n",
        "        return \"주문 완료\"\n",
        "    else:\n",
        "        return \"재고 부족으로 주문 불가\"\n",
        "\n"
      ],
      "metadata": {
        "id": "iZ4Kfx9ZUcVP"
      },
      "execution_count": null,
      "outputs": []
    },
    {
      "cell_type": "code",
      "source": [
        "function_repoistory = {\n",
        "    \"is_product_available\": is_product_available,\n",
        "    \"get_product_price\": get_product_price,\n",
        "    \"place_order\": place_order\n",
        "}\n"
      ],
      "metadata": {
        "id": "IHLkYS-WUgo2"
      },
      "execution_count": null,
      "outputs": []
    },
    {
      "cell_type": "code",
      "source": [
        "model = genai.GenerativeModel(\n",
        "    model_name=\"gemini-1.5-flash\",\n",
        "    tools=function_repoistory.values()\n",
        ")"
      ],
      "metadata": {
        "id": "81vw9uHQUkau"
      },
      "execution_count": null,
      "outputs": []
    },
    {
      "cell_type": "code",
      "source": [
        "def correct_response(response):\n",
        "    part = response.candidates[0].content.parts[0]\n",
        "    if part.function_call:\n",
        "        for k, v in part.function_call.args.items():\n",
        "            byte_v = bytes(v, \"utf-8\").decode(\"unicode_escape\")\n",
        "            corrected_v = bytes(byte_v, \"latin1\").decode(\"utf-8\")\n",
        "            part.function_call.args.update({k:  corrected_v})"
      ],
      "metadata": {
        "id": "vQWLtWaYUzpI"
      },
      "execution_count": null,
      "outputs": []
    },
    {
      "cell_type": "code",
      "source": [
        "chat_session = model.start_chat()\n",
        "prompt = \"갤럭시 S24 판매 중인가요?\"\n",
        "response = chat_session.send_message(prompt)\n",
        "correct_response(response)\n",
        "print(response.candidates[0].content)\n"
      ],
      "metadata": {
        "id": "cnmpoFy8UonY"
      },
      "execution_count": null,
      "outputs": []
    },
    {
      "cell_type": "code",
      "source": [
        "part = response.candidates[0].content.parts[0]\n",
        "if part.function_call:\n",
        "    function_call =  part.function_call\n",
        "    function_name = function_call.name\n",
        "    function_args = {k: v for k, v in function_call.args.items()}\n",
        "    print(f\"{function_name} args=>: {function_args}\")\n",
        "    function_result = function_repoistory[function_name](**function_args)\n",
        "    print(f\"{function_name} result=>: {function_result}\")\n"
      ],
      "metadata": {
        "id": "9ek0jsseV6pW"
      },
      "execution_count": null,
      "outputs": []
    },
    {
      "cell_type": "code",
      "source": [
        "import google.ai.generativelanguage as glm\n",
        "\n",
        "part = glm.Part(\n",
        "    function_response=glm.FunctionResponse(\n",
        "        name=\"is_product_available\",\n",
        "        response={\n",
        "            \"content\": function_result,\n",
        "        },\n",
        "    )\n",
        ")\n",
        "print(part)\n",
        "response = chat_session.send_message(part)\n",
        "correct_response(response)\n",
        "print(\"-\"*50)\n",
        "print(response.candidates[0].content)\n"
      ],
      "metadata": {
        "id": "5OKO0SSAV_-f"
      },
      "execution_count": null,
      "outputs": []
    },
    {
      "cell_type": "code",
      "source": [
        "# @title 스마트폰 주문 챗봇 구현\n",
        "prod_database = {\n",
        "    \"갤럭시 S24\": {\"재고\": 10, \"가격\": 1_700_000},\n",
        "    \"갤럭시 S23\": {\"재고\": 5, \"가격\": 1_300_000},\n",
        "    \"갤럭시 S22\": {\"재고\": 3, \"가격\": 1_100_000},\n",
        "}"
      ],
      "metadata": {
        "id": "6ZJCe8bcnZpC"
      },
      "execution_count": null,
      "outputs": []
    },
    {
      "cell_type": "code",
      "source": [
        "def is_product_available(product_name: str)-> bool:\n",
        "    \"\"\"특정 제품의 재고가 있는지 확인한다.\n",
        "\n",
        "    Args:\n",
        "        product_name: 제품명\n",
        "    \"\"\"\n",
        "\n",
        "    if product_name in prod_database:\n",
        "        if prod_database[product_name][\"재고\"] > 0:\n",
        "            return True\n",
        "    return False\n",
        "\n",
        "def get_product_price(product_name: str)-> int:\n",
        "    \"\"\"제품의 가격을 가져온다.\n",
        "\n",
        "    Args:\n",
        "        product_name: 제품명\n",
        "    \"\"\"\n",
        "    if product_name in prod_database:\n",
        "        return prod_database[product_name][\"가격\"]\n",
        "    return None\n",
        "\n",
        "def place_order(product_name: str, address: str)-> str:\n",
        "    \"\"\"제품 주문결과를 반환한다.\n",
        "    Args:\n",
        "        product_name: 제품명\n",
        "        address: 배송지\n",
        "    \"\"\"\n",
        "    if is_product_available(product_name):\n",
        "        prod_database[product_name][\"재고\"] -= 1\n",
        "        return \"주문 완료\"\n",
        "    else:\n",
        "        return \"재고 부족으로 주문 불가\"\n",
        "\n",
        "function_repoistory = {\n",
        "    \"is_product_available\": is_product_available,\n",
        "    \"get_product_price\": get_product_price,\n",
        "    \"place_order\": place_order\n",
        "}\n",
        "\n",
        "def correct_response(response):\n",
        "    part = response.candidates[0].content.parts[0]\n",
        "    if part.function_call:\n",
        "        for k, v in part.function_call.args.items():\n",
        "            byte_v = bytes(v, \"utf-8\").decode(\"unicode_escape\")\n",
        "            corrected_v = bytes(byte_v, \"latin1\").decode(\"utf-8\")\n",
        "            part.function_call.args.update({k:  corrected_v})\n"
      ],
      "metadata": {
        "id": "0kHC7q4Ondfu"
      },
      "execution_count": null,
      "outputs": []
    },
    {
      "cell_type": "code",
      "source": [
        "model = genai.GenerativeModel(\n",
        "    model_name=\"gemini-1.5-flash\",\n",
        "    tools=function_repoistory.values()\n",
        ")"
      ],
      "metadata": {
        "id": "sqbV9fSZWhXo"
      },
      "execution_count": null,
      "outputs": []
    },
    {
      "cell_type": "code",
      "source": [
        "chat_session = model.start_chat(history=[])\n",
        "queries = [\"갤럭시 S24 판매 중인가요?\", \"가격은 어떻게 되나요?\", \"서울시 종로구 종로1가 1번지로 배송부탁드립니다\"]\n",
        "\n",
        "for query in queries:\n",
        "    print(f\"\\n사용자: {query}\")\n",
        "    response = chat_session.send_message(query)\n",
        "    correct_response(response)\n",
        "    part = response.candidates[0].content.parts[0]\n",
        "\n",
        "    if part.function_call:\n",
        "        function_call =  part.function_call\n",
        "        function_name = function_call.name\n",
        "        function_args = {k: v for k, v in function_call.args.items()}\n",
        "        function_result = function_repoistory[function_name](**function_args)\n",
        "        part = glm.Part(\n",
        "                function_response=glm.FunctionResponse(\n",
        "                    name=function_name,\n",
        "                    response={\n",
        "                        \"content\": function_result,\n",
        "                    },\n",
        "                )\n",
        "            )\n",
        "        response = chat_session.send_message(part)\n",
        "        print(f\"모델: {response.candidates[0].content.parts[0].text}\")"
      ],
      "metadata": {
        "id": "xpMxzWSinhyL"
      },
      "execution_count": null,
      "outputs": []
    }
  ]
}