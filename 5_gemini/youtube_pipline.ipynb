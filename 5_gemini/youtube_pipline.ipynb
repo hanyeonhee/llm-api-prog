{
 "cells": [
  {
   "cell_type": "code",
   "execution_count": 1,
   "metadata": {},
   "outputs": [],
   "source": [
    "from vertexai.generative_models import GenerativeModel, Part\n",
    "import vertexai\n",
    "from google.cloud import storage\n",
    "from pytube import YouTube #pip install pytube\n",
    "import IPython.display \n",
    "\n",
    "vertexai.init(project=\"robotic-vista-415814\", location=\"asia-northeast3\")  "
   ]
  },
  {
   "cell_type": "code",
   "execution_count": 2,
   "metadata": {},
   "outputs": [],
   "source": [
    "import os\n",
    "\n",
    "def download_youtube(url): \n",
    "    yt = YouTube(url) # YouTube 객체 생성     \n",
    "    stream = yt.streams.get_highest_resolution() # 가장 높은 해상도의 스트림 선택 \n",
    "    # 현재 디렉터리에 동영상 다운로드 \n",
    "    file_path = stream.download(output_path=\"./videos\") \n",
    "    print(\"Download complete!\") \n",
    "    return file_path \n",
    "\n",
    "def upload_to_gcs(bucket, file_path, file_name):\n",
    "    # bucket에 파일을 업로드할 blob 객체 생성\n",
    "    blob = bucket.blob(file_name)\n",
    "    # blob 객체를 통해 로컬 파일을 버킷에 업로드\n",
    "    blob.upload_from_filename(file_path)\n",
    "    print(\"Upload complete!\") \n",
    "\n",
    "def delete_video(bucket, file_name, file_path): \n",
    "    blob = bucket.blob(file_name)\n",
    "    blob.delete() \n",
    "    if os.path.exists(file_path):\n",
    "        os.remove(file_path) \n",
    "    print(\"Delete complete!\")         "
   ]
  },
  {
   "cell_type": "code",
   "execution_count": 3,
   "metadata": {},
   "outputs": [],
   "source": [
    "bucket_name = \"robotic-vista-415814-bucket-01\" \n",
    "bucket = storage.Client().bucket(bucket_name) \n",
    "url = \"https://www.youtube.com/watch?v=7qQTyBW4uhI\" "
   ]
  },
  {
   "cell_type": "code",
   "execution_count": 4,
   "metadata": {},
   "outputs": [
    {
     "name": "stdout",
     "output_type": "stream",
     "text": [
      "Download complete!\n",
      "Upload complete!\n"
     ]
    }
   ],
   "source": [
    "bucket_name = \"robotic-vista-415814-bucket-01\"\n",
    "bucket = storage.Client().bucket(bucket_name)\n",
    "url = \"https://www.youtube.com/watch?v=7qQTyBW4uhI\" \n",
    "\n",
    "prompt = \"\"\"\n",
    "- 주인공과 영상의 배경을 소설처럼 디테일하게 묘사하세요.\n",
    "- 주인공이 어느 도시에 있는지 말하고, 왜 그렇게 생각하는지 설명하세요.\n",
    "- 만일 이 영상이 생성형 AI가 만들었다면, 어떤 부분이 가장 놀랍나요?\n",
    "\"\"\" \n",
    "\n",
    "file_path = download_youtube(url)\n",
    "file_name = os.path.basename(file_path)\n",
    "upload_to_gcs(bucket, file_path, file_name)\n",
    "video = Part.from_uri(\n",
    "    uri=f\"gs://{bucket_name}/{file_name}\",\n",
    "    mime_type=\"video/mp4\", \n",
    ") \n",
    "contents = [prompt, video] \n",
    "\n",
    "model = GenerativeModel(\"gemini-1.5-flash-preview-0514\") \n",
    "responses = model.generate_content(contents, stream=True) \n",
    "IPython.display.display(IPython.display.Video(file_path, width=800 ,embed=True)) \n",
    "responses = model.generate_content(contents, stream=True) \n",
    "for response in responses: \n",
    "    print(response.text.strip(), end=\"\") \n",
    "\n",
    "print(\"\\n\\n\") \n",
    "delete_video(bucket, file_name, file_path) "
   ]
  },
  {
   "cell_type": "code",
   "execution_count": null,
   "metadata": {},
   "outputs": [],
   "source": []
  }
 ],
 "metadata": {
  "kernelspec": {
   "display_name": "venv_gemini",
   "language": "python",
   "name": "python3"
  },
  "language_info": {
   "codemirror_mode": {
    "name": "ipython",
    "version": 3
   },
   "file_extension": ".py",
   "mimetype": "text/x-python",
   "name": "python",
   "nbconvert_exporter": "python",
   "pygments_lexer": "ipython3",
   "version": "3.12.1"
  }
 },
 "nbformat": 4,
 "nbformat_minor": 2
}
