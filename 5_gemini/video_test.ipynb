{
 "cells": [
  {
   "cell_type": "code",
   "execution_count": 2,
   "metadata": {},
   "outputs": [],
   "source": [
    "from vertexai.generative_models import GenerativeModel, Part \n",
    "import vertexai \n",
    "import IPython.display # 동영상 플레이어 출력을 위해 추가 \n",
    "\n",
    "vertexai.init(project=\"robotic-vista-415814\", location=\"asia-northeast3\") \n",
    "model = GenerativeModel(\"gemini-1.0-pro-vision\") "
   ]
  },
  {
   "cell_type": "code",
   "execution_count": 3,
   "metadata": {},
   "outputs": [
    {
     "data": {
      "text/html": [
       "<video src=\"https://storage.googleapis.com/github-repo/img/gemini/multimodality_usecases_overview/photography.mp4\" controls  width=\"600\" >\n",
       "      Your browser does not support the <code>video</code> element.\n",
       "    </video>"
      ],
      "text/plain": [
       "<IPython.core.display.Video object>"
      ]
     },
     "metadata": {},
     "output_type": "display_data"
    },
    {
     "name": "stdout",
     "output_type": "stream",
     "text": [
      "비디오에는 카메라로 사진을 찍고 있는 남자가 나와 있습니다. 남자는 멕시코 투룸의 한 호텔 로비에 있습니다. 호텔 로비는 콘크리트 벽과 바닥으로 되어 있으며, 그 위에 다양한 예술 작품들이 걸려 있습니다. 남자는 호텔 로비의 한가운데에 있는 테이블에 서서 카메라로 사진을 찍고있습니다. 테이블에는 꽃병, 촛대, 바나나 등이 올려져 있습니다. 남자는 카메라로 테이블 위의물건들을 찍고 있습니다. 남자는 사진을 찍는 것을 좋아하는 것 같습니다. 그는 카메라를 들고 다니며주변의 모든 것을 찍고 있습니다. 그는 사진을 통해 자신의 생각과 감정을 표현하고자 하는 것 같습니다.\n",
      "\n",
      "비디오에 대한 태그는 다음과 같습니다.\n",
      "\n",
      "* 사진\n",
      "* 사진작가\n",
      "* 호텔\n",
      "* 로비\n",
      "* 콘크리트* 바닥\n",
      "* 벽\n",
      "* 예술 작품\n",
      "* 테이블\n",
      "* 꽃병\n",
      "* 촛대\n",
      "* 바나나\n",
      "* 카메라\n",
      "* 생각\n",
      "* 감정\n",
      "* 표현"
     ]
    }
   ],
   "source": [
    "prompt = \"\"\" \n",
    "비디오를 보고 다음 질문에 답하세요: \n",
    "- 비디오에는 무엇이 나와 있나요? \n",
    "- 비디오에서 어떤 행동이 일어나고 있나요? \n",
    "- 이 비디오에 가장 적합한 태그 10개를 제시해 주세요. \n",
    "\"\"\" \n",
    "\n",
    "uri_path =\"gs://github-repo/img/gemini/multimodality_usecases_overview/photography.mp4\" \n",
    "# 동영상 플레이어 출력을 위해 추가 \n",
    "https_path=\"https://storage.googleapis.com/github-repo/img/gemini/multimodality_usecases_overview/photography.mp4\"  \n",
    "\n",
    "video = Part.from_uri( \n",
    "    uri=uri_path, \n",
    "    mime_type=\"video/mp4\", \n",
    ") \n",
    " \n",
    "contents = [prompt, video]\n",
    "responses = model.generate_content(contents, stream=True) \n",
    "\n",
    "# 동영상 플레이어 출력을 위해 추가 \n",
    "IPython.display.display(IPython.display.Video(https_path, width=600))  \n",
    "\n",
    "for response in responses: \n",
    "    print(response.text.strip(), end=\"\") "
   ]
  }
 ],
 "metadata": {
  "kernelspec": {
   "display_name": "venv_gemini",
   "language": "python",
   "name": "python3"
  },
  "language_info": {
   "codemirror_mode": {
    "name": "ipython",
    "version": 3
   },
   "file_extension": ".py",
   "mimetype": "text/x-python",
   "name": "python",
   "nbconvert_exporter": "python",
   "pygments_lexer": "ipython3",
   "version": "3.12.1"
  }
 },
 "nbformat": 4,
 "nbformat_minor": 2
}
