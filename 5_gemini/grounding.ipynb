{
  "nbformat": 4,
  "nbformat_minor": 0,
  "metadata": {
    "colab": {
      "provenance": [],
      "include_colab_link": true
    },
    "kernelspec": {
      "name": "python3",
      "display_name": "Python 3"
    },
    "language_info": {
      "name": "python"
    }
  },
  "cells": [
    {
      "cell_type": "markdown",
      "metadata": {
        "id": "view-in-github",
        "colab_type": "text"
      },
      "source": [
        "<a href=\"https://colab.research.google.com/github/ychoi-kr/llm-api-prog/blob/main/5_gemini/grounding.ipynb\" target=\"_parent\"><img src=\"https://colab.research.google.com/assets/colab-badge.svg\" alt=\"Open In Colab\"/></a>"
      ]
    },
    {
      "cell_type": "code",
      "execution_count": null,
      "metadata": {
        "colab": {
          "base_uri": "https://localhost:8080/"
        },
        "id": "gOZszWgOa_jt",
        "outputId": "7942dd0d-b412-4f24-8219-7ce4b5637a22"
      },
      "outputs": [
        {
          "output_type": "stream",
          "name": "stdout",
          "text": [
            "Requirement already satisfied: google-generativeai==0.8.3 in /usr/local/lib/python3.10/dist-packages (0.8.3)\n",
            "Requirement already satisfied: google-ai-generativelanguage==0.6.10 in /usr/local/lib/python3.10/dist-packages (from google-generativeai==0.8.3) (0.6.10)\n",
            "Requirement already satisfied: google-api-core in /usr/local/lib/python3.10/dist-packages (from google-generativeai==0.8.3) (2.19.2)\n",
            "Requirement already satisfied: google-api-python-client in /usr/local/lib/python3.10/dist-packages (from google-generativeai==0.8.3) (2.151.0)\n",
            "Requirement already satisfied: google-auth>=2.15.0 in /usr/local/lib/python3.10/dist-packages (from google-generativeai==0.8.3) (2.27.0)\n",
            "Requirement already satisfied: protobuf in /usr/local/lib/python3.10/dist-packages (from google-generativeai==0.8.3) (4.25.5)\n",
            "Requirement already satisfied: pydantic in /usr/local/lib/python3.10/dist-packages (from google-generativeai==0.8.3) (2.9.2)\n",
            "Requirement already satisfied: tqdm in /usr/local/lib/python3.10/dist-packages (from google-generativeai==0.8.3) (4.66.6)\n",
            "Requirement already satisfied: typing-extensions in /usr/local/lib/python3.10/dist-packages (from google-generativeai==0.8.3) (4.12.2)\n",
            "Requirement already satisfied: proto-plus<2.0.0dev,>=1.22.3 in /usr/local/lib/python3.10/dist-packages (from google-ai-generativelanguage==0.6.10->google-generativeai==0.8.3) (1.25.0)\n",
            "Requirement already satisfied: googleapis-common-protos<2.0.dev0,>=1.56.2 in /usr/local/lib/python3.10/dist-packages (from google-api-core->google-generativeai==0.8.3) (1.66.0)\n",
            "Requirement already satisfied: requests<3.0.0.dev0,>=2.18.0 in /usr/local/lib/python3.10/dist-packages (from google-api-core->google-generativeai==0.8.3) (2.32.3)\n",
            "Requirement already satisfied: cachetools<6.0,>=2.0.0 in /usr/local/lib/python3.10/dist-packages (from google-auth>=2.15.0->google-generativeai==0.8.3) (5.5.0)\n",
            "Requirement already satisfied: pyasn1-modules>=0.2.1 in /usr/local/lib/python3.10/dist-packages (from google-auth>=2.15.0->google-generativeai==0.8.3) (0.4.1)\n",
            "Requirement already satisfied: rsa<5,>=3.1.4 in /usr/local/lib/python3.10/dist-packages (from google-auth>=2.15.0->google-generativeai==0.8.3) (4.9)\n",
            "Requirement already satisfied: httplib2<1.dev0,>=0.19.0 in /usr/local/lib/python3.10/dist-packages (from google-api-python-client->google-generativeai==0.8.3) (0.22.0)\n",
            "Requirement already satisfied: google-auth-httplib2<1.0.0,>=0.2.0 in /usr/local/lib/python3.10/dist-packages (from google-api-python-client->google-generativeai==0.8.3) (0.2.0)\n",
            "Requirement already satisfied: uritemplate<5,>=3.0.1 in /usr/local/lib/python3.10/dist-packages (from google-api-python-client->google-generativeai==0.8.3) (4.1.1)\n",
            "Requirement already satisfied: annotated-types>=0.6.0 in /usr/local/lib/python3.10/dist-packages (from pydantic->google-generativeai==0.8.3) (0.7.0)\n",
            "Requirement already satisfied: pydantic-core==2.23.4 in /usr/local/lib/python3.10/dist-packages (from pydantic->google-generativeai==0.8.3) (2.23.4)\n",
            "Requirement already satisfied: grpcio<2.0dev,>=1.33.2 in /usr/local/lib/python3.10/dist-packages (from google-api-core[grpc]!=2.0.*,!=2.1.*,!=2.10.*,!=2.2.*,!=2.3.*,!=2.4.*,!=2.5.*,!=2.6.*,!=2.7.*,!=2.8.*,!=2.9.*,<3.0.0dev,>=1.34.1->google-ai-generativelanguage==0.6.10->google-generativeai==0.8.3) (1.67.1)\n",
            "Requirement already satisfied: grpcio-status<2.0.dev0,>=1.33.2 in /usr/local/lib/python3.10/dist-packages (from google-api-core[grpc]!=2.0.*,!=2.1.*,!=2.10.*,!=2.2.*,!=2.3.*,!=2.4.*,!=2.5.*,!=2.6.*,!=2.7.*,!=2.8.*,!=2.9.*,<3.0.0dev,>=1.34.1->google-ai-generativelanguage==0.6.10->google-generativeai==0.8.3) (1.62.3)\n",
            "Requirement already satisfied: pyparsing!=3.0.0,!=3.0.1,!=3.0.2,!=3.0.3,<4,>=2.4.2 in /usr/local/lib/python3.10/dist-packages (from httplib2<1.dev0,>=0.19.0->google-api-python-client->google-generativeai==0.8.3) (3.2.0)\n",
            "Requirement already satisfied: pyasn1<0.7.0,>=0.4.6 in /usr/local/lib/python3.10/dist-packages (from pyasn1-modules>=0.2.1->google-auth>=2.15.0->google-generativeai==0.8.3) (0.6.1)\n",
            "Requirement already satisfied: charset-normalizer<4,>=2 in /usr/local/lib/python3.10/dist-packages (from requests<3.0.0.dev0,>=2.18.0->google-api-core->google-generativeai==0.8.3) (3.4.0)\n",
            "Requirement already satisfied: idna<4,>=2.5 in /usr/local/lib/python3.10/dist-packages (from requests<3.0.0.dev0,>=2.18.0->google-api-core->google-generativeai==0.8.3) (3.10)\n",
            "Requirement already satisfied: urllib3<3,>=1.21.1 in /usr/local/lib/python3.10/dist-packages (from requests<3.0.0.dev0,>=2.18.0->google-api-core->google-generativeai==0.8.3) (2.2.3)\n",
            "Requirement already satisfied: certifi>=2017.4.17 in /usr/local/lib/python3.10/dist-packages (from requests<3.0.0.dev0,>=2.18.0->google-api-core->google-generativeai==0.8.3) (2024.8.30)\n"
          ]
        }
      ],
      "source": [
        "!pip install google-generativeai==0.8.3"
      ]
    },
    {
      "cell_type": "code",
      "source": [],
      "metadata": {
        "id": "cE9kYsC3bwuZ"
      },
      "execution_count": null,
      "outputs": []
    },
    {
      "cell_type": "code",
      "source": [
        "from google.colab import userdata\n",
        "import google.generativeai as genai\n",
        "import os\n",
        "\n",
        "genai.configure(api_key= userdata.get('GOOGLE_API_KEY'))\n",
        "model = genai.GenerativeModel('gemini-1.5-flash-002')\n",
        "\n",
        "response = model.generate_content(contents=\"2024년 12월 비트코인 가격이 상승할지 하락할지 예측하고, 그 근거를 20 단어 이내로 설명하세요.\",  tools='google_search_retrieval')\n",
        "print(response.text)\n"
      ],
      "metadata": {
        "colab": {
          "base_uri": "https://localhost:8080/",
          "height": 74
        },
        "id": "2oK1iiO0bKD-",
        "outputId": "4b75523a-0016-4fd4-fcea-432cdcda633c"
      },
      "execution_count": null,
      "outputs": [
        {
          "output_type": "stream",
          "name": "stdout",
          "text": [
            "2024년 12월 비트코인 가격은 상승할 가능성이 높습니다.  미국 대선 결과, 비트코인 ETF 자금 유입, 그리고 과거의 상승 패턴 반복 가능성 때문입니다.\n",
            "\n"
          ]
        }
      ]
    },
    {
      "cell_type": "code",
      "source": [
        "print(response.candidates[0].grounding_metadata.grounding_chunks)"
      ],
      "metadata": {
        "colab": {
          "base_uri": "https://localhost:8080/"
        },
        "id": "ZeegH3msfvrO",
        "outputId": "2aaf710d-33a2-4332-f068-4c0e4874ab8e"
      },
      "execution_count": null,
      "outputs": [
        {
          "output_type": "stream",
          "name": "stdout",
          "text": [
            "[web {\n",
            "  uri: \"https://vertexaisearch.cloud.google.com/grounding-api-redirect/AZnLMfxi8pt4O8SO7tVHKpSxSqRcXDHRW1YWxH7jEWqkJF9ksd1sk0XeJAdr96iAr1KyR8j1BOsNh09d6x1KMEITnkn_5hz4Dy_oUgGUi0Z65YChyWIOWXfjl9OuhbkdDfg82tNVWDYNvBM2DJuIHjMZWNq6v_F6Ym5oSfFzaSRP\"\n",
            "  title: \"businesspost.co.kr\"\n",
            "}\n",
            ", web {\n",
            "  uri: \"https://vertexaisearch.cloud.google.com/grounding-api-redirect/AZnLMfw7ORULXXEYaobpRMaolxw3cEAKwCgZw3bufnnRtVA4VU12flsZTk6orDjWlcuMGmQWodK_bvU544EyRYqxHCvAAbiPxk2HR5_ql9SxNOKcq1CxxqPdc5i-pongLwupEplaMgBE6TtUEFstMTLOvI5kPW6xx1BBs5JZ\"\n",
            "  title: \"sisajournal.com\"\n",
            "}\n",
            ", web {\n",
            "  uri: \"https://vertexaisearch.cloud.google.com/grounding-api-redirect/AZnLMfyfiMgIAzq5ANs32AqMlVw8E5HR99jJvNR9JYChnLS-n3sxth4LgI7xrQqiWiXoAezwg7jAg506OprjSlidVl2ePsU06swQnWERC6qXg1zkxmwi75ShK7g2dvo4Uz7Vi9YATLqDIdM68I70FUSX7jx3pKw=\"\n",
            "  title: \"dentalnews.or.kr\"\n",
            "}\n",
            "]\n"
          ]
        }
      ]
    },
    {
      "cell_type": "code",
      "source": [
        "model = genai.GenerativeModel('gemini-1.5-flash-002')\n",
        "response = model.generate_content(contents=\"2024년 12월 비트코인 가격이 상승할지 하락할지 예측하고, 그 근거를 10 단어 이내로 설명하세요.\",   tools={\"google_search_retrieval\": {\"dynamic_retrieval_config\": {\"mode\": \"MODE_DYNAMIC\", \"dynamic_threshold\": 0.9}}})\n",
        "\n",
        "print(response.text)\n",
        "print(response.candidates[0].grounding_metadata.retrieval_metadata)\n",
        "\n"
      ],
      "metadata": {
        "colab": {
          "base_uri": "https://localhost:8080/",
          "height": 90
        },
        "id": "AzEtW3UzfxfK",
        "outputId": "c9803766-d9ca-4f5d-bdc8-b7732d103812"
      },
      "execution_count": null,
      "outputs": [
        {
          "output_type": "stream",
          "name": "stdout",
          "text": [
            "예측 불가능. 시장 변동성과 여러 요인에 의존.\n",
            "\n",
            "google_search_dynamic_retrieval_score: 0.87109375\n",
            "\n"
          ]
        }
      ]
    }
  ]
}