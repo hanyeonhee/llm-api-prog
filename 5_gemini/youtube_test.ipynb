{
 "cells": [
  {
   "cell_type": "code",
   "execution_count": 1,
   "metadata": {},
   "outputs": [],
   "source": [
    "from vertexai.generative_models import GenerativeModel, Part \n",
    "import vertexai \n",
    "import IPython.display # 동영상 플레이어 출력을 위해 추가 "
   ]
  },
  {
   "cell_type": "code",
   "execution_count": 2,
   "metadata": {},
   "outputs": [
    {
     "data": {
      "text/html": [
       "<video controls  width=\"600\" >\n",
       " <source src=\"data:None;base64,./videos/2020 한국관광 해외홍보 영상 l 서울.mp4\" type=\"None\">\n",
       " Your browser does not support the video tag.\n",
       " </video>"
      ],
      "text/plain": [
       "<IPython.core.display.Video object>"
      ]
     },
     "metadata": {},
     "output_type": "display_data"
    },
    {
     "name": "stdout",
     "output_type": "stream",
     "text": [
      "영상에 등장하는 춤추는 인물은 8명입니다. \n",
      "\n",
      "각각의 인물에 대한 특징은 다음과 같습니다.\n",
      "\n",
      "1. 빨간색 정장을 입고 모자를 쓴 남성: 춤을 주도하며 가장 눈에띄는 인물. 다양한 춤을 선보입니다.\n",
      "2. 검은색 정장을 입고 토끼 모양이 그려진 옷을 입은 여성: 가장 개성적인 의상을 입은 인물.\n",
      "3. 흰색 옷을 입고 빨간색 모자를 쓴 여성:  밝은 색상의의상을 입은 인물.\n",
      "4. 녹색 치마를 입은 여성: 밝은 색상의 의상을 입은 인물.\n",
      "5. 파란색 옷을 입고 빨간색 모자를 쓴 남성: 춤을 추는 중간에 합류.\n",
      "6. 빨간색과 파란색 줄무늬 옷을 입은 남성:  춤을 추는 중간에 합류.\n",
      "7. 검은색 옷을 입은 여성:  춤을 추는 중간에 합류.\n",
      "8. 검은색 옷을 입고 파란색 모자를 쓴 여성:  춤을 추는 중간에 합류."
     ]
    }
   ],
   "source": [
    "vertexai.init(project=\"your-project-id\", location=\"asia-northeast3\") \n",
    "model = GenerativeModel(\"gemini-1.5-flash-preview-0514\") \n",
    "prompt = \"\"\" \n",
    "유튜브를 보고 아래에 답하세요. \n",
    "- 영상에 등장하는 춤을 추는 인물은 몇 명인가요? \n",
    "- 각각의 인물에 대한 특징을 짧게 기술하세요. \n",
    "\"\"\" \n",
    "\n",
    "# 파일명 및 경로 설정 \n",
    "file_name = \"2020 한국관광 해외홍보 영상 l 서울.mp4\" \n",
    "bucket_path = \"gs://your-project-id-bucket-01/\" \n",
    "video_path = f\"./videos/{file_name}\" \n",
    "uri_path = f\"{bucket_path}{file_name}\" \n",
    "video = Part.from_uri( \n",
    "    uri=uri_path, \n",
    "    mime_type=\"video/mp4\", \n",
    ") \n",
    "\n",
    "contents = [prompt, video]\n",
    "responses = model.generate_content(contents, stream=True)\n",
    "\n",
    "# 동영상 플레이어 출력을 위해 추가\n",
    "IPython.display.display(IPython.display.Video(video_path, width=600,  embed=True))  \n",
    "for response in responses: \n",
    "    print(response.text.strip(), end=\"\") "
   ]
  }
 ],
 "metadata": {
  "kernelspec": {
   "display_name": "venv_gemini",
   "language": "python",
   "name": "python3"
  },
  "language_info": {
   "codemirror_mode": {
    "name": "ipython",
    "version": 3
   },
   "file_extension": ".py",
   "mimetype": "text/x-python",
   "name": "python",
   "nbconvert_exporter": "python",
   "pygments_lexer": "ipython3",
   "version": "3.12.1"
  }
 },
 "nbformat": 4,
 "nbformat_minor": 2
}
