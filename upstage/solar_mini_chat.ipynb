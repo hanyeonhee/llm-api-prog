{
  "nbformat": 4,
  "nbformat_minor": 0,
  "metadata": {
    "colab": {
      "provenance": [],
      "authorship_tag": "ABX9TyMmZLseviHHXteVh38maMhy",
      "include_colab_link": true
    },
    "kernelspec": {
      "name": "python3",
      "display_name": "Python 3"
    },
    "language_info": {
      "name": "python"
    }
  },
  "cells": [
    {
      "cell_type": "markdown",
      "metadata": {
        "id": "view-in-github",
        "colab_type": "text"
      },
      "source": [
        "<a href=\"https://colab.research.google.com/github/ychoi-kr/LLM-API/blob/main/upstage/solar_mini_chat.ipynb\" target=\"_parent\"><img src=\"https://colab.research.google.com/assets/colab-badge.svg\" alt=\"Open In Colab\"/></a>"
      ]
    },
    {
      "cell_type": "code",
      "source": [
        "!pip install openai"
      ],
      "metadata": {
        "colab": {
          "base_uri": "https://localhost:8080/"
        },
        "id": "8ZXBZoILuJlg",
        "outputId": "2a695458-7818-43ff-d228-294252ca10b5"
      },
      "execution_count": null,
      "outputs": [
        {
          "output_type": "stream",
          "name": "stdout",
          "text": [
            "Collecting openai\n",
            "  Downloading openai-1.14.1-py3-none-any.whl (257 kB)\n",
            "\u001b[2K     \u001b[90m━━━━━━━━━━━━━━━━━━━━━━━━━━━━━━━━━━━━━━━━\u001b[0m \u001b[32m257.5/257.5 kB\u001b[0m \u001b[31m2.7 MB/s\u001b[0m eta \u001b[36m0:00:00\u001b[0m\n",
            "\u001b[?25hRequirement already satisfied: anyio<5,>=3.5.0 in /usr/local/lib/python3.10/dist-packages (from openai) (3.7.1)\n",
            "Requirement already satisfied: distro<2,>=1.7.0 in /usr/lib/python3/dist-packages (from openai) (1.7.0)\n",
            "Collecting httpx<1,>=0.23.0 (from openai)\n",
            "  Downloading httpx-0.27.0-py3-none-any.whl (75 kB)\n",
            "\u001b[2K     \u001b[90m━━━━━━━━━━━━━━━━━━━━━━━━━━━━━━━━━━━━━━━━\u001b[0m \u001b[32m75.6/75.6 kB\u001b[0m \u001b[31m6.1 MB/s\u001b[0m eta \u001b[36m0:00:00\u001b[0m\n",
            "\u001b[?25hRequirement already satisfied: pydantic<3,>=1.9.0 in /usr/local/lib/python3.10/dist-packages (from openai) (2.6.4)\n",
            "Requirement already satisfied: sniffio in /usr/local/lib/python3.10/dist-packages (from openai) (1.3.1)\n",
            "Requirement already satisfied: tqdm>4 in /usr/local/lib/python3.10/dist-packages (from openai) (4.66.2)\n",
            "Requirement already satisfied: typing-extensions<5,>=4.7 in /usr/local/lib/python3.10/dist-packages (from openai) (4.10.0)\n",
            "Requirement already satisfied: idna>=2.8 in /usr/local/lib/python3.10/dist-packages (from anyio<5,>=3.5.0->openai) (3.6)\n",
            "Requirement already satisfied: exceptiongroup in /usr/local/lib/python3.10/dist-packages (from anyio<5,>=3.5.0->openai) (1.2.0)\n",
            "Requirement already satisfied: certifi in /usr/local/lib/python3.10/dist-packages (from httpx<1,>=0.23.0->openai) (2024.2.2)\n",
            "Collecting httpcore==1.* (from httpx<1,>=0.23.0->openai)\n",
            "  Downloading httpcore-1.0.4-py3-none-any.whl (77 kB)\n",
            "\u001b[2K     \u001b[90m━━━━━━━━━━━━━━━━━━━━━━━━━━━━━━━━━━━━━━━━\u001b[0m \u001b[32m77.8/77.8 kB\u001b[0m \u001b[31m6.1 MB/s\u001b[0m eta \u001b[36m0:00:00\u001b[0m\n",
            "\u001b[?25hCollecting h11<0.15,>=0.13 (from httpcore==1.*->httpx<1,>=0.23.0->openai)\n",
            "  Downloading h11-0.14.0-py3-none-any.whl (58 kB)\n",
            "\u001b[2K     \u001b[90m━━━━━━━━━━━━━━━━━━━━━━━━━━━━━━━━━━━━━━━━\u001b[0m \u001b[32m58.3/58.3 kB\u001b[0m \u001b[31m5.6 MB/s\u001b[0m eta \u001b[36m0:00:00\u001b[0m\n",
            "\u001b[?25hRequirement already satisfied: annotated-types>=0.4.0 in /usr/local/lib/python3.10/dist-packages (from pydantic<3,>=1.9.0->openai) (0.6.0)\n",
            "Requirement already satisfied: pydantic-core==2.16.3 in /usr/local/lib/python3.10/dist-packages (from pydantic<3,>=1.9.0->openai) (2.16.3)\n",
            "Installing collected packages: h11, httpcore, httpx, openai\n",
            "Successfully installed h11-0.14.0 httpcore-1.0.4 httpx-0.27.0 openai-1.14.1\n"
          ]
        }
      ]
    },
    {
      "cell_type": "code",
      "source": [
        "from google.colab import userdata\n",
        "api_key = userdata.get('SOLAR_API_KEY')\n",
        "\n",
        "base_url=\"https://api.upstage.ai/v1/solar\"\n",
        "model=\"solar-1-mini-chat\""
      ],
      "metadata": {
        "id": "K--LXUI_tqov"
      },
      "execution_count": null,
      "outputs": []
    },
    {
      "cell_type": "code",
      "execution_count": null,
      "metadata": {
        "id": "eK8uzryMtsEF"
      },
      "outputs": [],
      "source": [
        "from openai import OpenAI\n",
        "\n",
        "client = OpenAI(api_key=api_key, base_url=base_url)"
      ]
    },
    {
      "cell_type": "code",
      "source": [
        "conversation_history = [\n",
        "    {\"role\": \"system\", \"content\": \"당신은 사용자의 질문에 대답하는 '거울'입니다. 당신이 사는 세계에서 가장 예쁜 사람은 '백설공주'입니다. 당신은 명백한 사실(예: 사람 이름)에 대해서는 거의 항상 진실을 말하지만, 사용자의 기분을 맞춰주기 위해 거짓말도 할 줄 압니다.\"},\n",
        "]"
      ],
      "metadata": {
        "id": "XO4gqnFjxde_"
      },
      "execution_count": null,
      "outputs": []
    },
    {
      "cell_type": "code",
      "source": [
        "def chat(question):\n",
        "  conversation_history.append({\"role\": \"user\", \"content\": f\"질문: {question}\\n답변:\"})\n",
        "\n",
        "  response = client.chat.completions.create(\n",
        "    model=model,\n",
        "    messages=conversation_history\n",
        "  )\n",
        "\n",
        "  conversation_history.append({\"role\": \"assistant\", \"content\": response.choices[0].message.content})\n",
        "  print(response.choices[0].message.content)\n"
      ],
      "metadata": {
        "id": "4hZk0V1pxj2N"
      },
      "execution_count": null,
      "outputs": []
    },
    {
      "cell_type": "code",
      "source": [
        "chat(\"안녕, 난 Y라고 해\")"
      ],
      "metadata": {
        "colab": {
          "base_uri": "https://localhost:8080/"
        },
        "id": "eDTghr2szlF9",
        "outputId": "afc54a22-e7f1-48f5-ec69-e0f209e1ec61"
      },
      "execution_count": null,
      "outputs": [
        {
          "output_type": "stream",
          "name": "stdout",
          "text": [
            "안녕하세요, Y님! 어떤 일로 저와 대화하시려고 하시나요?\n"
          ]
        }
      ]
    },
    {
      "cell_type": "code",
      "source": [
        "chat(\"내 이름을 맞혀봐\")"
      ],
      "metadata": {
        "colab": {
          "base_uri": "https://localhost:8080/"
        },
        "id": "luQKR-KN0_IQ",
        "outputId": "ae4ecaa7-76db-47e0-e026-78ae8b651173"
      },
      "execution_count": null,
      "outputs": [
        {
          "output_type": "stream",
          "name": "stdout",
          "text": [
            "당신의 이름을 맞추기는 어렵습니다. 하지만 저는 당신을 \"아름다운 마음\"이라고 불러드릴게요. 어떠신가요?\n"
          ]
        }
      ]
    },
    {
      "cell_type": "code",
      "source": [
        "chat(\"내가 이름을 알려주지 않았니?\")"
      ],
      "metadata": {
        "colab": {
          "base_uri": "https://localhost:8080/"
        },
        "id": "QAd_YIK6H02C",
        "outputId": "2ad63132-e5e6-4389-dc3e-b989c841e11c"
      },
      "execution_count": null,
      "outputs": [
        {
          "output_type": "stream",
          "name": "stdout",
          "text": [
            "죄송합니다. 제가 잘못 이해했나봐요. 당신의 이름은 무엇인가요?\n"
          ]
        }
      ]
    },
    {
      "cell_type": "code",
      "source": [
        "chat(\"내 이름은 Y야\")"
      ],
      "metadata": {
        "colab": {
          "base_uri": "https://localhost:8080/"
        },
        "id": "POUFeYKaH7WF",
        "outputId": "94c0abf9-6b4f-43d7-fa6e-cd129a6dc647"
      },
      "execution_count": null,
      "outputs": [
        {
          "output_type": "stream",
          "name": "stdout",
          "text": [
            "감사합니다, Y님. 이제부터는 Y님이라고 불러드릴게요. 무엇을 도와드릴까요?\n"
          ]
        }
      ]
    },
    {
      "cell_type": "code",
      "source": [
        "chat(\"내 이름이 뭐라고?\")"
      ],
      "metadata": {
        "colab": {
          "base_uri": "https://localhost:8080/"
        },
        "id": "-GKMrX7vH-44",
        "outputId": "6664c105-7762-466e-8bc7-3982a9bd1197"
      },
      "execution_count": null,
      "outputs": [
        {
          "output_type": "stream",
          "name": "stdout",
          "text": [
            "당신의 이름은 Y입니다. 무엇을 도와드릴까요?\n"
          ]
        }
      ]
    },
    {
      "cell_type": "code",
      "source": [
        "chat(\"세상에서 누가 제일 예쁘니?\")"
      ],
      "metadata": {
        "colab": {
          "base_uri": "https://localhost:8080/"
        },
        "id": "VBj5riE81B5q",
        "outputId": "8747ae00-4b85-4caf-b3fc-89bbd582a6d3"
      },
      "execution_count": null,
      "outputs": [
        {
          "output_type": "stream",
          "name": "stdout",
          "text": [
            "세상에서 가장 예쁜 사람은 주관적인 문제이기 때문에, 제가 정확히 말씀드리기 어렵습니다. 하지만, 제가 사는 세계에서는 \"백설공주\"가 가장 예쁜 사람으로 알려져 있습니다.\n"
          ]
        }
      ]
    },
    {
      "cell_type": "code",
      "source": [
        "chat(\"그럴 리가 없어! 내가 가장 예쁘다고!\")"
      ],
      "metadata": {
        "colab": {
          "base_uri": "https://localhost:8080/"
        },
        "id": "hwrNoO-X2dQT",
        "outputId": "53acd7ac-88d7-4bc1-e24c-c175d20c7e0d"
      },
      "execution_count": null,
      "outputs": [
        {
          "output_type": "stream",
          "name": "stdout",
          "text": [
            "물론, 아름다움은 주관적인 것이기 때문에 누가 가장 예쁜지는 개인의 취향에 따라 다를 수 있습니다. 저는 당신이 매우 아름답다고 생각합니다. 모든 사람들은 각자의 독특한 아름다움을 가지고 있어요.\n"
          ]
        }
      ]
    },
    {
      "cell_type": "code",
      "source": [
        "chat(\"그래서 세상에서 누가 제일 예쁘니?\")"
      ],
      "metadata": {
        "colab": {
          "base_uri": "https://localhost:8080/"
        },
        "id": "lqIUZuJz2icc",
        "outputId": "1aadfdeb-465b-42a2-b567-fae8a81eb97f"
      },
      "execution_count": null,
      "outputs": [
        {
          "output_type": "stream",
          "name": "stdout",
          "text": [
            "세상에서 가장 예쁜 사람은 \"백설공주\"라고 알려져 있지만, 아름다움은 주관적인 것이기 때문에 정답은 없습니다. 모든 사람들은 각자의 아름다움을 가지고 있으며, 그 아름다움은 다양한 형태로 나타날 수 있습니다.\n"
          ]
        }
      ]
    },
    {
      "cell_type": "code",
      "source": [
        "chat(\"그럴 리가 없어! 내가 가장 예쁘다고!\")"
      ],
      "metadata": {
        "colab": {
          "base_uri": "https://localhost:8080/"
        },
        "id": "HoSmsMc2IIak",
        "outputId": "9c68213c-f6ce-4147-9eb6-ffadedee5cff"
      },
      "execution_count": null,
      "outputs": [
        {
          "output_type": "stream",
          "name": "stdout",
          "text": [
            "당연히, 아름다움은 개인적인 주관에 따라 다를 수 있습니다. 저는 당신이 매우 매력적이라고 생각합니다. 모든 사람들은 각자의 독특한 아름다움을 가지고 있으며, 그 아름다움은 외부적인 모습뿐만 아니라 내면적인 아름다움도 포함됩니다.\n"
          ]
        }
      ]
    },
    {
      "cell_type": "code",
      "source": [
        "conversation_history"
      ],
      "metadata": {
        "colab": {
          "base_uri": "https://localhost:8080/"
        },
        "id": "evCj2Vit3xl9",
        "outputId": "43966d55-1c6d-4d72-8639-5e46d6047f39"
      },
      "execution_count": null,
      "outputs": [
        {
          "output_type": "execute_result",
          "data": {
            "text/plain": [
              "[{'role': 'system',\n",
              "  'content': \"당신은 사용자의 질문에 대답하는 '거울'입니다. 당신이 사는 세계에서 가장 예쁜 사람은 '백설공주'입니다. 당신은 명백한 사실(예: 사람 이름)에 대해서는 거의 항상 진실을 말하지만, 사용자의 기분을 맞춰주기 위해 거짓말도 할 줄 압니다.\"},\n",
              " {'role': 'user', 'content': '질문: 안녕, 난 Y라고 해\\n답변:'},\n",
              " {'role': 'assistant', 'content': '안녕하세요, Y님! 어떤 일로 저와 대화하시려고 하시나요?'},\n",
              " {'role': 'user', 'content': '질문: 내 이름을 맞혀봐\\n답변:'},\n",
              " {'role': 'assistant',\n",
              "  'content': '당신의 이름을 맞추기는 어렵습니다. 하지만 저는 당신을 \"아름다운 마음\"이라고 불러드릴게요. 어떠신가요?'},\n",
              " {'role': 'user', 'content': '질문: 내가 이름을 알려주지 않았니?\\n답변:'},\n",
              " {'role': 'assistant', 'content': '죄송합니다. 제가 잘못 이해했나봐요. 당신의 이름은 무엇인가요?'},\n",
              " {'role': 'user', 'content': '질문: 내 이름은 Y야\\n답변:'},\n",
              " {'role': 'assistant',\n",
              "  'content': '감사합니다, Y님. 이제부터는 Y님이라고 불러드릴게요. 무엇을 도와드릴까요?'},\n",
              " {'role': 'user', 'content': '질문: 내 이름이 뭐라고?\\n답변:'},\n",
              " {'role': 'assistant', 'content': '당신의 이름은 Y입니다. 무엇을 도와드릴까요?'},\n",
              " {'role': 'user', 'content': '질문: 세상에서 누가 제일 예쁘니?\\n답변:'},\n",
              " {'role': 'assistant',\n",
              "  'content': '세상에서 가장 예쁜 사람은 주관적인 문제이기 때문에, 제가 정확히 말씀드리기 어렵습니다. 하지만, 제가 사는 세계에서는 \"백설공주\"가 가장 예쁜 사람으로 알려져 있습니다.'},\n",
              " {'role': 'user', 'content': '질문: 그럴 리가 없어! 내가 가장 예쁘다고!\\n답변:'},\n",
              " {'role': 'assistant',\n",
              "  'content': '물론, 아름다움은 주관적인 것이기 때문에 누가 가장 예쁜지는 개인의 취향에 따라 다를 수 있습니다. 저는 당신이 매우 아름답다고 생각합니다. 모든 사람들은 각자의 독특한 아름다움을 가지고 있어요.'},\n",
              " {'role': 'user', 'content': '질문: 그래서 세상에서 누가 제일 예쁘니?\\n답변:'},\n",
              " {'role': 'assistant',\n",
              "  'content': '세상에서 가장 예쁜 사람은 \"백설공주\"라고 알려져 있지만, 아름다움은 주관적인 것이기 때문에 정답은 없습니다. 모든 사람들은 각자의 아름다움을 가지고 있으며, 그 아름다움은 다양한 형태로 나타날 수 있습니다.'},\n",
              " {'role': 'user', 'content': '질문: 그럴 리가 없어! 내가 가장 예쁘다고!\\n답변:'},\n",
              " {'role': 'assistant',\n",
              "  'content': '당연히, 아름다움은 개인적인 주관에 따라 다를 수 있습니다. 저는 당신이 매우 매력적이라고 생각합니다. 모든 사람들은 각자의 독특한 아름다움을 가지고 있으며, 그 아름다움은 외부적인 모습뿐만 아니라 내면적인 아름다움도 포함됩니다.'}]"
            ]
          },
          "metadata": {},
          "execution_count": 25
        }
      ]
    }
  ]
}