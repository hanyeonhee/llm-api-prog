{
  "nbformat": 4,
  "nbformat_minor": 0,
  "metadata": {
    "colab": {
      "provenance": [],
      "authorship_tag": "ABX9TyPIwd56nAgLz3JWo2q1yu+v",
      "include_colab_link": true
    },
    "kernelspec": {
      "name": "python3",
      "display_name": "Python 3"
    },
    "language_info": {
      "name": "python"
    }
  },
  "cells": [
    {
      "cell_type": "markdown",
      "metadata": {
        "id": "view-in-github",
        "colab_type": "text"
      },
      "source": [
        "<a href=\"https://colab.research.google.com/github/ychoi-kr/llm-api-prog/blob/main/4_openai/openai_assistant_with_function.ipynb\" target=\"_parent\"><img src=\"https://colab.research.google.com/assets/colab-badge.svg\" alt=\"Open In Colab\"/></a>"
      ]
    },
    {
      "cell_type": "code",
      "execution_count": null,
      "metadata": {
        "colab": {
          "base_uri": "https://localhost:8080/"
        },
        "id": "xBTo7UFRQF9w",
        "outputId": "71264829-607a-4815-f0c3-50f23634c71d"
      },
      "outputs": [
        {
          "output_type": "stream",
          "name": "stdout",
          "text": [
            "Requirement already satisfied: openai in /usr/local/lib/python3.10/dist-packages (1.54.4)\n",
            "Requirement already satisfied: anyio<5,>=3.5.0 in /usr/local/lib/python3.10/dist-packages (from openai) (3.7.1)\n",
            "Requirement already satisfied: distro<2,>=1.7.0 in /usr/local/lib/python3.10/dist-packages (from openai) (1.9.0)\n",
            "Requirement already satisfied: httpx<1,>=0.23.0 in /usr/local/lib/python3.10/dist-packages (from openai) (0.27.2)\n",
            "Requirement already satisfied: jiter<1,>=0.4.0 in /usr/local/lib/python3.10/dist-packages (from openai) (0.7.1)\n",
            "Requirement already satisfied: pydantic<3,>=1.9.0 in /usr/local/lib/python3.10/dist-packages (from openai) (2.9.2)\n",
            "Requirement already satisfied: sniffio in /usr/local/lib/python3.10/dist-packages (from openai) (1.3.1)\n",
            "Requirement already satisfied: tqdm>4 in /usr/local/lib/python3.10/dist-packages (from openai) (4.66.6)\n",
            "Requirement already satisfied: typing-extensions<5,>=4.11 in /usr/local/lib/python3.10/dist-packages (from openai) (4.12.2)\n",
            "Requirement already satisfied: idna>=2.8 in /usr/local/lib/python3.10/dist-packages (from anyio<5,>=3.5.0->openai) (3.10)\n",
            "Requirement already satisfied: exceptiongroup in /usr/local/lib/python3.10/dist-packages (from anyio<5,>=3.5.0->openai) (1.2.2)\n",
            "Requirement already satisfied: certifi in /usr/local/lib/python3.10/dist-packages (from httpx<1,>=0.23.0->openai) (2024.8.30)\n",
            "Requirement already satisfied: httpcore==1.* in /usr/local/lib/python3.10/dist-packages (from httpx<1,>=0.23.0->openai) (1.0.7)\n",
            "Requirement already satisfied: h11<0.15,>=0.13 in /usr/local/lib/python3.10/dist-packages (from httpcore==1.*->httpx<1,>=0.23.0->openai) (0.14.0)\n",
            "Requirement already satisfied: annotated-types>=0.6.0 in /usr/local/lib/python3.10/dist-packages (from pydantic<3,>=1.9.0->openai) (0.7.0)\n",
            "Requirement already satisfied: pydantic-core==2.23.4 in /usr/local/lib/python3.10/dist-packages (from pydantic<3,>=1.9.0->openai) (2.23.4)\n"
          ]
        }
      ],
      "source": [
        "!pip install openai"
      ]
    },
    {
      "cell_type": "code",
      "source": [
        "from google.colab import userdata\n",
        "from openai import OpenAI\n",
        "import time\n",
        "import requests\n",
        "import json"
      ],
      "metadata": {
        "id": "Nc8JnoW3QLpY"
      },
      "execution_count": null,
      "outputs": []
    },
    {
      "cell_type": "code",
      "source": [
        "api_key = userdata.get('OPENAI_API_KEY')\n",
        "client = OpenAI(api_key=api_key)"
      ],
      "metadata": {
        "id": "WKv3-PSUQJzM"
      },
      "execution_count": null,
      "outputs": []
    },
    {
      "cell_type": "code",
      "source": [
        "# plainkorean.kr의 인증서 관련 경고를 무시\n",
        "from requests.packages.urllib3.exceptions import InsecureRequestWarning\n",
        "requests.packages.urllib3.disable_warnings(InsecureRequestWarning)"
      ],
      "metadata": {
        "id": "P3fGa6kE0_qS"
      },
      "execution_count": null,
      "outputs": []
    },
    {
      "cell_type": "code",
      "source": [
        "def get_simpler_alternatives(keyword):\n",
        "    url = f\"https://plainkorean.kr/api.jsp?keyword={keyword}\"\n",
        "    print(f\"Requesting: {url}\")  # 요청 URL 출력\n",
        "    response = requests.get(url, verify=False)\n",
        "    print(f\"Response status code: {response.status_code}\")  # 응답 상태 코드 출력\n",
        "    if response.status_code == 200:\n",
        "        result = response.json()\n",
        "        print(f\"Response content: {result}\")  # 응답 내용 출력\n",
        "        if result:\n",
        "            return json.dumps(result[0], ensure_ascii=False)\n",
        "    return json.dumps({\"error\": \"No alternatives found\"})"
      ],
      "metadata": {
        "id": "aCqYFlZ4cIuw"
      },
      "execution_count": null,
      "outputs": []
    },
    {
      "cell_type": "code",
      "source": [
        "get_simpler_alternatives_json = {\n",
        "    \"name\": \"get_simpler_alternatives\",\n",
        "    \"description\": \"Get simpler alternatives for a given Korean keyword from plainkorean.kr API\",\n",
        "    \"parameters\": {\n",
        "        \"type\": \"object\",\n",
        "        \"properties\": {\n",
        "            \"keyword\": {\n",
        "                \"type\": \"string\",\n",
        "                \"description\": \"The Korean keyword to find simpler alternatives for\",\n",
        "            },\n",
        "        },\n",
        "        \"required\": [\"keyword\"],\n",
        "    },\n",
        "}"
      ],
      "metadata": {
        "id": "JFgzxJge0of8"
      },
      "execution_count": null,
      "outputs": []
    },
    {
      "cell_type": "code",
      "source": [
        "assistant = client.beta.assistants.create(\n",
        "    name=\"쉬운 말 추천v2\",\n",
        "    instructions=\"문장에서 어려운 단어를 식별하고, 제공된 함수를 사용해 더 쉬운 표현을 제안하세요.\",\n",
        "    model=\"gpt-4o\",\n",
        "    tools=[{\"type\": \"function\", \"function\": get_simpler_alternatives_json}],\n",
        ")"
      ],
      "metadata": {
        "id": "7p3r_4tW0UwG"
      },
      "execution_count": null,
      "outputs": []
    },
    {
      "cell_type": "code",
      "source": [
        "thread = client.beta.threads.create()\n",
        "\n",
        "message = client.beta.threads.messages.create(\n",
        "    thread_id=thread.id,\n",
        "    role=\"user\",\n",
        "    content=\"매니지드 서비스는 제품 설치부터 점검, 운영까지 대신해 준다.\",\n",
        ")"
      ],
      "metadata": {
        "id": "CgEXfc1Y0ld2"
      },
      "execution_count": null,
      "outputs": []
    },
    {
      "cell_type": "code",
      "source": [
        "run = client.beta.threads.runs.create(\n",
        "    thread_id=thread.id,\n",
        "    assistant_id=assistant.id,\n",
        ")"
      ],
      "metadata": {
        "id": "58PIIJN7AXFT"
      },
      "execution_count": null,
      "outputs": []
    },
    {
      "cell_type": "code",
      "source": [
        "while True:\n",
        "    run = client.beta.threads.runs.retrieve(\n",
        "        thread_id=thread.id,\n",
        "        run_id=run.id,\n",
        "    )\n",
        "    run_status = run.status\n",
        "\n",
        "    if run_status == \"requires_action\" and run.required_action is not None:\n",
        "        tools_to_call = run.required_action.submit_tool_outputs.tool_calls\n",
        "        tool_output_array = []\n",
        "        for tool in tools_to_call:\n",
        "            tool_call_id = tool.id\n",
        "            function_name = tool.function.name\n",
        "            function_arg = json.loads(tool.function.arguments)\n",
        "            if function_name == 'get_simpler_alternatives':\n",
        "                output = get_simpler_alternatives(function_arg[\"keyword\"])\n",
        "            tool_output_array.append({\"tool_call_id\": tool_call_id, \"output\": output})\n",
        "\n",
        "        run = client.beta.threads.runs.submit_tool_outputs(\n",
        "            thread_id=thread.id,\n",
        "            run_id=run.id,\n",
        "            tool_outputs=tool_output_array,\n",
        "        )\n",
        "    elif run_status in [\"completed\", \"failed\"]:\n",
        "        break\n",
        "\n",
        "    time.sleep(1)"
      ],
      "metadata": {
        "colab": {
          "base_uri": "https://localhost:8080/"
        },
        "id": "Ac3LmP2V_Rzx",
        "outputId": "e7a92826-1894-4d02-a598-1f3b70111390"
      },
      "execution_count": null,
      "outputs": [
        {
          "output_type": "stream",
          "name": "stdout",
          "text": [
            "Requesting: https://plainkorean.kr/api.jsp?keyword=매니지드\n",
            "Response status code: 200\n",
            "Response content: [{'alt': '위탁 관리 서비스', 'keyword': '매니지드 서비스', 'example': [\"(X) 클라우드의 성공은 '매니지드 서비스'가 좌우한다.\", \"(O) 자원 공유의 성공은 '위탁 관리 서비스'가 좌우한다.\", '(X) 매니지드 서비스는 제품 설치부터 점검, 운영까지 대신해 준다.', '(O) 위탁 관리 서비스는 제품 설치부터 점검, 운영까지 대신해 준다.', '(X) 구독 서비스에서 한 단계 확장한 매니지드 서비스도 제공한다. ', '(O) 구독 서비스에서 한 단계 확장한 위탁 관리 서비스도 제공한다.']}]\n",
            "Requesting: https://plainkorean.kr/api.jsp?keyword=점검\n",
            "Response status code: 200\n",
            "Response content: []\n"
          ]
        }
      ]
    },
    {
      "cell_type": "code",
      "source": [
        "if run_status == 'completed':\n",
        "    messages = client.beta.threads.messages.list(\n",
        "        thread_id=thread.id,\n",
        "    )\n",
        "    print(messages.data[0].content[0].text.value)\n",
        "else:\n",
        "    print(f\"Run status: {run_status}\")"
      ],
      "metadata": {
        "colab": {
          "base_uri": "https://localhost:8080/"
        },
        "id": "S5fze40QAd31",
        "outputId": "a242d368-8406-44fb-d563-c1bc1170ff7a"
      },
      "execution_count": null,
      "outputs": [
        {
          "output_type": "stream",
          "name": "stdout",
          "text": [
            "문장에서 어려운 단어에 대한 더 쉬운 표현을 제안드리겠습니다.\n",
            "\n",
            "- **매니지드 서비스**: \"위탁 관리 서비스\"로 표현할 수 있습니다.\n",
            "\n",
            "\"점검\"에 대해서는 더 쉬운 대체 표현을 찾을 수 없었습니다. \"점검\"은 이미 상대적으로 쉽게 이해될 수 있는 단어일 수 있습니다.\n",
            "\n",
            "따라서 문장을 더 쉽게 표현하면 다음과 같습니다:\n",
            "- \"위탁 관리 서비스는 제품 설치부터 점검, 운영까지 대신해 준다.\"\n"
          ]
        }
      ]
    },
    {
      "cell_type": "code",
      "source": [
        "client.beta.assistants.delete(assistant.id)"
      ],
      "metadata": {
        "colab": {
          "base_uri": "https://localhost:8080/"
        },
        "id": "z1rDC6ih1HCl",
        "outputId": "7fcc7a35-40f1-40ee-8448-ed8c597830e7"
      },
      "execution_count": null,
      "outputs": [
        {
          "output_type": "execute_result",
          "data": {
            "text/plain": [
              "AssistantDeleted(id='asst_kjIXu8axFa1XXTkg4BD7NWix', deleted=True, object='assistant.deleted')"
            ]
          },
          "metadata": {},
          "execution_count": 12
        }
      ]
    }
  ]
}