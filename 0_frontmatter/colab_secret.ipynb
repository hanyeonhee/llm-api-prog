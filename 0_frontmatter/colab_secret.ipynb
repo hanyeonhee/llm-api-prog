{
  "nbformat": 4,
  "nbformat_minor": 0,
  "metadata": {
    "colab": {
      "provenance": [],
      "authorship_tag": "ABX9TyO/h1lxBgit30j3YwYSbK23",
      "include_colab_link": true
    },
    "kernelspec": {
      "name": "python3",
      "display_name": "Python 3"
    },
    "language_info": {
      "name": "python"
    }
  },
  "cells": [
    {
      "cell_type": "markdown",
      "metadata": {
        "id": "view-in-github",
        "colab_type": "text"
      },
      "source": [
        "<a href=\"https://colab.research.google.com/github/ychoi-kr/llm-api-prog/blob/main/0_frontmatter/colab_secret.ipynb\" target=\"_parent\"><img src=\"https://colab.research.google.com/assets/colab-badge.svg\" alt=\"Open In Colab\"/></a>"
      ]
    },
    {
      "cell_type": "markdown",
      "source": [
        "## 구글 코랩 보안 비밀"
      ],
      "metadata": {
        "id": "EfIpr8HplZdo"
      }
    },
    {
      "cell_type": "markdown",
      "source": [
        "### 보안 비밀 추가"
      ],
      "metadata": {
        "id": "bzMEV0CmtcX3"
      }
    },
    {
      "cell_type": "markdown",
      "source": [
        "코랩 왼쪽 열쇠 아이콘을 눌러 보안 비밀 화면에서 'test' 보안 비밀을 추가합니다."
      ],
      "metadata": {
        "id": "o4gwvTLhr597"
      }
    },
    {
      "cell_type": "markdown",
      "source": [
        "### 보안 비밀 가져오기"
      ],
      "metadata": {
        "id": "ulkNl0GmtfVn"
      }
    },
    {
      "cell_type": "code",
      "source": [
        "from google.colab import userdata\n",
        "userdata.get('test')  # 'test' 보안 비밀을 읽기"
      ],
      "metadata": {
        "id": "lhhCoxM3lfJg",
        "outputId": "aeb31b77-2186-4c9e-aecf-7e61e852f231",
        "colab": {
          "base_uri": "https://localhost:8080/",
          "height": 35
        }
      },
      "execution_count": null,
      "outputs": [
        {
          "output_type": "execute_result",
          "data": {
            "text/plain": [
              "'123456'"
            ],
            "application/vnd.google.colaboratory.intrinsic+json": {
              "type": "string"
            }
          },
          "metadata": {},
          "execution_count": 4
        }
      ]
    }
  ]
}