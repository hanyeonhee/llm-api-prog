{
  "nbformat": 4,
  "nbformat_minor": 0,
  "metadata": {
    "colab": {
      "provenance": [],
      "include_colab_link": true
    },
    "kernelspec": {
      "name": "python3",
      "display_name": "Python 3"
    },
    "language_info": {
      "name": "python"
    }
  },
  "cells": [
    {
      "cell_type": "markdown",
      "metadata": {
        "id": "view-in-github",
        "colab_type": "text"
      },
      "source": [
        "<a href=\"https://colab.research.google.com/github/hanyeonhee/llm-api-prog/blob/main/0_frontmatter/clone_repository.ipynb\" target=\"_parent\"><img src=\"https://colab.research.google.com/assets/colab-badge.svg\" alt=\"Open In Colab\"/></a>"
      ]
    },
    {
      "cell_type": "markdown",
      "source": [
        "# 실습 준비"
      ],
      "metadata": {
        "id": "33m5gpp2lLCx"
      }
    },
    {
      "cell_type": "markdown",
      "source": [
        "## 구글 드라이브 연결"
      ],
      "metadata": {
        "id": "9t37ywswlVCw"
      }
    },
    {
      "cell_type": "code",
      "source": [
        "from google.colab import drive\n",
        "drive.mount(\"/content/drive\", force_remount=True)"
      ],
      "metadata": {
        "id": "bf8heZdK_BcR",
        "outputId": "5dc2e381-dcb8-42f8-b6bf-acdc983c7a79",
        "colab": {
          "base_uri": "https://localhost:8080/"
        }
      },
      "execution_count": 2,
      "outputs": [
        {
          "output_type": "stream",
          "name": "stdout",
          "text": [
            "Mounted at /content/drive\n"
          ]
        }
      ]
    },
    {
      "cell_type": "markdown",
      "source": [
        "## 깃허브 저장소 복제"
      ],
      "metadata": {
        "id": "b8na4XgSrcFT"
      }
    },
    {
      "cell_type": "code",
      "source": [
        "# /content/drive/MyDrive에 https://github.com/ychoi-kr/llm-api-prog.git를 복제\n",
        "\n",
        "!git clone https://github.com/ychoi-kr/llm-api-prog.git /content/drive/MyDrive/llm-api-prog\n"
      ],
      "metadata": {
        "id": "Ie3-3WFw-mv_",
        "outputId": "8205e0a8-75bf-448b-853c-05d5cafdaf07",
        "colab": {
          "base_uri": "https://localhost:8080/"
        }
      },
      "execution_count": 3,
      "outputs": [
        {
          "output_type": "stream",
          "name": "stdout",
          "text": [
            "Cloning into '/content/drive/MyDrive/llm-api-prog'...\n",
            "remote: Enumerating objects: 884, done.\u001b[K\n",
            "remote: Counting objects: 100% (77/77), done.\u001b[K\n",
            "remote: Compressing objects: 100% (65/65), done.\u001b[K\n",
            "remote: Total 884 (delta 38), reused 29 (delta 12), pack-reused 807 (from 2)\u001b[K\n",
            "Receiving objects: 100% (884/884), 94.90 MiB | 11.32 MiB/s, done.\n",
            "Resolving deltas: 100% (485/485), done.\n",
            "Updating files: 100% (118/118), done.\n"
          ]
        }
      ]
    },
    {
      "cell_type": "code",
      "source": [
        "ls '/content/drive/MyDrive/llm-api-prog/'"
      ],
      "metadata": {
        "id": "FeGRY7ynkxIB",
        "outputId": "67941a6d-287a-4ccd-adaa-54f35b72f153",
        "colab": {
          "base_uri": "https://localhost:8080/"
        }
      },
      "execution_count": 4,
      "outputs": [
        {
          "output_type": "stream",
          "name": "stdout",
          "text": [
            "\u001b[0m\u001b[01;34m0_frontmatter\u001b[0m/  \u001b[01;34m5_gemini\u001b[0m/   \u001b[01;34m7_langchain\u001b[0m/  \u001b[01;34m9_flet\u001b[0m/    \u001b[01;34mdata\u001b[0m/      requirements.txt\n",
            "\u001b[01;34m4_openai\u001b[0m/       \u001b[01;34m6_upstage\u001b[0m/  \u001b[01;34m8_streamlit\u001b[0m/  \u001b[01;34mappendix\u001b[0m/  README.md\n"
          ]
        }
      ]
    }
  ]
}