{
  "nbformat": 4,
  "nbformat_minor": 0,
  "metadata": {
    "colab": {
      "provenance": [],
      "authorship_tag": "ABX9TyO8RerX3F/ykWh5iux85kME",
      "include_colab_link": true
    },
    "kernelspec": {
      "name": "python3",
      "display_name": "Python 3"
    },
    "language_info": {
      "name": "python"
    }
  },
  "cells": [
    {
      "cell_type": "markdown",
      "metadata": {
        "id": "view-in-github",
        "colab_type": "text"
      },
      "source": [
        "<a href=\"https://colab.research.google.com/github/ychoi-kr/llm-api-prog/blob/main/0_frontmatter/setup.ipynb\" target=\"_parent\"><img src=\"https://colab.research.google.com/assets/colab-badge.svg\" alt=\"Open In Colab\"/></a>"
      ]
    },
    {
      "cell_type": "markdown",
      "source": [
        "# 실습 준비"
      ],
      "metadata": {
        "id": "33m5gpp2lLCx"
      }
    },
    {
      "cell_type": "markdown",
      "source": [
        "## 구글 드라이브 연결"
      ],
      "metadata": {
        "id": "9t37ywswlVCw"
      }
    },
    {
      "cell_type": "code",
      "source": [
        "from google.colab import drive\n",
        "drive.mount(\"/content/drive\", force_remount=True)"
      ],
      "metadata": {
        "id": "bf8heZdK_BcR",
        "outputId": "c23a02db-536e-4147-d514-7ff69a57d3d6",
        "colab": {
          "base_uri": "https://localhost:8080/"
        }
      },
      "execution_count": null,
      "outputs": [
        {
          "output_type": "stream",
          "name": "stdout",
          "text": [
            "Mounted at /content/drive\n"
          ]
        }
      ]
    },
    {
      "cell_type": "markdown",
      "source": [
        "## 깃허브 저장소 복제"
      ],
      "metadata": {
        "id": "b8na4XgSrcFT"
      }
    },
    {
      "cell_type": "code",
      "source": [
        "# /content/drive/MyDrive에 https://github.com/ychoi-kr/llm-api-prog.git를 복제\n",
        "\n",
        "!git clone https://github.com/ychoi-kr/llm-api-prog.git /content/drive/MyDrive/llm-api-prog\n"
      ],
      "metadata": {
        "id": "Ie3-3WFw-mv_",
        "outputId": "0e7b3416-28d4-4de5-b344-c60c86c087a7",
        "colab": {
          "base_uri": "https://localhost:8080/"
        }
      },
      "execution_count": null,
      "outputs": [
        {
          "output_type": "stream",
          "name": "stdout",
          "text": [
            "Cloning into '/content/drive/MyDrive/llm-api-prog'...\n",
            "remote: Enumerating objects: 346, done.\u001b[K\n",
            "remote: Counting objects: 100% (77/77), done.\u001b[K\n",
            "remote: Compressing objects: 100% (63/63), done.\u001b[K\n",
            "remote: Total 346 (delta 25), reused 52 (delta 13), pack-reused 269\u001b[K\n",
            "Receiving objects: 100% (346/346), 60.89 MiB | 12.35 MiB/s, done.\n",
            "Resolving deltas: 100% (176/176), done.\n",
            "Updating files: 100% (81/81), done.\n"
          ]
        }
      ]
    },
    {
      "cell_type": "code",
      "source": [
        "ls '/content/drive/MyDrive/llm-api-prog/'"
      ],
      "metadata": {
        "id": "FeGRY7ynkxIB",
        "outputId": "d7ebfab7-abda-4fc1-90ce-449de20f5df2",
        "colab": {
          "base_uri": "https://localhost:8080/"
        }
      },
      "execution_count": null,
      "outputs": [
        {
          "output_type": "stream",
          "name": "stdout",
          "text": [
            "\u001b[0m\u001b[01;34m0_frontmatter\u001b[0m/  \u001b[01;34m5_gemini\u001b[0m/   \u001b[01;34m7_langchain\u001b[0m/  \u001b[01;34mappendix\u001b[0m/  README.md\n",
            "\u001b[01;34m4_openai\u001b[0m/       \u001b[01;34m6_upstage\u001b[0m/  \u001b[01;34m8_streamlit\u001b[0m/  \u001b[01;34mdata\u001b[0m/\n"
          ]
        }
      ]
    }
  ]
}