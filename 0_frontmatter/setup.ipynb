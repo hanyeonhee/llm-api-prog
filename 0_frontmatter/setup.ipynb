{
  "nbformat": 4,
  "nbformat_minor": 0,
  "metadata": {
    "colab": {
      "provenance": [],
      "toc_visible": true,
      "authorship_tag": "ABX9TyMLgn51KUPVvtPK3D+uARKO",
      "include_colab_link": true
    },
    "kernelspec": {
      "name": "python3",
      "display_name": "Python 3"
    },
    "language_info": {
      "name": "python"
    }
  },
  "cells": [
    {
      "cell_type": "markdown",
      "metadata": {
        "id": "view-in-github",
        "colab_type": "text"
      },
      "source": [
        "<a href=\"https://colab.research.google.com/github/ychoi-kr/llm-api-prog/blob/main/setup.ipynb\" target=\"_parent\"><img src=\"https://colab.research.google.com/assets/colab-badge.svg\" alt=\"Open In Colab\"/></a>"
      ]
    },
    {
      "cell_type": "markdown",
      "source": [
        "# 실습 준비"
      ],
      "metadata": {
        "id": "33m5gpp2lLCx"
      }
    },
    {
      "cell_type": "markdown",
      "source": [
        "## 구글 드라이브 연결"
      ],
      "metadata": {
        "id": "9t37ywswlVCw"
      }
    },
    {
      "cell_type": "code",
      "source": [
        "from google.colab import drive\n",
        "drive.mount('/content/drive')"
      ],
      "metadata": {
        "id": "zFlieugejz2S"
      },
      "execution_count": null,
      "outputs": []
    },
    {
      "cell_type": "code",
      "source": [
        "!cd /content/drive/MyDrive/"
      ],
      "metadata": {
        "id": "IPPu-rU4qHVc"
      },
      "execution_count": null,
      "outputs": []
    },
    {
      "cell_type": "markdown",
      "source": [
        "## 깃허브 저장소 복제"
      ],
      "metadata": {
        "id": "b8na4XgSrcFT"
      }
    },
    {
      "cell_type": "code",
      "source": [
        "!git clone https://github.com/ychoi-kr/llm-api-prog.git"
      ],
      "metadata": {
        "id": "SRi-cT9_qKPs"
      },
      "execution_count": null,
      "outputs": []
    },
    {
      "cell_type": "code",
      "source": [
        "!ls '/content/drive/MyDrive/llm-api-prog/'"
      ],
      "metadata": {
        "id": "FeGRY7ynkxIB"
      },
      "execution_count": null,
      "outputs": []
    },
    {
      "cell_type": "markdown",
      "source": [
        "## 구글 코랩 보안 비밀"
      ],
      "metadata": {
        "id": "EfIpr8HplZdo"
      }
    },
    {
      "cell_type": "markdown",
      "source": [
        "### 보안 비밀 추가"
      ],
      "metadata": {
        "id": "bzMEV0CmtcX3"
      }
    },
    {
      "cell_type": "markdown",
      "source": [
        "코랩 왼쪽 열쇠 아이콘을 눌러 보안 비밀 화면에서 'test' 보안 비밀을 추가합니다."
      ],
      "metadata": {
        "id": "o4gwvTLhr597"
      }
    },
    {
      "cell_type": "markdown",
      "source": [
        "### 보안 비밀 가져오기"
      ],
      "metadata": {
        "id": "ulkNl0GmtfVn"
      }
    },
    {
      "cell_type": "code",
      "source": [
        "from google.colab import userdata\n",
        "userdata.get('test')  # 'test' 보안 비밀을 읽기"
      ],
      "metadata": {
        "id": "lhhCoxM3lfJg"
      },
      "execution_count": null,
      "outputs": []
    }
  ]
}