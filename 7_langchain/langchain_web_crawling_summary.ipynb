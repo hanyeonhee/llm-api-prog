{
 "cells": [
  {
   "cell_type": "code",
   "execution_count": 1,
   "id": "40b9da48-5a39-42cb-abd4-176eda40bc3a",
   "metadata": {},
   "outputs": [
    {
     "name": "stdout",
     "output_type": "stream",
     "text": [
      "Requirement already satisfied: selenium in c:\\users\\yong\\appdata\\local\\programs\\python\\python311\\lib\\site-packages (4.22.0)\n",
      "Requirement already satisfied: unstructured in c:\\users\\yong\\appdata\\local\\programs\\python\\python311\\lib\\site-packages (0.14.7)\n",
      "Requirement already satisfied: langchain in c:\\users\\yong\\appdata\\local\\programs\\python\\python311\\lib\\site-packages (0.2.5)\n",
      "Requirement already satisfied: langchain-core in c:\\users\\yong\\appdata\\local\\programs\\python\\python311\\lib\\site-packages (0.2.9)\n",
      "Requirement already satisfied: urllib3<3,>=1.26 in c:\\users\\yong\\appdata\\local\\programs\\python\\python311\\lib\\site-packages (from urllib3[socks]<3,>=1.26->selenium) (2.2.0)\n",
      "Requirement already satisfied: trio~=0.17 in c:\\users\\yong\\appdata\\local\\programs\\python\\python311\\lib\\site-packages (from selenium) (0.25.0)\n",
      "Requirement already satisfied: trio-websocket~=0.9 in c:\\users\\yong\\appdata\\local\\programs\\python\\python311\\lib\\site-packages (from selenium) (0.11.1)\n",
      "Requirement already satisfied: certifi>=2021.10.8 in c:\\users\\yong\\appdata\\local\\programs\\python\\python311\\lib\\site-packages (from selenium) (2023.11.17)\n",
      "Requirement already satisfied: typing_extensions>=4.9.0 in c:\\users\\yong\\appdata\\local\\programs\\python\\python311\\lib\\site-packages (from selenium) (4.9.0)\n",
      "Requirement already satisfied: websocket-client>=1.8.0 in c:\\users\\yong\\appdata\\local\\programs\\python\\python311\\lib\\site-packages (from selenium) (1.8.0)\n",
      "Requirement already satisfied: chardet in c:\\users\\yong\\appdata\\local\\programs\\python\\python311\\lib\\site-packages (from unstructured) (3.0.4)\n",
      "Requirement already satisfied: filetype in c:\\users\\yong\\appdata\\local\\programs\\python\\python311\\lib\\site-packages (from unstructured) (1.2.0)\n",
      "Requirement already satisfied: python-magic in c:\\users\\yong\\appdata\\local\\programs\\python\\python311\\lib\\site-packages (from unstructured) (0.4.27)\n",
      "Requirement already satisfied: lxml in c:\\users\\yong\\appdata\\local\\programs\\python\\python311\\lib\\site-packages (from unstructured) (5.2.2)\n",
      "Requirement already satisfied: nltk in c:\\users\\yong\\appdata\\local\\programs\\python\\python311\\lib\\site-packages (from unstructured) (3.8.1)\n",
      "Requirement already satisfied: tabulate in c:\\users\\yong\\appdata\\local\\programs\\python\\python311\\lib\\site-packages (from unstructured) (0.9.0)\n",
      "Requirement already satisfied: requests in c:\\users\\yong\\appdata\\local\\programs\\python\\python311\\lib\\site-packages (from unstructured) (2.31.0)\n",
      "Requirement already satisfied: beautifulsoup4 in c:\\users\\yong\\appdata\\local\\programs\\python\\python311\\lib\\site-packages (from unstructured) (4.12.3)\n",
      "Requirement already satisfied: emoji in c:\\users\\yong\\appdata\\local\\programs\\python\\python311\\lib\\site-packages (from unstructured) (2.12.1)\n",
      "Requirement already satisfied: dataclasses-json in c:\\users\\yong\\appdata\\local\\programs\\python\\python311\\lib\\site-packages (from unstructured) (0.6.4)\n",
      "Requirement already satisfied: python-iso639 in c:\\users\\yong\\appdata\\local\\programs\\python\\python311\\lib\\site-packages (from unstructured) (2024.4.27)\n",
      "Requirement already satisfied: langdetect in c:\\users\\yong\\appdata\\local\\programs\\python\\python311\\lib\\site-packages (from unstructured) (1.0.9)\n",
      "Requirement already satisfied: numpy in c:\\users\\yong\\appdata\\local\\programs\\python\\python311\\lib\\site-packages (from unstructured) (1.26.3)\n",
      "Requirement already satisfied: rapidfuzz in c:\\users\\yong\\appdata\\local\\programs\\python\\python311\\lib\\site-packages (from unstructured) (3.6.1)\n",
      "Requirement already satisfied: backoff in c:\\users\\yong\\appdata\\local\\programs\\python\\python311\\lib\\site-packages (from unstructured) (2.2.1)\n",
      "Requirement already satisfied: unstructured-client in c:\\users\\yong\\appdata\\local\\programs\\python\\python311\\lib\\site-packages (from unstructured) (0.23.7)\n",
      "Requirement already satisfied: wrapt in c:\\users\\yong\\appdata\\local\\programs\\python\\python311\\lib\\site-packages (from unstructured) (1.16.0)\n",
      "Requirement already satisfied: tqdm in c:\\users\\yong\\appdata\\local\\programs\\python\\python311\\lib\\site-packages (from unstructured) (4.66.1)\n",
      "Requirement already satisfied: PyYAML>=5.3 in c:\\users\\yong\\appdata\\local\\programs\\python\\python311\\lib\\site-packages (from langchain) (6.0.1)\n",
      "Requirement already satisfied: SQLAlchemy<3,>=1.4 in c:\\users\\yong\\appdata\\local\\programs\\python\\python311\\lib\\site-packages (from langchain) (2.0.25)\n",
      "Requirement already satisfied: aiohttp<4.0.0,>=3.8.3 in c:\\users\\yong\\appdata\\local\\programs\\python\\python311\\lib\\site-packages (from langchain) (3.9.3)\n",
      "Requirement already satisfied: langchain-text-splitters<0.3.0,>=0.2.0 in c:\\users\\yong\\appdata\\local\\programs\\python\\python311\\lib\\site-packages (from langchain) (0.2.1)\n",
      "Requirement already satisfied: langsmith<0.2.0,>=0.1.17 in c:\\users\\yong\\appdata\\local\\programs\\python\\python311\\lib\\site-packages (from langchain) (0.1.81)\n",
      "Requirement already satisfied: pydantic<3,>=1 in c:\\users\\yong\\appdata\\local\\programs\\python\\python311\\lib\\site-packages (from langchain) (1.10.13)\n",
      "Requirement already satisfied: tenacity<9.0.0,>=8.1.0 in c:\\users\\yong\\appdata\\local\\programs\\python\\python311\\lib\\site-packages (from langchain) (8.2.3)\n",
      "Requirement already satisfied: jsonpatch<2.0,>=1.33 in c:\\users\\yong\\appdata\\local\\programs\\python\\python311\\lib\\site-packages (from langchain-core) (1.33)\n",
      "Requirement already satisfied: packaging<25,>=23.2 in c:\\users\\yong\\appdata\\local\\programs\\python\\python311\\lib\\site-packages (from langchain-core) (23.2)\n",
      "Requirement already satisfied: aiosignal>=1.1.2 in c:\\users\\yong\\appdata\\local\\programs\\python\\python311\\lib\\site-packages (from aiohttp<4.0.0,>=3.8.3->langchain) (1.3.1)\n",
      "Requirement already satisfied: attrs>=17.3.0 in c:\\users\\yong\\appdata\\local\\programs\\python\\python311\\lib\\site-packages (from aiohttp<4.0.0,>=3.8.3->langchain) (23.2.0)\n",
      "Requirement already satisfied: frozenlist>=1.1.1 in c:\\users\\yong\\appdata\\local\\programs\\python\\python311\\lib\\site-packages (from aiohttp<4.0.0,>=3.8.3->langchain) (1.4.1)\n",
      "Requirement already satisfied: multidict<7.0,>=4.5 in c:\\users\\yong\\appdata\\local\\programs\\python\\python311\\lib\\site-packages (from aiohttp<4.0.0,>=3.8.3->langchain) (6.0.4)\n",
      "Requirement already satisfied: yarl<2.0,>=1.0 in c:\\users\\yong\\appdata\\local\\programs\\python\\python311\\lib\\site-packages (from aiohttp<4.0.0,>=3.8.3->langchain) (1.9.4)\n",
      "Requirement already satisfied: jsonpointer>=1.9 in c:\\users\\yong\\appdata\\local\\programs\\python\\python311\\lib\\site-packages (from jsonpatch<2.0,>=1.33->langchain-core) (2.4)\n",
      "Requirement already satisfied: orjson<4.0.0,>=3.9.14 in c:\\users\\yong\\appdata\\local\\programs\\python\\python311\\lib\\site-packages (from langsmith<0.2.0,>=0.1.17->langchain) (3.10.0)\n",
      "Requirement already satisfied: charset-normalizer<4,>=2 in c:\\users\\yong\\appdata\\local\\programs\\python\\python311\\lib\\site-packages (from requests->unstructured) (3.3.2)\n",
      "Requirement already satisfied: idna<4,>=2.5 in c:\\users\\yong\\appdata\\local\\programs\\python\\python311\\lib\\site-packages (from requests->unstructured) (3.7)\n",
      "Requirement already satisfied: greenlet!=0.4.17 in c:\\users\\yong\\appdata\\local\\programs\\python\\python311\\lib\\site-packages (from SQLAlchemy<3,>=1.4->langchain) (3.0.3)\n",
      "Requirement already satisfied: sortedcontainers in c:\\users\\yong\\appdata\\local\\programs\\python\\python311\\lib\\site-packages (from trio~=0.17->selenium) (2.4.0)\n",
      "Requirement already satisfied: outcome in c:\\users\\yong\\appdata\\local\\programs\\python\\python311\\lib\\site-packages (from trio~=0.17->selenium) (1.3.0.post0)\n",
      "Requirement already satisfied: sniffio>=1.3.0 in c:\\users\\yong\\appdata\\local\\programs\\python\\python311\\lib\\site-packages (from trio~=0.17->selenium) (1.3.0)\n",
      "Requirement already satisfied: cffi>=1.14 in c:\\users\\yong\\appdata\\local\\programs\\python\\python311\\lib\\site-packages (from trio~=0.17->selenium) (1.16.0)\n",
      "Requirement already satisfied: wsproto>=0.14 in c:\\users\\yong\\appdata\\local\\programs\\python\\python311\\lib\\site-packages (from trio-websocket~=0.9->selenium) (1.2.0)\n",
      "Requirement already satisfied: pysocks!=1.5.7,<2.0,>=1.5.6 in c:\\users\\yong\\appdata\\local\\programs\\python\\python311\\lib\\site-packages (from urllib3[socks]<3,>=1.26->selenium) (1.7.1)\n",
      "Requirement already satisfied: soupsieve>1.2 in c:\\users\\yong\\appdata\\local\\programs\\python\\python311\\lib\\site-packages (from beautifulsoup4->unstructured) (2.5)\n",
      "Requirement already satisfied: marshmallow<4.0.0,>=3.18.0 in c:\\users\\yong\\appdata\\local\\programs\\python\\python311\\lib\\site-packages (from dataclasses-json->unstructured) (3.20.2)\n",
      "Requirement already satisfied: typing-inspect<1,>=0.4.0 in c:\\users\\yong\\appdata\\local\\programs\\python\\python311\\lib\\site-packages (from dataclasses-json->unstructured) (0.9.0)\n",
      "Requirement already satisfied: six in c:\\users\\yong\\appdata\\local\\programs\\python\\python311\\lib\\site-packages (from langdetect->unstructured) (1.16.0)\n",
      "Requirement already satisfied: click in c:\\users\\yong\\appdata\\local\\programs\\python\\python311\\lib\\site-packages (from nltk->unstructured) (8.1.7)\n",
      "Requirement already satisfied: joblib in c:\\users\\yong\\appdata\\local\\programs\\python\\python311\\lib\\site-packages (from nltk->unstructured) (1.3.2)\n",
      "Requirement already satisfied: regex>=2021.8.3 in c:\\users\\yong\\appdata\\local\\programs\\python\\python311\\lib\\site-packages (from nltk->unstructured) (2023.12.25)\n",
      "Requirement already satisfied: colorama in c:\\users\\yong\\appdata\\local\\programs\\python\\python311\\lib\\site-packages (from tqdm->unstructured) (0.4.6)\n",
      "Requirement already satisfied: deepdiff>=6.0 in c:\\users\\yong\\appdata\\local\\programs\\python\\python311\\lib\\site-packages (from unstructured-client->unstructured) (7.0.1)\n",
      "Requirement already satisfied: httpx>=0.27.0 in c:\\users\\yong\\appdata\\local\\programs\\python\\python311\\lib\\site-packages (from unstructured-client->unstructured) (0.27.0)\n",
      "Requirement already satisfied: jsonpath-python>=1.0.6 in c:\\users\\yong\\appdata\\local\\programs\\python\\python311\\lib\\site-packages (from unstructured-client->unstructured) (1.0.6)\n",
      "Requirement already satisfied: mypy-extensions>=1.0.0 in c:\\users\\yong\\appdata\\local\\programs\\python\\python311\\lib\\site-packages (from unstructured-client->unstructured) (1.0.0)\n",
      "Requirement already satisfied: nest-asyncio>=1.6.0 in c:\\users\\yong\\appdata\\local\\programs\\python\\python311\\lib\\site-packages (from unstructured-client->unstructured) (1.6.0)\n",
      "Requirement already satisfied: pypdf>=4.0 in c:\\users\\yong\\appdata\\local\\programs\\python\\python311\\lib\\site-packages (from unstructured-client->unstructured) (4.2.0)\n",
      "Requirement already satisfied: python-dateutil>=2.8.2 in c:\\users\\yong\\appdata\\local\\programs\\python\\python311\\lib\\site-packages (from unstructured-client->unstructured) (2.8.2)\n",
      "Requirement already satisfied: requests-toolbelt>=1.0.0 in c:\\users\\yong\\appdata\\local\\programs\\python\\python311\\lib\\site-packages (from unstructured-client->unstructured) (1.0.0)\n",
      "Requirement already satisfied: pycparser in c:\\users\\yong\\appdata\\local\\programs\\python\\python311\\lib\\site-packages (from cffi>=1.14->trio~=0.17->selenium) (2.21)\n",
      "Requirement already satisfied: ordered-set<4.2.0,>=4.1.0 in c:\\users\\yong\\appdata\\local\\programs\\python\\python311\\lib\\site-packages (from deepdiff>=6.0->unstructured-client->unstructured) (4.1.0)\n",
      "Requirement already satisfied: anyio in c:\\users\\yong\\appdata\\local\\programs\\python\\python311\\lib\\site-packages (from httpx>=0.27.0->unstructured-client->unstructured) (4.2.0)\n",
      "Requirement already satisfied: httpcore==1.* in c:\\users\\yong\\appdata\\local\\programs\\python\\python311\\lib\\site-packages (from httpx>=0.27.0->unstructured-client->unstructured) (1.0.3)\n",
      "Requirement already satisfied: h11<0.15,>=0.13 in c:\\users\\yong\\appdata\\local\\programs\\python\\python311\\lib\\site-packages (from httpcore==1.*->httpx>=0.27.0->unstructured-client->unstructured) (0.14.0)\n"
     ]
    },
    {
     "name": "stderr",
     "output_type": "stream",
     "text": [
      "ERROR: Invalid requirement: '#'\n"
     ]
    }
   ],
   "source": [
    "!pip install selenium unstructured langchain langchain-core\n",
    "!pip install langchain-upstage  # Upstage API를 사용할 경우\n",
    "#!pip install langchain-openai  # OpenAI API를 사용할 경우"
   ]
  },
  {
   "cell_type": "code",
   "execution_count": 2,
   "id": "2a0dc702-9e48-4899-bdd7-e20cb29fd0ae",
   "metadata": {},
   "outputs": [],
   "source": [
    "from langchain_community.document_loaders import SeleniumURLLoader\n",
    "from langchain_core.prompts import ChatPromptTemplate\n",
    "from langchain_core.output_parsers import StrOutputParser\n",
    "\n",
    "from langchain_upstage import ChatUpstage\n",
    "#from langchain_openai import ChatOpenAI"
   ]
  },
  {
   "cell_type": "code",
   "execution_count": 3,
   "id": "6c0c0729-4f9c-49df-93ca-3e5cafe234e9",
   "metadata": {},
   "outputs": [],
   "source": [
    "urls = \"\"\"\n",
    "https://wikibook.co.kr/vector-search/\n",
    "https://wikibook.co.kr/llm-apps/\n",
    "https://wikibook.co.kr/copilot/\n",
    "https://wikibook.co.kr/my-chatgpt/\n",
    "https://wikibook.co.kr/langchain/\n",
    "\"\"\".strip().split(\"\\n\")"
   ]
  },
  {
   "cell_type": "code",
   "execution_count": 4,
   "id": "c5fdb089",
   "metadata": {},
   "outputs": [],
   "source": [
    "loader = SeleniumURLLoader(urls)\n",
    "docs = loader.load()"
   ]
  },
  {
   "cell_type": "code",
   "execution_count": 5,
   "id": "3bf9dbab",
   "metadata": {},
   "outputs": [],
   "source": [
    "prompt = ChatPromptTemplate.from_messages(\n",
    "    [(\"system\", \"Write a concise summary of the following in Korean:\\n\\n{context}\")]\n",
    ")\n",
    "output_parser = StrOutputParser()\n",
    "\n",
    "model = ChatUpstage()\n",
    "#model = ChatOpenAI()\n",
    "\n",
    "chain = (\n",
    "    prompt\n",
    "    | model\n",
    "    | output_parser\n",
    ")"
   ]
  },
  {
   "cell_type": "code",
   "execution_count": 6,
   "id": "cb5063c9",
   "metadata": {},
   "outputs": [
    {
     "name": "stdout",
     "output_type": "stream",
     "text": [
      "URL: https://wikibook.co.kr/vector-search/\n",
      "Title: 엘라스틱서치를 활용한 벡터 검색 실무 가이드 | 위키북스\n",
      "Summary: 이 책은 \"엘라스틱을 활용한 벡터 검색 실무 가이드: 자연어 처리와 생성형 AI, RAG를 위한 대규모 벡터 데이터베이스\"라는 제목을 가지고 있습니다. 이 책은 자연어 처리와 생성형 AI, RAG를 위한 대규모 벡터 데이터베이스를 구축하는 데 필요한 엘라스틱을 활용한 벡터 검색과 가시성, 사이버 보안, 챗GPT와의 통합을 최적화하는 방법을 가르쳐줍니다. 이 책은 먼저 NLP와 NLP 프로세스에서 엘라스틱의 기능을 소개합니다. 그런 다음, 벡터 검색과 엘라스틱을 통합하여 검색 사례뿐만 아니라 가시성과 사이버 보안 기능을 개선하는 데 중점을 둔 장으로 이어집니다. 이 책에는 엘라스틱을 사용하여 벡터 검색을 구현하고 최적화하는 데 필요한 모든 기술이 포함되어 있습니다. 이 책에서는 벡터 검색 기능을 사용하여 성능을 최적화하고, 이미지 벡터 검색과 그 적용 분야를 탐구하며, 개인 식별 정보를 탐지하고 마스킹하고, 차세대 가시성을 위한 로그 분석 및 검색을 구현하고, 사이버 보안을 위한 벡터 기반 봇 탐지를 사용하고, 벡터 공간을 시각화하고 엘라스틱의 최신 검색 기능을 살펴보고, Streamlit을 사용하여 RAG 강화 애플리케이션을 구현하는 방법에 대해 다룹니다.\n",
      "\n",
      "\n",
      "URL: https://wikibook.co.kr/llm-apps/\n",
      "Title: 챗GPT와 랭체인을 활용한 LLM 기반 AI 앱 개발 | 위키북스\n",
      "Summary: 이 책은 챗GPT와 Langchain 프레임워크를 사용하여 대규모 언어 모델(LLM)을 사용하여 애플리케이션에 통합하는 방법을 가르치는 책입니다. LLM 애플리케이션 개발의 모든 단계, 즉 OpenAI API 및 Langchain의 기본 개념부터 웹 애플리케이션 및 Slack 앱 구축, 그리고 프로덕션 배포에 이르기까지 단계별 실습을 통해 학습할 수 있습니다. 또한, 벡터 데이터베이스, 서버리스 아키텍처 등의 최신 기술을 활용하는 방법과 보안 및 개인 정보 보호에 대한 노하우도 배울 수 있습니다. 이 책을 통해 LLM의 잠재력을 현실로 구현할 수 있는 개발자가 될 수 있습니다.\n",
      "\n",
      "\n",
      "URL: https://wikibook.co.kr/copilot/\n",
      "Title: AI 코딩 어시스턴트 깃허브 코파일럿 제대로 활용하기 | 위키북스\n",
      "Summary: 위키북스 출판사에서는 GitHub Copilot, ChatGPT와 같은 AI 코드 어시스턴트를 사용하여 효율적으로 코딩하는 방법을 안내하는 \"AI 코딩 어시스턴트 GitHub Copilot 제대로 활용하기\"라는 책을 소개하고 있습니다. 이 책은 AI를 사용하여 Python 프로그램을 작성하고 개선하는 방법을 보여주며, 컴퓨터 프로그램 작성 방식을 근본적으로 변화시키고 있습니다. 이 책은 AI 어시스턴트를 사용하여 아이디어를 빠르게 구현하는 방법을 안내하며, AI 어시스턴트가 생성하는 내용을 이해하고 개선할 수 있을 만큼 Python 언어를 배울 수 있습니다. 이 책은 컴퓨터에서 파일을 이동하고 새로운 프로그램을 설치할 수 있는 모든 사람들에게 유용한 소프트웨어 작성법을 배우고자 하는 사람들에게 적합합니다.\n",
      "\n",
      "\n",
      "URL: https://wikibook.co.kr/my-chatgpt/\n",
      "Title: OpenAI API와 파이썬으로 나만의 챗GPT 만들기 | 위키북스\n",
      "Summary: 위키북스의 \"OpenAI API와 파이썬으로 챗GPT 만들기\"라는 책은 OpenAI API를 사용하여 파이썬으로 챗봇과 같은 AI 애플리케이션을 개발하는 방법을 가르쳐줍니다. 이 책은 챗GPT와 API의 기본 개념부터 시작하여, 챗봇, 음성 인식 및 요약과 같은 실제 예제를 통해 OpenAI API의 다양한 사용법을 학습할 수 있습니다. 또한, LangChain과 Chroma를 사용하여 대화형 애플리케이션 개발을 간소화하는 방법도 소개합니다. 이 책을 통해 독자들은 AI 애플리케이션을 직접 만들 수 있는 능력을 갖출 수 있습니다.\n",
      "\n",
      "\n",
      "URL: https://wikibook.co.kr/langchain/\n",
      "Title: 랭체인 완벽 입문 | 위키북스\n",
      "Summary: '랭체인 완벽 입문'은 랭체인을 사용하여 생성형 AI 앱을 개발하는 방법을 다루는 책입니다. 이 책은 랭체인의 각 모듈을 사용하여 AI 앱을 개발하는 방법을 가르치며, 다양한 실제 예제 코드를 제공합니다. 이 책은 파이썬과 비주얼 스튜디오 코드(VS Code)를 사용하여 여러 플랫폼에서 개발하는 방법을 익히고, AI와 대화하는 방법을 배우는 프롬프트 엔지니어링의 기초를 다룹니다. 이 책은 초보자를 대상으로 하며, 생성형 AI 앱을 개발하고자 하는 사람들에게 필수적인 내용을 다룹니다.\n",
      "\n",
      "\n"
     ]
    }
   ],
   "source": [
    "for doc in docs:\n",
    "    print(f\"URL: {doc.metadata['source']}\")\n",
    "    print(f\"Title: {doc.metadata['title']}\")\n",
    "    summary = chain.invoke({\"context\": doc.page_content})\n",
    "    print(f\"Summary: {summary}\\n\\n\")"
   ]
  }
 ],
 "metadata": {
  "kernelspec": {
   "display_name": "Python 3 (ipykernel)",
   "language": "python",
   "name": "python3"
  },
  "language_info": {
   "codemirror_mode": {
    "name": "ipython",
    "version": 3
   },
   "file_extension": ".py",
   "mimetype": "text/x-python",
   "name": "python",
   "nbconvert_exporter": "python",
   "pygments_lexer": "ipython3",
   "version": "3.11.7"
  }
 },
 "nbformat": 4,
 "nbformat_minor": 5
}
