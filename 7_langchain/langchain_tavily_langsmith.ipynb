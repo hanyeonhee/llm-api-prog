{
  "nbformat": 4,
  "nbformat_minor": 0,
  "metadata": {
    "colab": {
      "provenance": [],
      "authorship_tag": "ABX9TyN4eFpD3l8dBHz/+u8e36/W",
      "include_colab_link": true
    },
    "kernelspec": {
      "name": "python3",
      "display_name": "Python 3"
    },
    "language_info": {
      "name": "python"
    }
  },
  "cells": [
    {
      "cell_type": "markdown",
      "metadata": {
        "id": "view-in-github",
        "colab_type": "text"
      },
      "source": [
        "<a href=\"https://colab.research.google.com/github/ychoi-kr/llm-api-prog/blob/main/7_langchain/langchain_tavily_langsmith.ipynb\" target=\"_parent\"><img src=\"https://colab.research.google.com/assets/colab-badge.svg\" alt=\"Open In Colab\"/></a>"
      ]
    },
    {
      "cell_type": "code",
      "source": [
        "# 랭체인 0.2\n",
        "#!pip install langchain==0.2.16 langchain-core==0.2.43 langchain-openai==0.1.23 langchainhub==0.1.21 langchain-community==0.2.17 tavily-python==0.5.0\n",
        "\n",
        "# 랭체인 0.3\n",
        "!pip install langchain==0.3.9 langchain-core==0.3.21 langchain-openai==0.2.10 langchainhub==0.1.21 langchain-community==0.3.8 tavily-python==0.5.0"
      ],
      "metadata": {
        "colab": {
          "base_uri": "https://localhost:8080/"
        },
        "id": "QwY1JGRUpGwA",
        "outputId": "d2f33df4-a9f5-458b-ba85-948a2be412ba"
      },
      "execution_count": 1,
      "outputs": [
        {
          "output_type": "stream",
          "name": "stdout",
          "text": [
            "Collecting langchain==0.3.9\n",
            "  Downloading langchain-0.3.9-py3-none-any.whl.metadata (7.1 kB)\n",
            "Collecting langchain-core==0.3.21\n",
            "  Downloading langchain_core-0.3.21-py3-none-any.whl.metadata (6.3 kB)\n",
            "Collecting langchain-openai==0.2.10\n",
            "  Downloading langchain_openai-0.2.10-py3-none-any.whl.metadata (2.6 kB)\n",
            "Collecting langchainhub==0.1.21\n",
            "  Downloading langchainhub-0.1.21-py3-none-any.whl.metadata (659 bytes)\n",
            "Collecting langchain-community==0.3.8\n",
            "  Downloading langchain_community-0.3.8-py3-none-any.whl.metadata (2.9 kB)\n",
            "Collecting tavily-python==0.5.0\n",
            "  Downloading tavily_python-0.5.0-py3-none-any.whl.metadata (11 kB)\n",
            "Requirement already satisfied: PyYAML>=5.3 in /usr/local/lib/python3.10/dist-packages (from langchain==0.3.9) (6.0.2)\n",
            "Requirement already satisfied: SQLAlchemy<3,>=1.4 in /usr/local/lib/python3.10/dist-packages (from langchain==0.3.9) (2.0.36)\n",
            "Requirement already satisfied: aiohttp<4.0.0,>=3.8.3 in /usr/local/lib/python3.10/dist-packages (from langchain==0.3.9) (3.11.2)\n",
            "Requirement already satisfied: async-timeout<5.0.0,>=4.0.0 in /usr/local/lib/python3.10/dist-packages (from langchain==0.3.9) (4.0.3)\n",
            "Requirement already satisfied: langchain-text-splitters<0.4.0,>=0.3.0 in /usr/local/lib/python3.10/dist-packages (from langchain==0.3.9) (0.3.2)\n",
            "Requirement already satisfied: langsmith<0.2.0,>=0.1.17 in /usr/local/lib/python3.10/dist-packages (from langchain==0.3.9) (0.1.143)\n",
            "Requirement already satisfied: numpy<2,>=1.22.4 in /usr/local/lib/python3.10/dist-packages (from langchain==0.3.9) (1.26.4)\n",
            "Requirement already satisfied: pydantic<3.0.0,>=2.7.4 in /usr/local/lib/python3.10/dist-packages (from langchain==0.3.9) (2.9.2)\n",
            "Requirement already satisfied: requests<3,>=2 in /usr/local/lib/python3.10/dist-packages (from langchain==0.3.9) (2.32.3)\n",
            "Requirement already satisfied: tenacity!=8.4.0,<10,>=8.1.0 in /usr/local/lib/python3.10/dist-packages (from langchain==0.3.9) (9.0.0)\n",
            "Requirement already satisfied: jsonpatch<2.0,>=1.33 in /usr/local/lib/python3.10/dist-packages (from langchain-core==0.3.21) (1.33)\n",
            "Requirement already satisfied: packaging<25,>=23.2 in /usr/local/lib/python3.10/dist-packages (from langchain-core==0.3.21) (24.2)\n",
            "Requirement already satisfied: typing-extensions>=4.7 in /usr/local/lib/python3.10/dist-packages (from langchain-core==0.3.21) (4.12.2)\n",
            "Requirement already satisfied: openai<2.0.0,>=1.54.0 in /usr/local/lib/python3.10/dist-packages (from langchain-openai==0.2.10) (1.54.4)\n",
            "Collecting tiktoken<1,>=0.7 (from langchain-openai==0.2.10)\n",
            "  Downloading tiktoken-0.8.0-cp310-cp310-manylinux_2_17_x86_64.manylinux2014_x86_64.whl.metadata (6.6 kB)\n",
            "Collecting types-requests<3.0.0.0,>=2.31.0.2 (from langchainhub==0.1.21)\n",
            "  Downloading types_requests-2.32.0.20241016-py3-none-any.whl.metadata (1.9 kB)\n",
            "Collecting SQLAlchemy<3,>=1.4 (from langchain==0.3.9)\n",
            "  Downloading SQLAlchemy-2.0.35-cp310-cp310-manylinux_2_17_x86_64.manylinux2014_x86_64.whl.metadata (9.6 kB)\n",
            "Collecting dataclasses-json<0.7,>=0.5.7 (from langchain-community==0.3.8)\n",
            "  Downloading dataclasses_json-0.6.7-py3-none-any.whl.metadata (25 kB)\n",
            "Collecting httpx-sse<0.5.0,>=0.4.0 (from langchain-community==0.3.8)\n",
            "  Downloading httpx_sse-0.4.0-py3-none-any.whl.metadata (9.0 kB)\n",
            "Collecting pydantic-settings<3.0.0,>=2.4.0 (from langchain-community==0.3.8)\n",
            "  Downloading pydantic_settings-2.6.1-py3-none-any.whl.metadata (3.5 kB)\n",
            "Requirement already satisfied: httpx in /usr/local/lib/python3.10/dist-packages (from tavily-python==0.5.0) (0.27.2)\n",
            "Requirement already satisfied: aiohappyeyeballs>=2.3.0 in /usr/local/lib/python3.10/dist-packages (from aiohttp<4.0.0,>=3.8.3->langchain==0.3.9) (2.4.3)\n",
            "Requirement already satisfied: aiosignal>=1.1.2 in /usr/local/lib/python3.10/dist-packages (from aiohttp<4.0.0,>=3.8.3->langchain==0.3.9) (1.3.1)\n",
            "Requirement already satisfied: attrs>=17.3.0 in /usr/local/lib/python3.10/dist-packages (from aiohttp<4.0.0,>=3.8.3->langchain==0.3.9) (24.2.0)\n",
            "Requirement already satisfied: frozenlist>=1.1.1 in /usr/local/lib/python3.10/dist-packages (from aiohttp<4.0.0,>=3.8.3->langchain==0.3.9) (1.5.0)\n",
            "Requirement already satisfied: multidict<7.0,>=4.5 in /usr/local/lib/python3.10/dist-packages (from aiohttp<4.0.0,>=3.8.3->langchain==0.3.9) (6.1.0)\n",
            "Requirement already satisfied: propcache>=0.2.0 in /usr/local/lib/python3.10/dist-packages (from aiohttp<4.0.0,>=3.8.3->langchain==0.3.9) (0.2.0)\n",
            "Requirement already satisfied: yarl<2.0,>=1.17.0 in /usr/local/lib/python3.10/dist-packages (from aiohttp<4.0.0,>=3.8.3->langchain==0.3.9) (1.17.2)\n",
            "Collecting marshmallow<4.0.0,>=3.18.0 (from dataclasses-json<0.7,>=0.5.7->langchain-community==0.3.8)\n",
            "  Downloading marshmallow-3.23.1-py3-none-any.whl.metadata (7.5 kB)\n",
            "Collecting typing-inspect<1,>=0.4.0 (from dataclasses-json<0.7,>=0.5.7->langchain-community==0.3.8)\n",
            "  Downloading typing_inspect-0.9.0-py3-none-any.whl.metadata (1.5 kB)\n",
            "Requirement already satisfied: jsonpointer>=1.9 in /usr/local/lib/python3.10/dist-packages (from jsonpatch<2.0,>=1.33->langchain-core==0.3.21) (3.0.0)\n",
            "Requirement already satisfied: orjson<4.0.0,>=3.9.14 in /usr/local/lib/python3.10/dist-packages (from langsmith<0.2.0,>=0.1.17->langchain==0.3.9) (3.10.11)\n",
            "Requirement already satisfied: requests-toolbelt<2.0.0,>=1.0.0 in /usr/local/lib/python3.10/dist-packages (from langsmith<0.2.0,>=0.1.17->langchain==0.3.9) (1.0.0)\n",
            "Requirement already satisfied: anyio in /usr/local/lib/python3.10/dist-packages (from httpx->tavily-python==0.5.0) (3.7.1)\n",
            "Requirement already satisfied: certifi in /usr/local/lib/python3.10/dist-packages (from httpx->tavily-python==0.5.0) (2024.8.30)\n",
            "Requirement already satisfied: httpcore==1.* in /usr/local/lib/python3.10/dist-packages (from httpx->tavily-python==0.5.0) (1.0.7)\n",
            "Requirement already satisfied: idna in /usr/local/lib/python3.10/dist-packages (from httpx->tavily-python==0.5.0) (3.10)\n",
            "Requirement already satisfied: sniffio in /usr/local/lib/python3.10/dist-packages (from httpx->tavily-python==0.5.0) (1.3.1)\n",
            "Requirement already satisfied: h11<0.15,>=0.13 in /usr/local/lib/python3.10/dist-packages (from httpcore==1.*->httpx->tavily-python==0.5.0) (0.14.0)\n",
            "Requirement already satisfied: distro<2,>=1.7.0 in /usr/local/lib/python3.10/dist-packages (from openai<2.0.0,>=1.54.0->langchain-openai==0.2.10) (1.9.0)\n",
            "Requirement already satisfied: jiter<1,>=0.4.0 in /usr/local/lib/python3.10/dist-packages (from openai<2.0.0,>=1.54.0->langchain-openai==0.2.10) (0.7.1)\n",
            "Requirement already satisfied: tqdm>4 in /usr/local/lib/python3.10/dist-packages (from openai<2.0.0,>=1.54.0->langchain-openai==0.2.10) (4.66.6)\n",
            "Requirement already satisfied: annotated-types>=0.6.0 in /usr/local/lib/python3.10/dist-packages (from pydantic<3.0.0,>=2.7.4->langchain==0.3.9) (0.7.0)\n",
            "Requirement already satisfied: pydantic-core==2.23.4 in /usr/local/lib/python3.10/dist-packages (from pydantic<3.0.0,>=2.7.4->langchain==0.3.9) (2.23.4)\n",
            "Collecting python-dotenv>=0.21.0 (from pydantic-settings<3.0.0,>=2.4.0->langchain-community==0.3.8)\n",
            "  Downloading python_dotenv-1.0.1-py3-none-any.whl.metadata (23 kB)\n",
            "Requirement already satisfied: charset-normalizer<4,>=2 in /usr/local/lib/python3.10/dist-packages (from requests<3,>=2->langchain==0.3.9) (3.4.0)\n",
            "Requirement already satisfied: urllib3<3,>=1.21.1 in /usr/local/lib/python3.10/dist-packages (from requests<3,>=2->langchain==0.3.9) (2.2.3)\n",
            "Requirement already satisfied: greenlet!=0.4.17 in /usr/local/lib/python3.10/dist-packages (from SQLAlchemy<3,>=1.4->langchain==0.3.9) (3.1.1)\n",
            "Requirement already satisfied: regex>=2022.1.18 in /usr/local/lib/python3.10/dist-packages (from tiktoken<1,>=0.7->langchain-openai==0.2.10) (2024.9.11)\n",
            "Requirement already satisfied: exceptiongroup in /usr/local/lib/python3.10/dist-packages (from anyio->httpx->tavily-python==0.5.0) (1.2.2)\n",
            "Collecting mypy-extensions>=0.3.0 (from typing-inspect<1,>=0.4.0->dataclasses-json<0.7,>=0.5.7->langchain-community==0.3.8)\n",
            "  Downloading mypy_extensions-1.0.0-py3-none-any.whl.metadata (1.1 kB)\n",
            "Downloading langchain-0.3.9-py3-none-any.whl (1.0 MB)\n",
            "\u001b[2K   \u001b[90m━━━━━━━━━━━━━━━━━━━━━━━━━━━━━━━━━━━━━━━━\u001b[0m \u001b[32m1.0/1.0 MB\u001b[0m \u001b[31m11.1 MB/s\u001b[0m eta \u001b[36m0:00:00\u001b[0m\n",
            "\u001b[?25hDownloading langchain_core-0.3.21-py3-none-any.whl (409 kB)\n",
            "\u001b[2K   \u001b[90m━━━━━━━━━━━━━━━━━━━━━━━━━━━━━━━━━━━━━━━━\u001b[0m \u001b[32m409.5/409.5 kB\u001b[0m \u001b[31m16.4 MB/s\u001b[0m eta \u001b[36m0:00:00\u001b[0m\n",
            "\u001b[?25hDownloading langchain_openai-0.2.10-py3-none-any.whl (50 kB)\n",
            "\u001b[2K   \u001b[90m━━━━━━━━━━━━━━━━━━━━━━━━━━━━━━━━━━━━━━━━\u001b[0m \u001b[32m50.6/50.6 kB\u001b[0m \u001b[31m1.9 MB/s\u001b[0m eta \u001b[36m0:00:00\u001b[0m\n",
            "\u001b[?25hDownloading langchainhub-0.1.21-py3-none-any.whl (5.2 kB)\n",
            "Downloading langchain_community-0.3.8-py3-none-any.whl (2.4 MB)\n",
            "\u001b[2K   \u001b[90m━━━━━━━━━━━━━━━━━━━━━━━━━━━━━━━━━━━━━━━━\u001b[0m \u001b[32m2.4/2.4 MB\u001b[0m \u001b[31m21.4 MB/s\u001b[0m eta \u001b[36m0:00:00\u001b[0m\n",
            "\u001b[?25hDownloading tavily_python-0.5.0-py3-none-any.whl (14 kB)\n",
            "Downloading dataclasses_json-0.6.7-py3-none-any.whl (28 kB)\n",
            "Downloading httpx_sse-0.4.0-py3-none-any.whl (7.8 kB)\n",
            "Downloading pydantic_settings-2.6.1-py3-none-any.whl (28 kB)\n",
            "Downloading SQLAlchemy-2.0.35-cp310-cp310-manylinux_2_17_x86_64.manylinux2014_x86_64.whl (3.1 MB)\n",
            "\u001b[2K   \u001b[90m━━━━━━━━━━━━━━━━━━━━━━━━━━━━━━━━━━━━━━━━\u001b[0m \u001b[32m3.1/3.1 MB\u001b[0m \u001b[31m25.6 MB/s\u001b[0m eta \u001b[36m0:00:00\u001b[0m\n",
            "\u001b[?25hDownloading tiktoken-0.8.0-cp310-cp310-manylinux_2_17_x86_64.manylinux2014_x86_64.whl (1.2 MB)\n",
            "\u001b[2K   \u001b[90m━━━━━━━━━━━━━━━━━━━━━━━━━━━━━━━━━━━━━━━━\u001b[0m \u001b[32m1.2/1.2 MB\u001b[0m \u001b[31m30.4 MB/s\u001b[0m eta \u001b[36m0:00:00\u001b[0m\n",
            "\u001b[?25hDownloading types_requests-2.32.0.20241016-py3-none-any.whl (15 kB)\n",
            "Downloading marshmallow-3.23.1-py3-none-any.whl (49 kB)\n",
            "\u001b[2K   \u001b[90m━━━━━━━━━━━━━━━━━━━━━━━━━━━━━━━━━━━━━━━━\u001b[0m \u001b[32m49.5/49.5 kB\u001b[0m \u001b[31m3.4 MB/s\u001b[0m eta \u001b[36m0:00:00\u001b[0m\n",
            "\u001b[?25hDownloading python_dotenv-1.0.1-py3-none-any.whl (19 kB)\n",
            "Downloading typing_inspect-0.9.0-py3-none-any.whl (8.8 kB)\n",
            "Downloading mypy_extensions-1.0.0-py3-none-any.whl (4.7 kB)\n",
            "Installing collected packages: types-requests, SQLAlchemy, python-dotenv, mypy-extensions, marshmallow, httpx-sse, typing-inspect, tiktoken, langchainhub, tavily-python, pydantic-settings, dataclasses-json, langchain-core, langchain-openai, langchain, langchain-community\n",
            "  Attempting uninstall: SQLAlchemy\n",
            "    Found existing installation: SQLAlchemy 2.0.36\n",
            "    Uninstalling SQLAlchemy-2.0.36:\n",
            "      Successfully uninstalled SQLAlchemy-2.0.36\n",
            "  Attempting uninstall: langchain-core\n",
            "    Found existing installation: langchain-core 0.3.19\n",
            "    Uninstalling langchain-core-0.3.19:\n",
            "      Successfully uninstalled langchain-core-0.3.19\n",
            "  Attempting uninstall: langchain\n",
            "    Found existing installation: langchain 0.3.7\n",
            "    Uninstalling langchain-0.3.7:\n",
            "      Successfully uninstalled langchain-0.3.7\n",
            "Successfully installed SQLAlchemy-2.0.35 dataclasses-json-0.6.7 httpx-sse-0.4.0 langchain-0.3.9 langchain-community-0.3.8 langchain-core-0.3.21 langchain-openai-0.2.10 langchainhub-0.1.21 marshmallow-3.23.1 mypy-extensions-1.0.0 pydantic-settings-2.6.1 python-dotenv-1.0.1 tavily-python-0.5.0 tiktoken-0.8.0 types-requests-2.32.0.20241016 typing-inspect-0.9.0\n"
          ]
        }
      ]
    },
    {
      "cell_type": "code",
      "source": [
        "from google.colab import userdata\n",
        "import os\n",
        "os.environ[\"TAVILY_API_KEY\"] = userdata.get(\"TAVILY_API_KEY\")\n",
        "os.environ[\"OPENAI_API_KEY\"] = userdata.get(\"OPENAI_API_KEY\")"
      ],
      "metadata": {
        "id": "NPvrinQQn44i"
      },
      "execution_count": 2,
      "outputs": []
    },
    {
      "cell_type": "code",
      "source": [
        "# LangSmith 관련 환경 변수 설정\n",
        "# LangSmith 키 발급 방법: https://docs.smith.langchain.com/administration/how_to_guides/organization_management/create_account_api_key\n",
        "os.environ[\"LANGCHAIN_TRACING_V2\"]=\"true\"\n",
        "os.environ[\"LANGCHAIN_ENDPOINT\"]=\"https://api.smith.langchain.com\"\n",
        "os.environ[\"LANGCHAIN_API_KEY\"] = userdata.get(\"LANGCHAIN_API_KEY\")\n",
        "os.environ[\"LANGCHAIN_PROJECT\"]= \"pr-llm-api-prog-tavily\""
      ],
      "metadata": {
        "id": "fo3BNw0JJI3m"
      },
      "execution_count": 3,
      "outputs": []
    },
    {
      "cell_type": "code",
      "source": [
        "from langchain import hub\n",
        "from langchain.agents import load_tools\n",
        "from langchain.agents import AgentExecutor, create_openai_tools_agent\n",
        "from langchain_openai import ChatOpenAI\n",
        "from langchain_community.tools.tavily_search import TavilySearchResults\n",
        "\n",
        "llm = ChatOpenAI(model=\"gpt-4o-mini\", temperature=0)\n",
        "tools = [TavilySearchResults(max_results=3)]\n",
        "prompt = hub.pull(\n",
        "    \"hwchase17/openai-tools-agent\",\n",
        "    api_key=os.getenv(\"LANGCHAIN_API_KEY\")\n",
        ")\n",
        "\n",
        "agent = create_openai_tools_agent(llm, tools, prompt)\n",
        "agent_executor = AgentExecutor(agent=agent, tools=tools, verbose=True)\n",
        "\n",
        "\n",
        "result = agent_executor.invoke({\"input\": \"2024년 넷플릭스와 애플 TV+ 신작 중 SF 장르 작품을 알려줘\"})"
      ],
      "metadata": {
        "colab": {
          "base_uri": "https://localhost:8080/"
        },
        "id": "NS86sKV9H9ev",
        "outputId": "1f74e45d-724f-4518-891b-a4769f4654c6"
      },
      "execution_count": 4,
      "outputs": [
        {
          "output_type": "stream",
          "name": "stdout",
          "text": [
            "\n",
            "\n",
            "\u001b[1m> Entering new AgentExecutor chain...\u001b[0m\n",
            "\u001b[32;1m\u001b[1;3m\n",
            "Invoking: `tavily_search_results_json` with `{'query': '2024 Netflix new sci-fi releases'}`\n",
            "\n",
            "\n",
            "\u001b[0m\u001b[36;1m\u001b[1;3m[{'url': 'https://www.whats-on-netflix.com/coming-soon/new-sci-fi-movies-coming-to-netflix-in-2024-beyond/', 'content': \"Below, we'll take a look at Netflix's current slate of new sci-fi movies coming in 2024 and beyond. Lots more genre previews on the way here at What's on Netflix.\"}, {'url': 'https://netflixlife.com/2023/12/11/sci-fi-fantasy-netflix-originals-coming-2024/', 'content': \"We don't have a release date yet, but there's a good chance the show will be back in the early months of the new year. More sci-fi and fantasy Netflix Originals coming in 2024 Spaceman - Sci\"}, {'url': 'https://www.whats-on-netflix.com/coming-soon/netflix-movies-and-series-2024/', 'content': \"What's Coming to Netflix in February 2024\\nNetflix News In Your Inbox\\nnew Netflix releases this week\\nLatest News\\nNetflix News and Previews\\nNetflix US Lands Final 5 Episodes of The CW’s ‘Inside the NFL’ Ahead of Super Bowl LVIII\\nNetflix News and Previews\\n‘Society of the Snow’ Behind-the-Scenes Documentary Set to Release on Netflix\\nNetflix News and Previews\\n‘Sunderland ‘Til I Die’ Third and Final Season Coming to Netflix in February 2024\\n Netflix\\nWhat’s Coming in March 2024\\nPicture: Netflix\\nWhat’s Coming in April 2024\\nPicture: Netflix\\nWhat’s Coming in May 2024\\n A preview of all the dated and confirmed Netflix Originals coming in 2024 (so far)\\nKasey Moore ·\\n@kasey__moore\\nJanuary 12th, 2024 - 9:23 am ET\\n· Updated: January 13th, 2024, 3:23 pm\\nPictures via Netflix\\n2023 has seen many big Netflix shows and movies, but what does 2024 have in store? Netflix\\nWhat’s Coming in November 2024\\nPicture: Netflix\\nWhat’s Coming in December 2024\\nConfirmed To Be Coming to Netflix 2024\\n Picture: Netflix\\nPicture: Netflix\\nPicture: Netflix\\nWhat’s Coming in February 2024\\nOrion and the Dark – Cr: DreamWorks Animation © 2023\\nPicture: Netflix\\nPicture:\"}]\u001b[0m\u001b[32;1m\u001b[1;3m\n",
            "Invoking: `tavily_search_results_json` with `{'query': '2024 Apple TV+ new sci-fi releases'}`\n",
            "\n",
            "\n",
            "\u001b[0m\u001b[36;1m\u001b[1;3m[{'url': 'https://www.apple.com/tv-pr/news/2024/04/apple-tv-debuts-trailer-for-dark-matter-starring-joel-edgerton-and-jennifer-connelly/', 'content': 'Press Release April 11, 2024. Joel Edgerton and Jennifer Connelly star in \"Dark Matter,\" a new sci-fi thriller series coming to Apple TV+ on May 8, 2024. Today, Apple TV+ unveiled the trailer for its new sci-fi thriller \"Dark Matter,\" starring Joel Edgerton alongside Academy Award winner Jennifer Connelly, Alice Braga, Jimmi Simpson'}, {'url': 'https://www.apple.com/tv-pr/news/2024/06/apple-tv-unveils-trailer-for-all-new-sci-fi-coming-of-age-series-me-from-barry-l-levy-premiering-on-friday-july-12/', 'content': 'Press Release June 12, 2024 \"Me\" will premiere on Apple TV+ on July 12, 2024. Today, Apple TV+ released the trailer for the upcoming live-action family series \"Me,\" an elevated cinematic coming-of-age story from Barry L. Levy (\"Vantage Point\") premiering globally on Friday, July 12. ... Apple TV+ unveils trailer for all-new sci-fi'}, {'url': 'https://www.igeeksblog.com/upcoming-apple-tv-plus-shows-movies/', 'content': 'Release Date: November 15, 2024; One of the most acclaimed Apple TV+ sci-fi drama series Silo is set to return for a highly anticipated second season with 10 episodes. The story is based on the bestselling Wool trilogy, taking us to a post-apocalyptic future where humans live in a giant underground silo.'}]\u001b[0m\u001b[32;1m\u001b[1;3m### 2024년 넷플릭스 신작 SF 장르 작품\n",
            "1. **Spaceman** - 아직 구체적인 출시일은 정해지지 않았지만, 2024년 초에 방영될 가능성이 높습니다. [자세한 내용](https://netflixlife.com/2023/12/11/sci-fi-fantasy-netflix-originals-coming-2024/)에서 확인할 수 있습니다.\n",
            "2. **Orion and the Dark** - DreamWorks Animation의 작품으로, 2024년 2월에 출시될 예정입니다. [더 알아보기](https://www.whats-on-netflix.com/coming-soon/netflix-movies-and-series-2024/).\n",
            "\n",
            "### 2024년 애플 TV+ 신작 SF 장르 작품\n",
            "1. **Dark Matter** - 조엘 에저턴과 제니퍼 코넬리가 출연하는 새로운 SF 스릴러 시리즈로, 2024년 5월 8일에 방영됩니다. [트레일러 보기](https://www.apple.com/tv-pr/news/2024/04/apple-tv-debuts-trailer-for-dark-matter-starring-joel-edgerton-and-jennifer-connelly/).\n",
            "2. **Me** - 2024년 7월 12일에 방영될 예정인 SF 성장 이야기로, Barry L. Levy가 제작합니다. [자세한 내용](https://www.apple.com/tv-pr/news/2024/06/apple-tv-unveils-trailer-for-all-new-sci-fi-coming-of-age-series-me-from-barry-l-levy-premiering-on-friday-july-12/)에서 확인할 수 있습니다.\n",
            "3. **Silo (시즌 2)** - 포스트 아포칼립스 미래를 배경으로 한 드라마로, 2024년 11월 15일에 두 번째 시즌이 방영됩니다. [더 알아보기](https://www.igeeksblog.com/upcoming-apple-tv-plus-shows-movies/).\n",
            "\n",
            "이 외에도 다양한 SF 장르의 작품들이 예정되어 있으니, 각 플랫폼의 업데이트를 주의 깊게 살펴보세요!\u001b[0m\n",
            "\n",
            "\u001b[1m> Finished chain.\u001b[0m\n"
          ]
        }
      ]
    },
    {
      "cell_type": "code",
      "source": [
        "print(result[\"output\"])"
      ],
      "metadata": {
        "colab": {
          "base_uri": "https://localhost:8080/"
        },
        "id": "HH_tMxz6JFyc",
        "outputId": "7989f573-1b66-4df2-d13e-c33c81ca3049"
      },
      "execution_count": 5,
      "outputs": [
        {
          "output_type": "stream",
          "name": "stdout",
          "text": [
            "### 2024년 넷플릭스 신작 SF 장르 작품\n",
            "1. **Spaceman** - 아직 구체적인 출시일은 정해지지 않았지만, 2024년 초에 방영될 가능성이 높습니다. [자세한 내용](https://netflixlife.com/2023/12/11/sci-fi-fantasy-netflix-originals-coming-2024/)에서 확인할 수 있습니다.\n",
            "2. **Orion and the Dark** - DreamWorks Animation의 작품으로, 2024년 2월에 출시될 예정입니다. [더 알아보기](https://www.whats-on-netflix.com/coming-soon/netflix-movies-and-series-2024/).\n",
            "\n",
            "### 2024년 애플 TV+ 신작 SF 장르 작품\n",
            "1. **Dark Matter** - 조엘 에저턴과 제니퍼 코넬리가 출연하는 새로운 SF 스릴러 시리즈로, 2024년 5월 8일에 방영됩니다. [트레일러 보기](https://www.apple.com/tv-pr/news/2024/04/apple-tv-debuts-trailer-for-dark-matter-starring-joel-edgerton-and-jennifer-connelly/).\n",
            "2. **Me** - 2024년 7월 12일에 방영될 예정인 SF 성장 이야기로, Barry L. Levy가 제작합니다. [자세한 내용](https://www.apple.com/tv-pr/news/2024/06/apple-tv-unveils-trailer-for-all-new-sci-fi-coming-of-age-series-me-from-barry-l-levy-premiering-on-friday-july-12/)에서 확인할 수 있습니다.\n",
            "3. **Silo (시즌 2)** - 포스트 아포칼립스 미래를 배경으로 한 드라마로, 2024년 11월 15일에 두 번째 시즌이 방영됩니다. [더 알아보기](https://www.igeeksblog.com/upcoming-apple-tv-plus-shows-movies/).\n",
            "\n",
            "이 외에도 다양한 SF 장르의 작품들이 예정되어 있으니, 각 플랫폼의 업데이트를 주의 깊게 살펴보세요!\n"
          ]
        }
      ]
    }
  ]
}