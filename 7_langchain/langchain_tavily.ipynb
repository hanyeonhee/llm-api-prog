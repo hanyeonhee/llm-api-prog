{
  "nbformat": 4,
  "nbformat_minor": 0,
  "metadata": {
    "colab": {
      "provenance": [],
      "authorship_tag": "ABX9TyM7+Eg4ZhqaJj0ildERJvaF",
      "include_colab_link": true
    },
    "kernelspec": {
      "name": "python3",
      "display_name": "Python 3"
    },
    "language_info": {
      "name": "python"
    }
  },
  "cells": [
    {
      "cell_type": "markdown",
      "metadata": {
        "id": "view-in-github",
        "colab_type": "text"
      },
      "source": [
        "<a href=\"https://colab.research.google.com/github/ychoi-kr/llm-api-prog/blob/main/7_langchain/langchain_tavily.ipynb\" target=\"_parent\"><img src=\"https://colab.research.google.com/assets/colab-badge.svg\" alt=\"Open In Colab\"/></a>"
      ]
    },
    {
      "cell_type": "code",
      "source": [
        "!pip install langchain==0.2.16 langchain-openai==0.1.23 langchainhub==0.1.21 langchain-community==0.2.17 tavily-python"
      ],
      "metadata": {
        "colab": {
          "base_uri": "https://localhost:8080/"
        },
        "id": "QwY1JGRUpGwA",
        "outputId": "256b93d4-57ae-4494-d7f8-7550cabbf5f6"
      },
      "execution_count": null,
      "outputs": [
        {
          "output_type": "stream",
          "name": "stdout",
          "text": [
            "Collecting langchain==0.2.16\n",
            "  Downloading langchain-0.2.16-py3-none-any.whl.metadata (7.1 kB)\n",
            "Collecting langchain-openai==0.1.23\n",
            "  Downloading langchain_openai-0.1.23-py3-none-any.whl.metadata (2.6 kB)\n",
            "Collecting langchainhub==0.1.21\n",
            "  Downloading langchainhub-0.1.21-py3-none-any.whl.metadata (659 bytes)\n",
            "Collecting langchain-community==0.2.17\n",
            "  Downloading langchain_community-0.2.17-py3-none-any.whl.metadata (2.7 kB)\n",
            "Collecting tavily-python\n",
            "  Downloading tavily_python-0.5.0-py3-none-any.whl.metadata (11 kB)\n",
            "Requirement already satisfied: PyYAML>=5.3 in /usr/local/lib/python3.10/dist-packages (from langchain==0.2.16) (6.0.2)\n",
            "Requirement already satisfied: SQLAlchemy<3,>=1.4 in /usr/local/lib/python3.10/dist-packages (from langchain==0.2.16) (2.0.36)\n",
            "Requirement already satisfied: aiohttp<4.0.0,>=3.8.3 in /usr/local/lib/python3.10/dist-packages (from langchain==0.2.16) (3.11.2)\n",
            "Requirement already satisfied: async-timeout<5.0.0,>=4.0.0 in /usr/local/lib/python3.10/dist-packages (from langchain==0.2.16) (4.0.3)\n",
            "Collecting langchain-core<0.3.0,>=0.2.38 (from langchain==0.2.16)\n",
            "  Downloading langchain_core-0.2.43-py3-none-any.whl.metadata (6.2 kB)\n",
            "Collecting langchain-text-splitters<0.3.0,>=0.2.0 (from langchain==0.2.16)\n",
            "  Downloading langchain_text_splitters-0.2.4-py3-none-any.whl.metadata (2.3 kB)\n",
            "Requirement already satisfied: langsmith<0.2.0,>=0.1.17 in /usr/local/lib/python3.10/dist-packages (from langchain==0.2.16) (0.1.143)\n",
            "Requirement already satisfied: numpy<2,>=1 in /usr/local/lib/python3.10/dist-packages (from langchain==0.2.16) (1.26.4)\n",
            "Requirement already satisfied: pydantic<3,>=1 in /usr/local/lib/python3.10/dist-packages (from langchain==0.2.16) (2.9.2)\n",
            "Requirement already satisfied: requests<3,>=2 in /usr/local/lib/python3.10/dist-packages (from langchain==0.2.16) (2.32.3)\n",
            "Collecting tenacity!=8.4.0,<9.0.0,>=8.1.0 (from langchain==0.2.16)\n",
            "  Downloading tenacity-8.5.0-py3-none-any.whl.metadata (1.2 kB)\n",
            "Requirement already satisfied: openai<2.0.0,>=1.40.0 in /usr/local/lib/python3.10/dist-packages (from langchain-openai==0.1.23) (1.54.4)\n",
            "Collecting tiktoken<1,>=0.7 (from langchain-openai==0.1.23)\n",
            "  Downloading tiktoken-0.8.0-cp310-cp310-manylinux_2_17_x86_64.manylinux2014_x86_64.whl.metadata (6.6 kB)\n",
            "Requirement already satisfied: packaging<25,>=23.2 in /usr/local/lib/python3.10/dist-packages (from langchainhub==0.1.21) (24.2)\n",
            "Collecting types-requests<3.0.0.0,>=2.31.0.2 (from langchainhub==0.1.21)\n",
            "  Downloading types_requests-2.32.0.20241016-py3-none-any.whl.metadata (1.9 kB)\n",
            "Collecting dataclasses-json<0.7,>=0.5.7 (from langchain-community==0.2.17)\n",
            "  Downloading dataclasses_json-0.6.7-py3-none-any.whl.metadata (25 kB)\n",
            "Requirement already satisfied: httpx in /usr/local/lib/python3.10/dist-packages (from tavily-python) (0.27.2)\n",
            "Requirement already satisfied: aiohappyeyeballs>=2.3.0 in /usr/local/lib/python3.10/dist-packages (from aiohttp<4.0.0,>=3.8.3->langchain==0.2.16) (2.4.3)\n",
            "Requirement already satisfied: aiosignal>=1.1.2 in /usr/local/lib/python3.10/dist-packages (from aiohttp<4.0.0,>=3.8.3->langchain==0.2.16) (1.3.1)\n",
            "Requirement already satisfied: attrs>=17.3.0 in /usr/local/lib/python3.10/dist-packages (from aiohttp<4.0.0,>=3.8.3->langchain==0.2.16) (24.2.0)\n",
            "Requirement already satisfied: frozenlist>=1.1.1 in /usr/local/lib/python3.10/dist-packages (from aiohttp<4.0.0,>=3.8.3->langchain==0.2.16) (1.5.0)\n",
            "Requirement already satisfied: multidict<7.0,>=4.5 in /usr/local/lib/python3.10/dist-packages (from aiohttp<4.0.0,>=3.8.3->langchain==0.2.16) (6.1.0)\n",
            "Requirement already satisfied: propcache>=0.2.0 in /usr/local/lib/python3.10/dist-packages (from aiohttp<4.0.0,>=3.8.3->langchain==0.2.16) (0.2.0)\n",
            "Requirement already satisfied: yarl<2.0,>=1.17.0 in /usr/local/lib/python3.10/dist-packages (from aiohttp<4.0.0,>=3.8.3->langchain==0.2.16) (1.17.2)\n",
            "Collecting marshmallow<4.0.0,>=3.18.0 (from dataclasses-json<0.7,>=0.5.7->langchain-community==0.2.17)\n",
            "  Downloading marshmallow-3.23.1-py3-none-any.whl.metadata (7.5 kB)\n",
            "Collecting typing-inspect<1,>=0.4.0 (from dataclasses-json<0.7,>=0.5.7->langchain-community==0.2.17)\n",
            "  Downloading typing_inspect-0.9.0-py3-none-any.whl.metadata (1.5 kB)\n",
            "Requirement already satisfied: jsonpatch<2.0,>=1.33 in /usr/local/lib/python3.10/dist-packages (from langchain-core<0.3.0,>=0.2.38->langchain==0.2.16) (1.33)\n",
            "Requirement already satisfied: typing-extensions>=4.7 in /usr/local/lib/python3.10/dist-packages (from langchain-core<0.3.0,>=0.2.38->langchain==0.2.16) (4.12.2)\n",
            "Requirement already satisfied: orjson<4.0.0,>=3.9.14 in /usr/local/lib/python3.10/dist-packages (from langsmith<0.2.0,>=0.1.17->langchain==0.2.16) (3.10.11)\n",
            "Requirement already satisfied: requests-toolbelt<2.0.0,>=1.0.0 in /usr/local/lib/python3.10/dist-packages (from langsmith<0.2.0,>=0.1.17->langchain==0.2.16) (1.0.0)\n",
            "Requirement already satisfied: anyio in /usr/local/lib/python3.10/dist-packages (from httpx->tavily-python) (3.7.1)\n",
            "Requirement already satisfied: certifi in /usr/local/lib/python3.10/dist-packages (from httpx->tavily-python) (2024.8.30)\n",
            "Requirement already satisfied: httpcore==1.* in /usr/local/lib/python3.10/dist-packages (from httpx->tavily-python) (1.0.7)\n",
            "Requirement already satisfied: idna in /usr/local/lib/python3.10/dist-packages (from httpx->tavily-python) (3.10)\n",
            "Requirement already satisfied: sniffio in /usr/local/lib/python3.10/dist-packages (from httpx->tavily-python) (1.3.1)\n",
            "Requirement already satisfied: h11<0.15,>=0.13 in /usr/local/lib/python3.10/dist-packages (from httpcore==1.*->httpx->tavily-python) (0.14.0)\n",
            "Requirement already satisfied: distro<2,>=1.7.0 in /usr/local/lib/python3.10/dist-packages (from openai<2.0.0,>=1.40.0->langchain-openai==0.1.23) (1.9.0)\n",
            "Requirement already satisfied: jiter<1,>=0.4.0 in /usr/local/lib/python3.10/dist-packages (from openai<2.0.0,>=1.40.0->langchain-openai==0.1.23) (0.7.1)\n",
            "Requirement already satisfied: tqdm>4 in /usr/local/lib/python3.10/dist-packages (from openai<2.0.0,>=1.40.0->langchain-openai==0.1.23) (4.66.6)\n",
            "Requirement already satisfied: annotated-types>=0.6.0 in /usr/local/lib/python3.10/dist-packages (from pydantic<3,>=1->langchain==0.2.16) (0.7.0)\n",
            "Requirement already satisfied: pydantic-core==2.23.4 in /usr/local/lib/python3.10/dist-packages (from pydantic<3,>=1->langchain==0.2.16) (2.23.4)\n",
            "Requirement already satisfied: charset-normalizer<4,>=2 in /usr/local/lib/python3.10/dist-packages (from requests<3,>=2->langchain==0.2.16) (3.4.0)\n",
            "Requirement already satisfied: urllib3<3,>=1.21.1 in /usr/local/lib/python3.10/dist-packages (from requests<3,>=2->langchain==0.2.16) (2.2.3)\n",
            "Requirement already satisfied: greenlet!=0.4.17 in /usr/local/lib/python3.10/dist-packages (from SQLAlchemy<3,>=1.4->langchain==0.2.16) (3.1.1)\n",
            "Requirement already satisfied: regex>=2022.1.18 in /usr/local/lib/python3.10/dist-packages (from tiktoken<1,>=0.7->langchain-openai==0.1.23) (2024.9.11)\n",
            "Requirement already satisfied: exceptiongroup in /usr/local/lib/python3.10/dist-packages (from anyio->httpx->tavily-python) (1.2.2)\n",
            "Requirement already satisfied: jsonpointer>=1.9 in /usr/local/lib/python3.10/dist-packages (from jsonpatch<2.0,>=1.33->langchain-core<0.3.0,>=0.2.38->langchain==0.2.16) (3.0.0)\n",
            "Collecting mypy-extensions>=0.3.0 (from typing-inspect<1,>=0.4.0->dataclasses-json<0.7,>=0.5.7->langchain-community==0.2.17)\n",
            "  Downloading mypy_extensions-1.0.0-py3-none-any.whl.metadata (1.1 kB)\n",
            "Downloading langchain-0.2.16-py3-none-any.whl (1.0 MB)\n",
            "\u001b[2K   \u001b[90m━━━━━━━━━━━━━━━━━━━━━━━━━━━━━━━━━━━━━━━━\u001b[0m \u001b[32m1.0/1.0 MB\u001b[0m \u001b[31m7.7 MB/s\u001b[0m eta \u001b[36m0:00:00\u001b[0m\n",
            "\u001b[?25hDownloading langchain_openai-0.1.23-py3-none-any.whl (51 kB)\n",
            "\u001b[2K   \u001b[90m━━━━━━━━━━━━━━━━━━━━━━━━━━━━━━━━━━━━━━━━\u001b[0m \u001b[32m52.0/52.0 kB\u001b[0m \u001b[31m1.4 MB/s\u001b[0m eta \u001b[36m0:00:00\u001b[0m\n",
            "\u001b[?25hDownloading langchainhub-0.1.21-py3-none-any.whl (5.2 kB)\n",
            "Downloading langchain_community-0.2.17-py3-none-any.whl (2.3 MB)\n",
            "\u001b[2K   \u001b[90m━━━━━━━━━━━━━━━━━━━━━━━━━━━━━━━━━━━━━━━━\u001b[0m \u001b[32m2.3/2.3 MB\u001b[0m \u001b[31m16.2 MB/s\u001b[0m eta \u001b[36m0:00:00\u001b[0m\n",
            "\u001b[?25hDownloading tavily_python-0.5.0-py3-none-any.whl (14 kB)\n",
            "Downloading dataclasses_json-0.6.7-py3-none-any.whl (28 kB)\n",
            "Downloading langchain_core-0.2.43-py3-none-any.whl (397 kB)\n",
            "\u001b[2K   \u001b[90m━━━━━━━━━━━━━━━━━━━━━━━━━━━━━━━━━━━━━━━━\u001b[0m \u001b[32m397.1/397.1 kB\u001b[0m \u001b[31m6.6 MB/s\u001b[0m eta \u001b[36m0:00:00\u001b[0m\n",
            "\u001b[?25hDownloading langchain_text_splitters-0.2.4-py3-none-any.whl (25 kB)\n",
            "Downloading tenacity-8.5.0-py3-none-any.whl (28 kB)\n",
            "Downloading tiktoken-0.8.0-cp310-cp310-manylinux_2_17_x86_64.manylinux2014_x86_64.whl (1.2 MB)\n",
            "\u001b[2K   \u001b[90m━━━━━━━━━━━━━━━━━━━━━━━━━━━━━━━━━━━━━━━━\u001b[0m \u001b[32m1.2/1.2 MB\u001b[0m \u001b[31m11.3 MB/s\u001b[0m eta \u001b[36m0:00:00\u001b[0m\n",
            "\u001b[?25hDownloading types_requests-2.32.0.20241016-py3-none-any.whl (15 kB)\n",
            "Downloading marshmallow-3.23.1-py3-none-any.whl (49 kB)\n",
            "\u001b[2K   \u001b[90m━━━━━━━━━━━━━━━━━━━━━━━━━━━━━━━━━━━━━━━━\u001b[0m \u001b[32m49.5/49.5 kB\u001b[0m \u001b[31m2.6 MB/s\u001b[0m eta \u001b[36m0:00:00\u001b[0m\n",
            "\u001b[?25hDownloading typing_inspect-0.9.0-py3-none-any.whl (8.8 kB)\n",
            "Downloading mypy_extensions-1.0.0-py3-none-any.whl (4.7 kB)\n",
            "Installing collected packages: types-requests, tenacity, mypy-extensions, marshmallow, typing-inspect, tiktoken, langchainhub, tavily-python, dataclasses-json, langchain-core, langchain-text-splitters, langchain-openai, langchain, langchain-community\n",
            "  Attempting uninstall: tenacity\n",
            "    Found existing installation: tenacity 9.0.0\n",
            "    Uninstalling tenacity-9.0.0:\n",
            "      Successfully uninstalled tenacity-9.0.0\n",
            "  Attempting uninstall: langchain-core\n",
            "    Found existing installation: langchain-core 0.3.19\n",
            "    Uninstalling langchain-core-0.3.19:\n",
            "      Successfully uninstalled langchain-core-0.3.19\n",
            "  Attempting uninstall: langchain-text-splitters\n",
            "    Found existing installation: langchain-text-splitters 0.3.2\n",
            "    Uninstalling langchain-text-splitters-0.3.2:\n",
            "      Successfully uninstalled langchain-text-splitters-0.3.2\n",
            "  Attempting uninstall: langchain\n",
            "    Found existing installation: langchain 0.3.7\n",
            "    Uninstalling langchain-0.3.7:\n",
            "      Successfully uninstalled langchain-0.3.7\n",
            "Successfully installed dataclasses-json-0.6.7 langchain-0.2.16 langchain-community-0.2.17 langchain-core-0.2.43 langchain-openai-0.1.23 langchain-text-splitters-0.2.4 langchainhub-0.1.21 marshmallow-3.23.1 mypy-extensions-1.0.0 tavily-python-0.5.0 tenacity-8.5.0 tiktoken-0.8.0 types-requests-2.32.0.20241016 typing-inspect-0.9.0\n"
          ]
        }
      ]
    },
    {
      "cell_type": "code",
      "source": [
        "from google.colab import userdata\n",
        "import os\n",
        "os.environ[\"TAVILY_API_KEY\"] = userdata.get(\"TAVILY_API_KEY\")\n",
        "os.environ[\"OPENAI_API_KEY\"] = userdata.get(\"OPENAI_API_KEY\")"
      ],
      "metadata": {
        "id": "NPvrinQQn44i"
      },
      "execution_count": null,
      "outputs": []
    },
    {
      "cell_type": "code",
      "source": [
        "from langchain import hub\n",
        "from langchain.agents import load_tools\n",
        "from langchain.agents import AgentExecutor, create_openai_tools_agent\n",
        "from langchain_openai import ChatOpenAI\n",
        "from langchain_community.tools.tavily_search import TavilySearchResults\n",
        "\n",
        "llm = ChatOpenAI(model=\"gpt-4o-mini\", temperature=0)\n",
        "tools = [TavilySearchResults(max_results=3)]\n",
        "prompt = hub.pull(\"hwchase17/openai-tools-agent\")\n",
        "\n",
        "agent = create_openai_tools_agent(llm, tools, prompt)\n",
        "agent_executor = AgentExecutor(agent=agent, tools=tools, verbose=True)\n",
        "\n",
        "\n",
        "result = agent_executor.invoke({\"input\": \"2024년 넷플릭스와 애플 TV+ 신작 중 SF 장르 작품을 알려줘\"})"
      ],
      "metadata": {
        "colab": {
          "base_uri": "https://localhost:8080/"
        },
        "id": "NS86sKV9H9ev",
        "outputId": "62295d22-f8bc-4dd5-f06c-fe64c8330a39"
      },
      "execution_count": null,
      "outputs": [
        {
          "output_type": "stream",
          "name": "stderr",
          "text": [
            "/usr/local/lib/python3.10/dist-packages/langsmith/client.py:241: LangSmithMissingAPIKeyWarning: API key must be provided when using hosted LangSmith API\n",
            "  warnings.warn(\n"
          ]
        },
        {
          "output_type": "stream",
          "name": "stdout",
          "text": [
            "\n",
            "\n",
            "\u001b[1m> Entering new AgentExecutor chain...\u001b[0m\n",
            "\u001b[32;1m\u001b[1;3m\n",
            "Invoking: `tavily_search_results_json` with `{'query': '2024 Netflix new sci-fi releases'}`\n",
            "\n",
            "\n",
            "\u001b[0m\u001b[36;1m\u001b[1;3m[{'url': 'https://www.whats-on-netflix.com/coming-soon/new-sci-fi-movies-coming-to-netflix-in-2024-beyond/', 'content': \"Netflix's big new fantasy/sci-fi movie franchise from Zack Snyder kicked off over the Christmas break in 2023 and will continue with the second part in April 2024, promising to up the ante further. Sofia Boutella, as Kora, will be leading a great of rebels into battle against the Motherworld.\"}, {'url': 'https://netflixlife.com/2023/12/11/sci-fi-fantasy-netflix-originals-coming-2024/', 'content': 'More sci-fi and fantasy Netflix Originals coming in 2024 Spaceman - Sci-fi drama starring Adam Sandler Rebel Moon - Part Two: The Scargiver - The second part of the first Rebel Moon film'}, {'url': 'https://www.whats-on-netflix.com/coming-soon/netflix-movies-and-series-2024/', 'content': \"What's Coming to Netflix in February 2024\\nNetflix News In Your Inbox\\nnew Netflix releases this week\\nLatest News\\nNetflix News and Previews\\nNetflix US Lands Final 5 Episodes of The CW’s ‘Inside the NFL’ Ahead of Super Bowl LVIII\\nNetflix News and Previews\\n‘Society of the Snow’ Behind-the-Scenes Documentary Set to Release on Netflix\\nNetflix News and Previews\\n‘Sunderland ‘Til I Die’ Third and Final Season Coming to Netflix in February 2024\\n Netflix\\nWhat’s Coming in March 2024\\nPicture: Netflix\\nWhat’s Coming in April 2024\\nPicture: Netflix\\nWhat’s Coming in May 2024\\n A preview of all the dated and confirmed Netflix Originals coming in 2024 (so far)\\nKasey Moore ·\\n@kasey__moore\\nJanuary 12th, 2024 - 9:23 am ET\\n· Updated: January 13th, 2024, 3:23 pm\\nPictures via Netflix\\n2023 has seen many big Netflix shows and movies, but what does 2024 have in store? Netflix\\nWhat’s Coming in November 2024\\nPicture: Netflix\\nWhat’s Coming in December 2024\\nConfirmed To Be Coming to Netflix 2024\\n Picture: Netflix\\nPicture: Netflix\\nPicture: Netflix\\nWhat’s Coming in February 2024\\nOrion and the Dark – Cr: DreamWorks Animation © 2023\\nPicture: Netflix\\nPicture:\"}]\u001b[0m\u001b[32;1m\u001b[1;3m\n",
            "Invoking: `tavily_search_results_json` with `{'query': '2024 Apple TV+ new sci-fi releases'}`\n",
            "\n",
            "\n",
            "\u001b[0m\u001b[36;1m\u001b[1;3m[{'url': 'https://www.apple.com/tv-pr/news/2024/04/apple-tv-debuts-trailer-for-dark-matter-starring-joel-edgerton-and-jennifer-connelly/', 'content': 'Press Release April 11, 2024. Joel Edgerton and Jennifer Connelly star in \"Dark Matter,\" a new sci-fi thriller series coming to Apple TV+ on May 8, 2024. Today, Apple TV+ unveiled the trailer for its new sci-fi thriller \"Dark Matter,\" starring Joel Edgerton alongside Academy Award winner Jennifer Connelly, Alice Braga, Jimmi Simpson'}, {'url': 'https://www.igeeksblog.com/upcoming-apple-tv-plus-shows-movies/', 'content': 'Release Date: November 15, 2024; One of the most acclaimed Apple TV+ sci-fi drama series Silo is set to return for a highly anticipated second season with 10 episodes. The story is based on the bestselling Wool trilogy, taking us to a post-apocalyptic future where humans live in a giant underground silo.'}, {'url': 'https://www.sportskeeda.com/us/shows/what-time-silo-season-2-episode-3-will-released-apple-tv-release-timings-regions', 'content': 'Silo season 2 episode 3 release schedule. The sophomore season of Silo debuted on Apple TV+ on November 15, 2024, and the dystopian sci-fi drama is set to release a new episode every week on'}]\u001b[0m\u001b[32;1m\u001b[1;3m2024년 넷플릭스와 애플 TV+에서 출시될 SF 장르의 신작은 다음과 같습니다:\n",
            "\n",
            "### 넷플릭스\n",
            "1. **Rebel Moon - Part Two: The Scargiver**\n",
            "   - 감독: 잭 스나이더\n",
            "   - 첫 번째 파트에 이어지는 이야기로, 2024년 4월에 출시될 예정입니다.\n",
            "   - [자세한 내용](https://www.whats-on-netflix.com/coming-soon/new-sci-fi-movies-coming-to-netflix-in-2024-beyond/)\n",
            "\n",
            "2. **Spaceman**\n",
            "   - 주연: 아담 샌들러\n",
            "   - SF 드라마로, 2024년 중에 출시될 예정입니다.\n",
            "   - [자세한 내용](https://netflixlife.com/2023/12/11/sci-fi-fantasy-netflix-originals-coming-2024/)\n",
            "\n",
            "### 애플 TV+\n",
            "1. **Dark Matter**\n",
            "   - 주연: 조엘 에저턴, 제니퍼 코넬리\n",
            "   - SF 스릴러 시리즈로, 2024년 5월 8일에 출시될 예정입니다.\n",
            "   - [자세한 내용](https://www.apple.com/tv-pr/news/2024/04/apple-tv-debuts-trailer-for-dark-matter-starring-joel-edgerton-and-jennifer-connelly/)\n",
            "\n",
            "2. **Silo - Season 2**\n",
            "   - 2024년 11월 15일에 방영될 예정이며, 포스트 아포칼립스 미래를 배경으로 한 드라마입니다.\n",
            "   - [자세한 내용](https://www.igeeksblog.com/upcoming-apple-tv-plus-shows-movies/)\n",
            "\n",
            "이 외에도 추가적인 신작이 있을 수 있으니, 각 플랫폼의 공식 발표를 주의 깊게 살펴보는 것이 좋습니다.\u001b[0m\n",
            "\n",
            "\u001b[1m> Finished chain.\u001b[0m\n"
          ]
        }
      ]
    },
    {
      "cell_type": "code",
      "source": [
        "print(result[\"output\"])"
      ],
      "metadata": {
        "colab": {
          "base_uri": "https://localhost:8080/"
        },
        "id": "HH_tMxz6JFyc",
        "outputId": "1600cdda-8ad4-451e-e564-9d52b62db2fd"
      },
      "execution_count": null,
      "outputs": [
        {
          "output_type": "stream",
          "name": "stdout",
          "text": [
            "2024년 넷플릭스와 애플 TV+에서 출시될 SF 장르의 신작은 다음과 같습니다:\n",
            "\n",
            "### 넷플릭스\n",
            "1. **Rebel Moon - Part Two: The Scargiver**\n",
            "   - 감독: 잭 스나이더\n",
            "   - 첫 번째 파트에 이어지는 이야기로, 2024년 4월에 출시될 예정입니다.\n",
            "   - [자세한 내용](https://www.whats-on-netflix.com/coming-soon/new-sci-fi-movies-coming-to-netflix-in-2024-beyond/)\n",
            "\n",
            "2. **Spaceman**\n",
            "   - 주연: 아담 샌들러\n",
            "   - SF 드라마로, 2024년 중에 출시될 예정입니다.\n",
            "   - [자세한 내용](https://netflixlife.com/2023/12/11/sci-fi-fantasy-netflix-originals-coming-2024/)\n",
            "\n",
            "### 애플 TV+\n",
            "1. **Dark Matter**\n",
            "   - 주연: 조엘 에저턴, 제니퍼 코넬리\n",
            "   - SF 스릴러 시리즈로, 2024년 5월 8일에 출시될 예정입니다.\n",
            "   - [자세한 내용](https://www.apple.com/tv-pr/news/2024/04/apple-tv-debuts-trailer-for-dark-matter-starring-joel-edgerton-and-jennifer-connelly/)\n",
            "\n",
            "2. **Silo - Season 2**\n",
            "   - 2024년 11월 15일에 방영될 예정이며, 포스트 아포칼립스 미래를 배경으로 한 드라마입니다.\n",
            "   - [자세한 내용](https://www.igeeksblog.com/upcoming-apple-tv-plus-shows-movies/)\n",
            "\n",
            "이 외에도 추가적인 신작이 있을 수 있으니, 각 플랫폼의 공식 발표를 주의 깊게 살펴보는 것이 좋습니다.\n"
          ]
        }
      ]
    }
  ]
}