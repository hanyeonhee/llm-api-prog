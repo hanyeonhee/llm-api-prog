{
  "nbformat": 4,
  "nbformat_minor": 0,
  "metadata": {
    "colab": {
      "provenance": [],
      "authorship_tag": "ABX9TyNSF+LXPSndSgtnwejZyBf8",
      "include_colab_link": true
    },
    "kernelspec": {
      "name": "python3",
      "display_name": "Python 3"
    },
    "language_info": {
      "name": "python"
    }
  },
  "cells": [
    {
      "cell_type": "markdown",
      "metadata": {
        "id": "view-in-github",
        "colab_type": "text"
      },
      "source": [
        "<a href=\"https://colab.research.google.com/github/ychoi-kr/LLM-API/blob/main/langchain/langchain_tavily.ipynb\" target=\"_parent\"><img src=\"https://colab.research.google.com/assets/colab-badge.svg\" alt=\"Open In Colab\"/></a>"
      ]
    },
    {
      "cell_type": "code",
      "source": [
        "!pip install -U langchain==0.1.14 langchain-openai==0.1.1 langchainhub==0.1.15 langchain-community==0.0.31 tavily-python==0.3.3 openai==1.16.2"
      ],
      "metadata": {
        "colab": {
          "base_uri": "https://localhost:8080/"
        },
        "id": "QwY1JGRUpGwA",
        "outputId": "bbccc663-4256-4cd4-9e73-a297803bde50"
      },
      "execution_count": 1,
      "outputs": [
        {
          "output_type": "stream",
          "name": "stdout",
          "text": [
            "Requirement already satisfied: langchain==0.1.14 in /usr/local/lib/python3.10/dist-packages (0.1.14)\n",
            "Requirement already satisfied: langchain-openai==0.1.1 in /usr/local/lib/python3.10/dist-packages (0.1.1)\n",
            "Requirement already satisfied: langchainhub==0.1.15 in /usr/local/lib/python3.10/dist-packages (0.1.15)\n",
            "Requirement already satisfied: langchain-community==0.0.31 in /usr/local/lib/python3.10/dist-packages (0.0.31)\n",
            "Requirement already satisfied: tavily-python==0.3.3 in /usr/local/lib/python3.10/dist-packages (0.3.3)\n",
            "Requirement already satisfied: openai==1.16.2 in /usr/local/lib/python3.10/dist-packages (1.16.2)\n",
            "Requirement already satisfied: PyYAML>=5.3 in /usr/local/lib/python3.10/dist-packages (from langchain==0.1.14) (6.0.1)\n",
            "Requirement already satisfied: SQLAlchemy<3,>=1.4 in /usr/local/lib/python3.10/dist-packages (from langchain==0.1.14) (2.0.29)\n",
            "Requirement already satisfied: aiohttp<4.0.0,>=3.8.3 in /usr/local/lib/python3.10/dist-packages (from langchain==0.1.14) (3.9.3)\n",
            "Requirement already satisfied: async-timeout<5.0.0,>=4.0.0 in /usr/local/lib/python3.10/dist-packages (from langchain==0.1.14) (4.0.3)\n",
            "Requirement already satisfied: dataclasses-json<0.7,>=0.5.7 in /usr/local/lib/python3.10/dist-packages (from langchain==0.1.14) (0.6.4)\n",
            "Requirement already satisfied: jsonpatch<2.0,>=1.33 in /usr/local/lib/python3.10/dist-packages (from langchain==0.1.14) (1.33)\n",
            "Requirement already satisfied: langchain-core<0.2.0,>=0.1.37 in /usr/local/lib/python3.10/dist-packages (from langchain==0.1.14) (0.1.40)\n",
            "Requirement already satisfied: langchain-text-splitters<0.1,>=0.0.1 in /usr/local/lib/python3.10/dist-packages (from langchain==0.1.14) (0.0.1)\n",
            "Requirement already satisfied: langsmith<0.2.0,>=0.1.17 in /usr/local/lib/python3.10/dist-packages (from langchain==0.1.14) (0.1.40)\n",
            "Requirement already satisfied: numpy<2,>=1 in /usr/local/lib/python3.10/dist-packages (from langchain==0.1.14) (1.25.2)\n",
            "Requirement already satisfied: pydantic<3,>=1 in /usr/local/lib/python3.10/dist-packages (from langchain==0.1.14) (2.6.4)\n",
            "Requirement already satisfied: requests<3,>=2 in /usr/local/lib/python3.10/dist-packages (from langchain==0.1.14) (2.31.0)\n",
            "Requirement already satisfied: tenacity<9.0.0,>=8.1.0 in /usr/local/lib/python3.10/dist-packages (from langchain==0.1.14) (8.2.3)\n",
            "Requirement already satisfied: tiktoken<1,>=0.5.2 in /usr/local/lib/python3.10/dist-packages (from langchain-openai==0.1.1) (0.6.0)\n",
            "Requirement already satisfied: types-requests<3.0.0.0,>=2.31.0.2 in /usr/local/lib/python3.10/dist-packages (from langchainhub==0.1.15) (2.31.0.20240406)\n",
            "Requirement already satisfied: anyio<5,>=3.5.0 in /usr/local/lib/python3.10/dist-packages (from openai==1.16.2) (3.7.1)\n",
            "Requirement already satisfied: distro<2,>=1.7.0 in /usr/lib/python3/dist-packages (from openai==1.16.2) (1.7.0)\n",
            "Requirement already satisfied: httpx<1,>=0.23.0 in /usr/local/lib/python3.10/dist-packages (from openai==1.16.2) (0.27.0)\n",
            "Requirement already satisfied: sniffio in /usr/local/lib/python3.10/dist-packages (from openai==1.16.2) (1.3.1)\n",
            "Requirement already satisfied: tqdm>4 in /usr/local/lib/python3.10/dist-packages (from openai==1.16.2) (4.66.2)\n",
            "Requirement already satisfied: typing-extensions<5,>=4.7 in /usr/local/lib/python3.10/dist-packages (from openai==1.16.2) (4.10.0)\n",
            "Requirement already satisfied: aiosignal>=1.1.2 in /usr/local/lib/python3.10/dist-packages (from aiohttp<4.0.0,>=3.8.3->langchain==0.1.14) (1.3.1)\n",
            "Requirement already satisfied: attrs>=17.3.0 in /usr/local/lib/python3.10/dist-packages (from aiohttp<4.0.0,>=3.8.3->langchain==0.1.14) (23.2.0)\n",
            "Requirement already satisfied: frozenlist>=1.1.1 in /usr/local/lib/python3.10/dist-packages (from aiohttp<4.0.0,>=3.8.3->langchain==0.1.14) (1.4.1)\n",
            "Requirement already satisfied: multidict<7.0,>=4.5 in /usr/local/lib/python3.10/dist-packages (from aiohttp<4.0.0,>=3.8.3->langchain==0.1.14) (6.0.5)\n",
            "Requirement already satisfied: yarl<2.0,>=1.0 in /usr/local/lib/python3.10/dist-packages (from aiohttp<4.0.0,>=3.8.3->langchain==0.1.14) (1.9.4)\n",
            "Requirement already satisfied: idna>=2.8 in /usr/local/lib/python3.10/dist-packages (from anyio<5,>=3.5.0->openai==1.16.2) (3.6)\n",
            "Requirement already satisfied: exceptiongroup in /usr/local/lib/python3.10/dist-packages (from anyio<5,>=3.5.0->openai==1.16.2) (1.2.0)\n",
            "Requirement already satisfied: marshmallow<4.0.0,>=3.18.0 in /usr/local/lib/python3.10/dist-packages (from dataclasses-json<0.7,>=0.5.7->langchain==0.1.14) (3.21.1)\n",
            "Requirement already satisfied: typing-inspect<1,>=0.4.0 in /usr/local/lib/python3.10/dist-packages (from dataclasses-json<0.7,>=0.5.7->langchain==0.1.14) (0.9.0)\n",
            "Requirement already satisfied: certifi in /usr/local/lib/python3.10/dist-packages (from httpx<1,>=0.23.0->openai==1.16.2) (2024.2.2)\n",
            "Requirement already satisfied: httpcore==1.* in /usr/local/lib/python3.10/dist-packages (from httpx<1,>=0.23.0->openai==1.16.2) (1.0.5)\n",
            "Requirement already satisfied: h11<0.15,>=0.13 in /usr/local/lib/python3.10/dist-packages (from httpcore==1.*->httpx<1,>=0.23.0->openai==1.16.2) (0.14.0)\n",
            "Requirement already satisfied: jsonpointer>=1.9 in /usr/local/lib/python3.10/dist-packages (from jsonpatch<2.0,>=1.33->langchain==0.1.14) (2.4)\n",
            "Requirement already satisfied: packaging<24.0,>=23.2 in /usr/local/lib/python3.10/dist-packages (from langchain-core<0.2.0,>=0.1.37->langchain==0.1.14) (23.2)\n",
            "Requirement already satisfied: orjson<4.0.0,>=3.9.14 in /usr/local/lib/python3.10/dist-packages (from langsmith<0.2.0,>=0.1.17->langchain==0.1.14) (3.10.0)\n",
            "Requirement already satisfied: annotated-types>=0.4.0 in /usr/local/lib/python3.10/dist-packages (from pydantic<3,>=1->langchain==0.1.14) (0.6.0)\n",
            "Requirement already satisfied: pydantic-core==2.16.3 in /usr/local/lib/python3.10/dist-packages (from pydantic<3,>=1->langchain==0.1.14) (2.16.3)\n",
            "Requirement already satisfied: charset-normalizer<4,>=2 in /usr/local/lib/python3.10/dist-packages (from requests<3,>=2->langchain==0.1.14) (3.3.2)\n",
            "Requirement already satisfied: urllib3<3,>=1.21.1 in /usr/local/lib/python3.10/dist-packages (from requests<3,>=2->langchain==0.1.14) (2.0.7)\n",
            "Requirement already satisfied: greenlet!=0.4.17 in /usr/local/lib/python3.10/dist-packages (from SQLAlchemy<3,>=1.4->langchain==0.1.14) (3.0.3)\n",
            "Requirement already satisfied: regex>=2022.1.18 in /usr/local/lib/python3.10/dist-packages (from tiktoken<1,>=0.5.2->langchain-openai==0.1.1) (2023.12.25)\n",
            "Requirement already satisfied: mypy-extensions>=0.3.0 in /usr/local/lib/python3.10/dist-packages (from typing-inspect<1,>=0.4.0->dataclasses-json<0.7,>=0.5.7->langchain==0.1.14) (1.0.0)\n"
          ]
        }
      ]
    },
    {
      "cell_type": "code",
      "source": [
        "from google.colab import userdata\n",
        "import os\n",
        "os.environ[\"TAVILY_API_KEY\"] = userdata.get(\"TAVILY_API_KEY\")\n",
        "os.environ[\"OPENAI_API_KEY\"] = userdata.get(\"OPENAI_API_KEY\")"
      ],
      "metadata": {
        "id": "NPvrinQQn44i"
      },
      "execution_count": 2,
      "outputs": []
    },
    {
      "cell_type": "code",
      "source": [
        "from langchain import hub\n",
        "from langchain.agents import load_tools\n",
        "from langchain.agents import AgentExecutor, create_openai_tools_agent\n",
        "from langchain_openai import ChatOpenAI\n",
        "from langchain_community.tools.tavily_search import TavilySearchResults\n",
        "\n",
        "llm = ChatOpenAI(model=\"gpt-3.5-turbo\", temperature=0)\n",
        "tools = [TavilySearchResults(max_results=3)]\n",
        "prompt = hub.pull(\"hwchase17/openai-tools-agent\")\n",
        "\n",
        "agent = create_openai_tools_agent(llm, tools, prompt)\n",
        "agent_executor = AgentExecutor(agent=agent, tools=tools, verbose=True)\n",
        "\n",
        "\n",
        "result = agent_executor.invoke({\"input\": \"2024년 넷플릭스와 애플 TV+ 신작 중 SF 장르 작품을 알려줘\"})"
      ],
      "metadata": {
        "colab": {
          "base_uri": "https://localhost:8080/"
        },
        "id": "NS86sKV9H9ev",
        "outputId": "bdde5f99-06c3-4c66-87e4-f91bf51a7a24"
      },
      "execution_count": 3,
      "outputs": [
        {
          "output_type": "stream",
          "name": "stdout",
          "text": [
            "\n",
            "\n",
            "\u001b[1m> Entering new AgentExecutor chain...\u001b[0m\n",
            "\u001b[32;1m\u001b[1;3m\n",
            "Invoking: `tavily_search_results_json` with `{'query': '2024 Netflix new sci-fi series'}`\n",
            "\n",
            "\n",
            "\u001b[0m\u001b[36;1m\u001b[1;3m[{'url': 'https://netflixlife.com/2023/12/11/sci-fi-fantasy-netflix-originals-coming-2024/', 'content': \"Liu Cixin's Remembrance of Earth's Past trilogy finally comes to our screens on March 21, 2024 in the adaptation of the first book of the series, 3 Body Problem. Created by Game of Thrones ...\"}, {'url': 'https://www.rottentomatoes.com/browse/tv_series_browse/affiliates:netflix~genres:sci_fi~sort:newest', 'content': 'Link to New Movies & TV Shows Streaming in April 2024: What To Watch on Netflix, Prime Video, Disney+, and More. View All Showtimes ... New Sci-Fi TV Shows on Netflix (April 2024)'}, {'url': 'https://www.inverse.com/entertainment/2024-science-fiction-tv-shows', 'content': 'The Rings of Power Season 2\\nRelease Date: 2024 on Prime Video\\nPrime Video did the impossible and found more to say about The Lord of the Rings with The Rings of Power, a prequel set thousands of years before the main timeline that changed the perspective on Middle Earth (especially Sauron) forever. But in 2024, the action reverts back to the original series, which will show the aftermath of Homelander’s fall from grace and the division that’s tearing through the country as the question of Supes gets more and more contentious. While the plot details are anyone’s guess after the first stab at the story was scrapped, the return of Matt Murdock to the MCU will undoubtedly be the highlight of any MCU TV fan’s 2024. House of the Dragon Season 2\\nRelease Date: Summer 2024 on HBO\\nHouse of the Dragon made a big splash in 2022 with a prequel full of incest, gore, dragons, and political scheming — exactly what Game of Thrones fans have come to expect. It’s the nature of television that more shows will likely get added to the schedule later on, but here’s everything currently slated for 2024 to get excited about, from the high-profile adaptations to franchise experiments and everything in between.\\n15.'}]\u001b[0m\u001b[32;1m\u001b[1;3m\n",
            "Invoking: `tavily_search_results_json` with `{'query': '2024 Apple TV+ new sci-fi series'}`\n",
            "\n",
            "\n",
            "\u001b[0m\u001b[36;1m\u001b[1;3m[{'url': 'https://www.apple.com/tv-pr/news/2024/02/apple-tv-unveils-a-sneak-peek-at-star-studded-lineup-of-new-and-returning-original-series-set-to-debut-in-2024/', 'content': 'Press Contact\\nIn This Story\\nAcapulco\\nConstellation\\nDark Matter\\nFraggle Rock: Back to the Rock\\nGirls State\\nFranklin\\nLand of Women\\nLoot\\nManhunt\\nMessi’s World Cup: The Rise of a Legend\\nPalm Royale\\nPresumed Innocent\\nSnoopy Presents: Welcome Home, Franklin\\nSugar\\nThe Big Door Prize\\nThe Completely Made-Up Adventures of Dick Turpin\\nThe Dynasty: New England Patriots\\nThe New Look\\nThe Reluctant Traveler With Eugene Levy\\nTrying\\nApple TV+ Press\\nApple Footer\\nShop and Learn\\nShop and Learn\\n+\\nApple Wallet\\nApple Wallet\\n+\\nAccount\\nAccount\\n+\\nEntertainment\\nEntertainment\\n+\\nApple Store\\nApple Store\\n+\\nFor Business\\nFor Business\\n+\\nFor Education\\nFor Education\\n+\\nFor Healthcare\\nFor Healthcare\\n+\\nFor Government\\nFor Government\\n+\\nApple Values\\nApple Values\\n+\\nAbout Apple\\nAbout Apple\\n+ Coming up this year, Apple TV+ will expand its award-winning slate of originals with highly anticipated new series, including “The New Look,” “The Dynasty: New England Patriots,” “Constellation,” “The Completely Made-Up Adventures of Dick Turpin,” “Manhunt,” “Palm Royale,” “Sugar,” “Franklin,” “Dark Matter,” “Presumed Innocent,” “Land of Women” and more.\\n Coming up this year, Apple TV+ will expand its award-winning slate of originals with highly anticipated new series, including “The New Look,” “The Dynasty: New England Patriots,” “Constellation,” “The Completely Made-Up Adventures of Dick Turpin,” “Manhunt,” “Palm Royale,” “Sugar,” “Franklin,” “Dark Matter,” “Presumed Innocent,” “Land of Women” and more.\\n As momentum around Apple TV+ continues to grow, new original series set to debut in 2024 will join an offering of premium, hit original series, including the recently renewed “Hijack,” as well as global hit series “Masters of the Air,” “Silo,” “Monarch: Legacy of Monsters,” “Lessons in Chemistry,” “For All Mankind,” “Shrinking,” “Ted Lasso” and “Severance,” among many others.\\n'}, {'url': 'https://screenrant.com/apple-tv-shows-2024/', 'content': 'The new Apple TV+ series Dark Matter starring Joel Edgerton and Jennifer Connelly will premiere on May 8, 2024. The sci-fi thriller series is based on the immensely popular book of the same name written by Blake Crouch, which is widely considered one of the greatest sci-fi novels of the 2010s. The 9-part series features an ensemble cast led by ...'}, {'url': 'https://www.rottentomatoes.com/browse/tv_series_browse/affiliates:apple_tv_plus~genres:sci_fi', 'content': 'Link to New Movies & TV Shows Streaming in April 2024: What To Watch on Netflix, Prime Video, Disney+, and More. View All Showtimes ... Sci-Fi TV Shows on Apple TV+ (April 2024)'}]\u001b[0m\u001b[32;1m\u001b[1;3m2024년 넷플릭스와 애플 TV+에서 SF 장르의 신작 작품을 알려드릴게요.\n",
            "\n",
            "넷플릭스:\n",
            "1. \"3 Body Problem\" - 2024년 3월 21일에 첫 번째 책을 원작으로 하는 Liu Cixin의 Remembrance of Earth's Past 삼부작의 새로운 시리즈가 방영될 예정입니다.\n",
            "2. \"The Rings of Power Season 2\" - 2024년 Prime Video에서 방영 예정이며, The Lord of the Rings의 전편으로 수천 년 전을 배경으로 한 시리즈입니다.\n",
            "\n",
            "애플 TV+:\n",
            "1. \"Dark Matter\" - 2024년 5월 8일에 Joel Edgerton과 Jennifer Connelly가 주연하는 SF 스릴러 시리즈로, Blake Crouch의 인기 있는 소설을 바탕으로 제작된 9부작 시리즈입니다.\n",
            "2. \"The New Look\", \"The Dynasty: New England Patriots\", \"Constellation\", \"The Completely Made-Up Adventures of Dick Turpin\", \"Manhunt\", \"Palm Royale\", \"Sugar\", \"Franklin\", \"Presumed Innocent\", \"Land of Women\" 등의 새로운 시리즈가 2024년에 애플 TV+에서 방영될 예정입니다.\n",
            "\n",
            "더 많은 정보를 원하시면 해당 작품들의 공식 웹사이트나 스트리밍 플랫폼에서 확인하실 수 있습니다.\u001b[0m\n",
            "\n",
            "\u001b[1m> Finished chain.\u001b[0m\n"
          ]
        }
      ]
    },
    {
      "cell_type": "code",
      "source": [
        "print(result[\"output\"])"
      ],
      "metadata": {
        "colab": {
          "base_uri": "https://localhost:8080/"
        },
        "id": "HH_tMxz6JFyc",
        "outputId": "794b1df3-5ac5-4edb-a0bd-9476f89ade86"
      },
      "execution_count": 4,
      "outputs": [
        {
          "output_type": "stream",
          "name": "stdout",
          "text": [
            "2024년 넷플릭스와 애플 TV+에서 SF 장르의 신작 작품을 알려드릴게요.\n",
            "\n",
            "넷플릭스:\n",
            "1. \"3 Body Problem\" - 2024년 3월 21일에 첫 번째 책을 원작으로 하는 Liu Cixin의 Remembrance of Earth's Past 삼부작의 새로운 시리즈가 방영될 예정입니다.\n",
            "2. \"The Rings of Power Season 2\" - 2024년 Prime Video에서 방영 예정이며, The Lord of the Rings의 전편으로 수천 년 전을 배경으로 한 시리즈입니다.\n",
            "\n",
            "애플 TV+:\n",
            "1. \"Dark Matter\" - 2024년 5월 8일에 Joel Edgerton과 Jennifer Connelly가 주연하는 SF 스릴러 시리즈로, Blake Crouch의 인기 있는 소설을 바탕으로 제작된 9부작 시리즈입니다.\n",
            "2. \"The New Look\", \"The Dynasty: New England Patriots\", \"Constellation\", \"The Completely Made-Up Adventures of Dick Turpin\", \"Manhunt\", \"Palm Royale\", \"Sugar\", \"Franklin\", \"Presumed Innocent\", \"Land of Women\" 등의 새로운 시리즈가 2024년에 애플 TV+에서 방영될 예정입니다.\n",
            "\n",
            "더 많은 정보를 원하시면 해당 작품들의 공식 웹사이트나 스트리밍 플랫폼에서 확인하실 수 있습니다.\n"
          ]
        }
      ]
    }
  ]
}