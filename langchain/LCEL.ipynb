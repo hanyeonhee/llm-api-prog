{
  "nbformat": 4,
  "nbformat_minor": 0,
  "metadata": {
    "colab": {
      "provenance": [],
      "authorship_tag": "ABX9TyPsv82t1ApjXpnJtoWgdowp",
      "include_colab_link": true
    },
    "kernelspec": {
      "name": "python3",
      "display_name": "Python 3"
    },
    "language_info": {
      "name": "python"
    }
  },
  "cells": [
    {
      "cell_type": "markdown",
      "metadata": {
        "id": "view-in-github",
        "colab_type": "text"
      },
      "source": [
        "<a href=\"https://colab.research.google.com/github/ychoi-kr/LLM-API/blob/main/langchain/LCEL.ipynb\" target=\"_parent\"><img src=\"https://colab.research.google.com/assets/colab-badge.svg\" alt=\"Open In Colab\"/></a>"
      ]
    },
    {
      "cell_type": "code",
      "execution_count": 1,
      "metadata": {
        "colab": {
          "base_uri": "https://localhost:8080/"
        },
        "id": "5georPgN1Lqe",
        "outputId": "931185c7-da85-4824-8e26-55c9b2c9da0f"
      },
      "outputs": [
        {
          "output_type": "stream",
          "name": "stdout",
          "text": [
            "Collecting langchain-core\n",
            "  Downloading langchain_core-0.1.52-py3-none-any.whl (302 kB)\n",
            "\u001b[2K     \u001b[90m━━━━━━━━━━━━━━━━━━━━━━━━━━━━━━━━━━━━━━━━\u001b[0m \u001b[32m302.9/302.9 kB\u001b[0m \u001b[31m3.4 MB/s\u001b[0m eta \u001b[36m0:00:00\u001b[0m\n",
            "\u001b[?25hCollecting langchain-openai\n",
            "  Downloading langchain_openai-0.1.6-py3-none-any.whl (34 kB)\n",
            "Requirement already satisfied: PyYAML>=5.3 in /usr/local/lib/python3.10/dist-packages (from langchain-core) (6.0.1)\n",
            "Collecting jsonpatch<2.0,>=1.33 (from langchain-core)\n",
            "  Downloading jsonpatch-1.33-py2.py3-none-any.whl (12 kB)\n",
            "Collecting langsmith<0.2.0,>=0.1.0 (from langchain-core)\n",
            "  Downloading langsmith-0.1.57-py3-none-any.whl (121 kB)\n",
            "\u001b[2K     \u001b[90m━━━━━━━━━━━━━━━━━━━━━━━━━━━━━━━━━━━━━━━━\u001b[0m \u001b[32m121.0/121.0 kB\u001b[0m \u001b[31m9.4 MB/s\u001b[0m eta \u001b[36m0:00:00\u001b[0m\n",
            "\u001b[?25hCollecting packaging<24.0,>=23.2 (from langchain-core)\n",
            "  Downloading packaging-23.2-py3-none-any.whl (53 kB)\n",
            "\u001b[2K     \u001b[90m━━━━━━━━━━━━━━━━━━━━━━━━━━━━━━━━━━━━━━━━\u001b[0m \u001b[32m53.0/53.0 kB\u001b[0m \u001b[31m4.6 MB/s\u001b[0m eta \u001b[36m0:00:00\u001b[0m\n",
            "\u001b[?25hRequirement already satisfied: pydantic<3,>=1 in /usr/local/lib/python3.10/dist-packages (from langchain-core) (2.7.1)\n",
            "Requirement already satisfied: tenacity<9.0.0,>=8.1.0 in /usr/local/lib/python3.10/dist-packages (from langchain-core) (8.3.0)\n",
            "Collecting openai<2.0.0,>=1.24.0 (from langchain-openai)\n",
            "  Downloading openai-1.30.1-py3-none-any.whl (320 kB)\n",
            "\u001b[2K     \u001b[90m━━━━━━━━━━━━━━━━━━━━━━━━━━━━━━━━━━━━━━━━\u001b[0m \u001b[32m320.6/320.6 kB\u001b[0m \u001b[31m17.7 MB/s\u001b[0m eta \u001b[36m0:00:00\u001b[0m\n",
            "\u001b[?25hCollecting tiktoken<1,>=0.5.2 (from langchain-openai)\n",
            "  Downloading tiktoken-0.7.0-cp310-cp310-manylinux_2_17_x86_64.manylinux2014_x86_64.whl (1.1 MB)\n",
            "\u001b[2K     \u001b[90m━━━━━━━━━━━━━━━━━━━━━━━━━━━━━━━━━━━━━━━━\u001b[0m \u001b[32m1.1/1.1 MB\u001b[0m \u001b[31m21.7 MB/s\u001b[0m eta \u001b[36m0:00:00\u001b[0m\n",
            "\u001b[?25hCollecting jsonpointer>=1.9 (from jsonpatch<2.0,>=1.33->langchain-core)\n",
            "  Downloading jsonpointer-2.4-py2.py3-none-any.whl (7.8 kB)\n",
            "Collecting orjson<4.0.0,>=3.9.14 (from langsmith<0.2.0,>=0.1.0->langchain-core)\n",
            "  Downloading orjson-3.10.3-cp310-cp310-manylinux_2_17_x86_64.manylinux2014_x86_64.whl (142 kB)\n",
            "\u001b[2K     \u001b[90m━━━━━━━━━━━━━━━━━━━━━━━━━━━━━━━━━━━━━━━━\u001b[0m \u001b[32m142.5/142.5 kB\u001b[0m \u001b[31m1.4 MB/s\u001b[0m eta \u001b[36m0:00:00\u001b[0m\n",
            "\u001b[?25hRequirement already satisfied: requests<3,>=2 in /usr/local/lib/python3.10/dist-packages (from langsmith<0.2.0,>=0.1.0->langchain-core) (2.31.0)\n",
            "Requirement already satisfied: anyio<5,>=3.5.0 in /usr/local/lib/python3.10/dist-packages (from openai<2.0.0,>=1.24.0->langchain-openai) (3.7.1)\n",
            "Requirement already satisfied: distro<2,>=1.7.0 in /usr/lib/python3/dist-packages (from openai<2.0.0,>=1.24.0->langchain-openai) (1.7.0)\n",
            "Collecting httpx<1,>=0.23.0 (from openai<2.0.0,>=1.24.0->langchain-openai)\n",
            "  Downloading httpx-0.27.0-py3-none-any.whl (75 kB)\n",
            "\u001b[2K     \u001b[90m━━━━━━━━━━━━━━━━━━━━━━━━━━━━━━━━━━━━━━━━\u001b[0m \u001b[32m75.6/75.6 kB\u001b[0m \u001b[31m7.6 MB/s\u001b[0m eta \u001b[36m0:00:00\u001b[0m\n",
            "\u001b[?25hRequirement already satisfied: sniffio in /usr/local/lib/python3.10/dist-packages (from openai<2.0.0,>=1.24.0->langchain-openai) (1.3.1)\n",
            "Requirement already satisfied: tqdm>4 in /usr/local/lib/python3.10/dist-packages (from openai<2.0.0,>=1.24.0->langchain-openai) (4.66.4)\n",
            "Requirement already satisfied: typing-extensions<5,>=4.7 in /usr/local/lib/python3.10/dist-packages (from openai<2.0.0,>=1.24.0->langchain-openai) (4.11.0)\n",
            "Requirement already satisfied: annotated-types>=0.4.0 in /usr/local/lib/python3.10/dist-packages (from pydantic<3,>=1->langchain-core) (0.6.0)\n",
            "Requirement already satisfied: pydantic-core==2.18.2 in /usr/local/lib/python3.10/dist-packages (from pydantic<3,>=1->langchain-core) (2.18.2)\n",
            "Requirement already satisfied: regex>=2022.1.18 in /usr/local/lib/python3.10/dist-packages (from tiktoken<1,>=0.5.2->langchain-openai) (2023.12.25)\n",
            "Requirement already satisfied: idna>=2.8 in /usr/local/lib/python3.10/dist-packages (from anyio<5,>=3.5.0->openai<2.0.0,>=1.24.0->langchain-openai) (3.7)\n",
            "Requirement already satisfied: exceptiongroup in /usr/local/lib/python3.10/dist-packages (from anyio<5,>=3.5.0->openai<2.0.0,>=1.24.0->langchain-openai) (1.2.1)\n",
            "Requirement already satisfied: certifi in /usr/local/lib/python3.10/dist-packages (from httpx<1,>=0.23.0->openai<2.0.0,>=1.24.0->langchain-openai) (2024.2.2)\n",
            "Collecting httpcore==1.* (from httpx<1,>=0.23.0->openai<2.0.0,>=1.24.0->langchain-openai)\n",
            "  Downloading httpcore-1.0.5-py3-none-any.whl (77 kB)\n",
            "\u001b[2K     \u001b[90m━━━━━━━━━━━━━━━━━━━━━━━━━━━━━━━━━━━━━━━━\u001b[0m \u001b[32m77.9/77.9 kB\u001b[0m \u001b[31m4.6 MB/s\u001b[0m eta \u001b[36m0:00:00\u001b[0m\n",
            "\u001b[?25hCollecting h11<0.15,>=0.13 (from httpcore==1.*->httpx<1,>=0.23.0->openai<2.0.0,>=1.24.0->langchain-openai)\n",
            "  Downloading h11-0.14.0-py3-none-any.whl (58 kB)\n",
            "\u001b[2K     \u001b[90m━━━━━━━━━━━━━━━━━━━━━━━━━━━━━━━━━━━━━━━━\u001b[0m \u001b[32m58.3/58.3 kB\u001b[0m \u001b[31m5.4 MB/s\u001b[0m eta \u001b[36m0:00:00\u001b[0m\n",
            "\u001b[?25hRequirement already satisfied: charset-normalizer<4,>=2 in /usr/local/lib/python3.10/dist-packages (from requests<3,>=2->langsmith<0.2.0,>=0.1.0->langchain-core) (3.3.2)\n",
            "Requirement already satisfied: urllib3<3,>=1.21.1 in /usr/local/lib/python3.10/dist-packages (from requests<3,>=2->langsmith<0.2.0,>=0.1.0->langchain-core) (2.0.7)\n",
            "Installing collected packages: packaging, orjson, jsonpointer, h11, tiktoken, jsonpatch, httpcore, langsmith, httpx, openai, langchain-core, langchain-openai\n",
            "  Attempting uninstall: packaging\n",
            "    Found existing installation: packaging 24.0\n",
            "    Uninstalling packaging-24.0:\n",
            "      Successfully uninstalled packaging-24.0\n",
            "Successfully installed h11-0.14.0 httpcore-1.0.5 httpx-0.27.0 jsonpatch-1.33 jsonpointer-2.4 langchain-core-0.1.52 langchain-openai-0.1.6 langsmith-0.1.57 openai-1.30.1 orjson-3.10.3 packaging-23.2 tiktoken-0.7.0\n"
          ]
        }
      ],
      "source": [
        "!pip install langchain-core langchain-openai"
      ]
    },
    {
      "cell_type": "code",
      "source": [
        "from langchain_openai import ChatOpenAI\n",
        "from langchain_core.prompts import ChatPromptTemplate\n",
        "from langchain_core.output_parsers import StrOutputParser\n",
        "from langchain_core.runnables import RunnablePassthrough"
      ],
      "metadata": {
        "id": "Z2uEnMUe1ZzX"
      },
      "execution_count": 2,
      "outputs": []
    },
    {
      "cell_type": "code",
      "source": [
        "from google.colab import userdata\n",
        "openai_api_key = userdata.get('OPENAI_API_KEY')"
      ],
      "metadata": {
        "id": "pURrRTYs4vCf"
      },
      "execution_count": 3,
      "outputs": []
    },
    {
      "cell_type": "code",
      "source": [
        "prompt = ChatPromptTemplate.from_template(\"{word}을 주제로 시를 써줘.\")"
      ],
      "metadata": {
        "id": "_s5HOwLj1dK3"
      },
      "execution_count": 4,
      "outputs": []
    },
    {
      "cell_type": "code",
      "source": [
        "output_parser = StrOutputParser()"
      ],
      "metadata": {
        "id": "1YLIWOcT1pu7"
      },
      "execution_count": 5,
      "outputs": []
    },
    {
      "cell_type": "code",
      "source": [
        "model1 = ChatOpenAI(\n",
        "    openai_api_key=openai_api_key,\n",
        "    model=\"gpt-3.5-turbo\"\n",
        ")"
      ],
      "metadata": {
        "id": "AVpJuqDd1hqf"
      },
      "execution_count": 9,
      "outputs": []
    },
    {
      "cell_type": "code",
      "source": [
        "chain1 = (\n",
        "    {\"word\": RunnablePassthrough()}\n",
        "    | prompt\n",
        "    | model1\n",
        "    | output_parser\n",
        ")"
      ],
      "metadata": {
        "id": "1XhU3CH01OtD"
      },
      "execution_count": 10,
      "outputs": []
    },
    {
      "cell_type": "code",
      "source": [
        "print(chain1.invoke(\"랭체인\"))"
      ],
      "metadata": {
        "colab": {
          "base_uri": "https://localhost:8080/"
        },
        "id": "Gb-LXc9B1wAT",
        "outputId": "e1737c4d-85ef-4909-a4b8-ee3947d4f856"
      },
      "execution_count": 11,
      "outputs": [
        {
          "output_type": "stream",
          "name": "stdout",
          "text": [
            "랭체인은 새로운 세상이야\n",
            "블록체인과 결합한 혁신의 힘을 가진\n",
            "거대한 네트워크가 우리를 이끌어\n",
            "정보의 투명성과 신뢰를 만들어 가는 중\n",
            "\n",
            "분산화된 시스템으로 우리는\n",
            "보다 안전하고 효율적인 세계를 꿈꾸며\n",
            "랭체인이 주는 가능성 속에\n",
            "우리의 미래가 열리고 있는 거야\n",
            "\n",
            "블록체인 기술을 더욱 발전시켜\n",
            "인류의 발전을 이끄는 역할을 하며\n",
            "랭체인은 우리에게 새로운 가치를 주고\n",
            "더 나은 세상을 만들어 가는 길을 보여주고 있어.\n"
          ]
        }
      ]
    },
    {
      "cell_type": "code",
      "source": [
        "chain1.batch([\"파이썬\", \"오픈에이아이\", \"랭체인\"])"
      ],
      "metadata": {
        "colab": {
          "base_uri": "https://localhost:8080/"
        },
        "id": "TR9rwYDi2nid",
        "outputId": "57aa8e5d-bade-4c25-f7e4-ff9e7a91b922"
      },
      "execution_count": 12,
      "outputs": [
        {
          "output_type": "execute_result",
          "data": {
            "text/plain": [
              "['파이썬의 코드는 말처럼 부드럽고,\\n끝없는 노력으로 빛을 발하고.\\n프로그래밍의 세계를 열어주는,\\n파이썬이여 너는 참으로 위대하구나.\\n\\n변수와 함수가 춤을 추며,\\n알고리즘의 퍼즐을 맞추며.\\n파이썬의 세계에 빠져든다면,\\n끝없는 재미와 도전이 기다린다. \\n\\n그러나 주의하라, 실수는 적지만 치명적이다.\\n인내와 노력이 필요하다는 것을 잊지마.\\n파이썬의 세계는 무한한 가능성을 갖추고 있지만,\\n그 모든 것을 이해하고 다루는 것은 우리의 몫이다. \\n\\n파이썬이란 이름은 뱀을 뜻하지만,\\n그 뱀처럼 우리를 유혹하고 이끌어주는.\\n파이썬의 세계에 빠져든다면,\\n새로운 지식과 경험을 만날 것이다. \\n\\n파이썬아, 너의 빛을 받들어,\\n우리는 계속해서 배우고 성장할 것이다.\\n프로그래밍의 세계에 빠져든 우리에게,\\n파이썬은 끝없는 모험과 발견의 여정이다.',\n",
              " '무한한 가능성을 품은 오픈에이아이\\n세상을 밝히는 빛처럼 빛난다\\n새로운 혁신을 위한 도전\\n끝없는 발전을 꿈꾼다\\n\\n자유로운 아이디어가 춤을 추며\\n새로운 길을 열어간다\\n세상을 변화시키는 힘을 가진\\n오픈에이아이여, 우리의 미래를 밝혀라.',\n",
              " '랭체인은 끝없이 펼쳐지는 세계\\n끊임없이 변화하는 그 모습은 마치 파도\\n놀이공원처럼 다채로운 색채들이\\n사람들의 눈을 사로잡아 놓지 않는다\\n\\n각양각색의 즐거움이 넘치는 곳\\n소중한 추억을 만들어주는 마법의 랭체인\\n함께하는 이들의 소리가 어우러져\\n한결같은 행복을 안겨주는 곳\\n\\n랭체인은 우리 모두의 꿈이 담긴 곳\\n언제나 함께 할 수 있는 나의 소중한 장소\\n끝없이 이어지는 그 길 위에\\n함께 걸어가는 이들과 함께라면\\n\\n랭체인은 우리의 희망과 사랑이 있는 곳\\n끝없는 여정을 함께하는 그 곳\\n함께하는 이들과 함께라면\\n랭체인은 우리 모두의 소중한 곳.']"
            ]
          },
          "metadata": {},
          "execution_count": 12
        }
      ]
    },
    {
      "cell_type": "code",
      "source": [
        "model2 = ChatOpenAI(\n",
        "    openai_api_key=openai_api_key,\n",
        "    model=\"gpt-4o\"\n",
        ")"
      ],
      "metadata": {
        "id": "UBRdh4aY2_6a"
      },
      "execution_count": 14,
      "outputs": []
    },
    {
      "cell_type": "code",
      "source": [
        "chain2 = (\n",
        "    {\"word\": RunnablePassthrough()}\n",
        "    | prompt\n",
        "    | model2\n",
        "    | output_parser\n",
        ")"
      ],
      "metadata": {
        "id": "X-KYiJ805Qu8"
      },
      "execution_count": 15,
      "outputs": []
    },
    {
      "cell_type": "code",
      "source": [
        "print(chain2.invoke(\"랭체인\"))"
      ],
      "metadata": {
        "colab": {
          "base_uri": "https://localhost:8080/"
        },
        "id": "LgWppnLM5Uup",
        "outputId": "c856fd63-2076-4fe2-83ca-c0fc4770e3ee"
      },
      "execution_count": 16,
      "outputs": [
        {
          "output_type": "stream",
          "name": "stdout",
          "text": [
            "랭체인의 세계, 신비로 가득 찬,\n",
            "코드의 선율이 그 속에서 반짝인다.\n",
            "디지털 무대 위, 데이터의 춤,\n",
            "그 속에서 진리가 밝게 빛난다.\n",
            "\n",
            "비트와 바이트, 그 사이의 흐름,\n",
            "수많은 연결, 그 끝없는 흐름.\n",
            "암호화된 문장, 해독의 열쇠,\n",
            "랭체인의 길, 그 끝없는 여정.\n",
            "\n",
            "블록마다 새겨진 신뢰와 기록,\n",
            "변경할 수 없는 진실의 복도.\n",
            "투명한 장막, 그 속의 비밀,\n",
            "모든 것은 여기, 시간 속의 입자.\n",
            "\n",
            "분산된 곳곳에, 자유의 숨결,\n",
            "중앙 없는 세상, 새로운 규칙.\n",
            "협력의 손길, 그 끝없는 연결,\n",
            "랭체인의 길, 함께 걷는 자들.\n",
            "\n",
            "미래의 풍경, 그 안에 담긴 꿈,\n",
            "데이터의 바다, 그 속의 일출.\n",
            "랭체인의 빛, 그 빛을 따라가며,\n",
            "우리는 함께, 새로운 길을 만든다.\n"
          ]
        }
      ]
    }
  ]
}